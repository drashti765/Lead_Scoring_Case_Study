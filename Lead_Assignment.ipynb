{
  "nbformat": 4,
  "nbformat_minor": 0,
  "metadata": {
    "colab": {
      "provenance": []
    },
    "kernelspec": {
      "name": "python3",
      "display_name": "Python 3"
    },
    "language_info": {
      "name": "python"
    }
  },
  "cells": [
    {
      "cell_type": "code",
      "execution_count": 1,
      "metadata": {
        "id": "Njq_nZGsCkZK"
      },
      "outputs": [],
      "source": [
        "import pandas as pd\n",
        "import numpy as np\n",
        "import warnings\n",
        "warnings.filterwarnings('ignore')\n",
        "import matplotlib.pyplot as plt\n",
        "import seaborn as sns"
      ]
    },
    {
      "cell_type": "code",
      "source": [
        "from google.colab import files\n",
        "uploaded = files.upload()"
      ],
      "metadata": {
        "colab": {
          "base_uri": "https://localhost:8080/",
          "height": 73
        },
        "id": "-WKZDo_OCvDH",
        "outputId": "a280aac4-d739-4009-fbc2-81431c0fb1e5"
      },
      "execution_count": 2,
      "outputs": [
        {
          "output_type": "display_data",
          "data": {
            "text/plain": [
              "<IPython.core.display.HTML object>"
            ],
            "text/html": [
              "\n",
              "     <input type=\"file\" id=\"files-c6132432-cd01-4c87-82b2-d0dd874ceeb1\" name=\"files[]\" multiple disabled\n",
              "        style=\"border:none\" />\n",
              "     <output id=\"result-c6132432-cd01-4c87-82b2-d0dd874ceeb1\">\n",
              "      Upload widget is only available when the cell has been executed in the\n",
              "      current browser session. Please rerun this cell to enable.\n",
              "      </output>\n",
              "      <script>// Copyright 2017 Google LLC\n",
              "//\n",
              "// Licensed under the Apache License, Version 2.0 (the \"License\");\n",
              "// you may not use this file except in compliance with the License.\n",
              "// You may obtain a copy of the License at\n",
              "//\n",
              "//      http://www.apache.org/licenses/LICENSE-2.0\n",
              "//\n",
              "// Unless required by applicable law or agreed to in writing, software\n",
              "// distributed under the License is distributed on an \"AS IS\" BASIS,\n",
              "// WITHOUT WARRANTIES OR CONDITIONS OF ANY KIND, either express or implied.\n",
              "// See the License for the specific language governing permissions and\n",
              "// limitations under the License.\n",
              "\n",
              "/**\n",
              " * @fileoverview Helpers for google.colab Python module.\n",
              " */\n",
              "(function(scope) {\n",
              "function span(text, styleAttributes = {}) {\n",
              "  const element = document.createElement('span');\n",
              "  element.textContent = text;\n",
              "  for (const key of Object.keys(styleAttributes)) {\n",
              "    element.style[key] = styleAttributes[key];\n",
              "  }\n",
              "  return element;\n",
              "}\n",
              "\n",
              "// Max number of bytes which will be uploaded at a time.\n",
              "const MAX_PAYLOAD_SIZE = 100 * 1024;\n",
              "\n",
              "function _uploadFiles(inputId, outputId) {\n",
              "  const steps = uploadFilesStep(inputId, outputId);\n",
              "  const outputElement = document.getElementById(outputId);\n",
              "  // Cache steps on the outputElement to make it available for the next call\n",
              "  // to uploadFilesContinue from Python.\n",
              "  outputElement.steps = steps;\n",
              "\n",
              "  return _uploadFilesContinue(outputId);\n",
              "}\n",
              "\n",
              "// This is roughly an async generator (not supported in the browser yet),\n",
              "// where there are multiple asynchronous steps and the Python side is going\n",
              "// to poll for completion of each step.\n",
              "// This uses a Promise to block the python side on completion of each step,\n",
              "// then passes the result of the previous step as the input to the next step.\n",
              "function _uploadFilesContinue(outputId) {\n",
              "  const outputElement = document.getElementById(outputId);\n",
              "  const steps = outputElement.steps;\n",
              "\n",
              "  const next = steps.next(outputElement.lastPromiseValue);\n",
              "  return Promise.resolve(next.value.promise).then((value) => {\n",
              "    // Cache the last promise value to make it available to the next\n",
              "    // step of the generator.\n",
              "    outputElement.lastPromiseValue = value;\n",
              "    return next.value.response;\n",
              "  });\n",
              "}\n",
              "\n",
              "/**\n",
              " * Generator function which is called between each async step of the upload\n",
              " * process.\n",
              " * @param {string} inputId Element ID of the input file picker element.\n",
              " * @param {string} outputId Element ID of the output display.\n",
              " * @return {!Iterable<!Object>} Iterable of next steps.\n",
              " */\n",
              "function* uploadFilesStep(inputId, outputId) {\n",
              "  const inputElement = document.getElementById(inputId);\n",
              "  inputElement.disabled = false;\n",
              "\n",
              "  const outputElement = document.getElementById(outputId);\n",
              "  outputElement.innerHTML = '';\n",
              "\n",
              "  const pickedPromise = new Promise((resolve) => {\n",
              "    inputElement.addEventListener('change', (e) => {\n",
              "      resolve(e.target.files);\n",
              "    });\n",
              "  });\n",
              "\n",
              "  const cancel = document.createElement('button');\n",
              "  inputElement.parentElement.appendChild(cancel);\n",
              "  cancel.textContent = 'Cancel upload';\n",
              "  const cancelPromise = new Promise((resolve) => {\n",
              "    cancel.onclick = () => {\n",
              "      resolve(null);\n",
              "    };\n",
              "  });\n",
              "\n",
              "  // Wait for the user to pick the files.\n",
              "  const files = yield {\n",
              "    promise: Promise.race([pickedPromise, cancelPromise]),\n",
              "    response: {\n",
              "      action: 'starting',\n",
              "    }\n",
              "  };\n",
              "\n",
              "  cancel.remove();\n",
              "\n",
              "  // Disable the input element since further picks are not allowed.\n",
              "  inputElement.disabled = true;\n",
              "\n",
              "  if (!files) {\n",
              "    return {\n",
              "      response: {\n",
              "        action: 'complete',\n",
              "      }\n",
              "    };\n",
              "  }\n",
              "\n",
              "  for (const file of files) {\n",
              "    const li = document.createElement('li');\n",
              "    li.append(span(file.name, {fontWeight: 'bold'}));\n",
              "    li.append(span(\n",
              "        `(${file.type || 'n/a'}) - ${file.size} bytes, ` +\n",
              "        `last modified: ${\n",
              "            file.lastModifiedDate ? file.lastModifiedDate.toLocaleDateString() :\n",
              "                                    'n/a'} - `));\n",
              "    const percent = span('0% done');\n",
              "    li.appendChild(percent);\n",
              "\n",
              "    outputElement.appendChild(li);\n",
              "\n",
              "    const fileDataPromise = new Promise((resolve) => {\n",
              "      const reader = new FileReader();\n",
              "      reader.onload = (e) => {\n",
              "        resolve(e.target.result);\n",
              "      };\n",
              "      reader.readAsArrayBuffer(file);\n",
              "    });\n",
              "    // Wait for the data to be ready.\n",
              "    let fileData = yield {\n",
              "      promise: fileDataPromise,\n",
              "      response: {\n",
              "        action: 'continue',\n",
              "      }\n",
              "    };\n",
              "\n",
              "    // Use a chunked sending to avoid message size limits. See b/62115660.\n",
              "    let position = 0;\n",
              "    do {\n",
              "      const length = Math.min(fileData.byteLength - position, MAX_PAYLOAD_SIZE);\n",
              "      const chunk = new Uint8Array(fileData, position, length);\n",
              "      position += length;\n",
              "\n",
              "      const base64 = btoa(String.fromCharCode.apply(null, chunk));\n",
              "      yield {\n",
              "        response: {\n",
              "          action: 'append',\n",
              "          file: file.name,\n",
              "          data: base64,\n",
              "        },\n",
              "      };\n",
              "\n",
              "      let percentDone = fileData.byteLength === 0 ?\n",
              "          100 :\n",
              "          Math.round((position / fileData.byteLength) * 100);\n",
              "      percent.textContent = `${percentDone}% done`;\n",
              "\n",
              "    } while (position < fileData.byteLength);\n",
              "  }\n",
              "\n",
              "  // All done.\n",
              "  yield {\n",
              "    response: {\n",
              "      action: 'complete',\n",
              "    }\n",
              "  };\n",
              "}\n",
              "\n",
              "scope.google = scope.google || {};\n",
              "scope.google.colab = scope.google.colab || {};\n",
              "scope.google.colab._files = {\n",
              "  _uploadFiles,\n",
              "  _uploadFilesContinue,\n",
              "};\n",
              "})(self);\n",
              "</script> "
            ]
          },
          "metadata": {}
        },
        {
          "output_type": "stream",
          "name": "stdout",
          "text": [
            "Saving Leads.csv to Leads.csv\n"
          ]
        }
      ]
    },
    {
      "cell_type": "code",
      "source": [
        "import io\n",
        " \n",
        "Lead_data = pd.read_csv(io.BytesIO(uploaded['Leads.csv']))\n",
        "Lead_data.describe()"
      ],
      "metadata": {
        "colab": {
          "base_uri": "https://localhost:8080/",
          "height": 362
        },
        "id": "1P7nf0y8DBVG",
        "outputId": "89db27b6-5bf1-401c-eb8a-060e86445c4c"
      },
      "execution_count": 7,
      "outputs": [
        {
          "output_type": "execute_result",
          "data": {
            "text/plain": [
              "         Lead Number    Converted  TotalVisits  Total Time Spent on Website  \\\n",
              "count    9240.000000  9240.000000  9103.000000                  9240.000000   \n",
              "mean   617188.435606     0.385390     3.445238                   487.698268   \n",
              "std     23405.995698     0.486714     4.854853                   548.021466   \n",
              "min    579533.000000     0.000000     0.000000                     0.000000   \n",
              "25%    596484.500000     0.000000     1.000000                    12.000000   \n",
              "50%    615479.000000     0.000000     3.000000                   248.000000   \n",
              "75%    637387.250000     1.000000     5.000000                   936.000000   \n",
              "max    660737.000000     1.000000   251.000000                  2272.000000   \n",
              "\n",
              "       Page Views Per Visit  Asymmetrique Activity Score  \\\n",
              "count           9103.000000                  5022.000000   \n",
              "mean               2.362820                    14.306252   \n",
              "std                2.161418                     1.386694   \n",
              "min                0.000000                     7.000000   \n",
              "25%                1.000000                    14.000000   \n",
              "50%                2.000000                    14.000000   \n",
              "75%                3.000000                    15.000000   \n",
              "max               55.000000                    18.000000   \n",
              "\n",
              "       Asymmetrique Profile Score  \n",
              "count                 5022.000000  \n",
              "mean                    16.344883  \n",
              "std                      1.811395  \n",
              "min                     11.000000  \n",
              "25%                     15.000000  \n",
              "50%                     16.000000  \n",
              "75%                     18.000000  \n",
              "max                     20.000000  "
            ],
            "text/html": [
              "\n",
              "  <div id=\"df-9f79d907-eed3-47d7-8343-02e945b99236\">\n",
              "    <div class=\"colab-df-container\">\n",
              "      <div>\n",
              "<style scoped>\n",
              "    .dataframe tbody tr th:only-of-type {\n",
              "        vertical-align: middle;\n",
              "    }\n",
              "\n",
              "    .dataframe tbody tr th {\n",
              "        vertical-align: top;\n",
              "    }\n",
              "\n",
              "    .dataframe thead th {\n",
              "        text-align: right;\n",
              "    }\n",
              "</style>\n",
              "<table border=\"1\" class=\"dataframe\">\n",
              "  <thead>\n",
              "    <tr style=\"text-align: right;\">\n",
              "      <th></th>\n",
              "      <th>Lead Number</th>\n",
              "      <th>Converted</th>\n",
              "      <th>TotalVisits</th>\n",
              "      <th>Total Time Spent on Website</th>\n",
              "      <th>Page Views Per Visit</th>\n",
              "      <th>Asymmetrique Activity Score</th>\n",
              "      <th>Asymmetrique Profile Score</th>\n",
              "    </tr>\n",
              "  </thead>\n",
              "  <tbody>\n",
              "    <tr>\n",
              "      <th>count</th>\n",
              "      <td>9240.000000</td>\n",
              "      <td>9240.000000</td>\n",
              "      <td>9103.000000</td>\n",
              "      <td>9240.000000</td>\n",
              "      <td>9103.000000</td>\n",
              "      <td>5022.000000</td>\n",
              "      <td>5022.000000</td>\n",
              "    </tr>\n",
              "    <tr>\n",
              "      <th>mean</th>\n",
              "      <td>617188.435606</td>\n",
              "      <td>0.385390</td>\n",
              "      <td>3.445238</td>\n",
              "      <td>487.698268</td>\n",
              "      <td>2.362820</td>\n",
              "      <td>14.306252</td>\n",
              "      <td>16.344883</td>\n",
              "    </tr>\n",
              "    <tr>\n",
              "      <th>std</th>\n",
              "      <td>23405.995698</td>\n",
              "      <td>0.486714</td>\n",
              "      <td>4.854853</td>\n",
              "      <td>548.021466</td>\n",
              "      <td>2.161418</td>\n",
              "      <td>1.386694</td>\n",
              "      <td>1.811395</td>\n",
              "    </tr>\n",
              "    <tr>\n",
              "      <th>min</th>\n",
              "      <td>579533.000000</td>\n",
              "      <td>0.000000</td>\n",
              "      <td>0.000000</td>\n",
              "      <td>0.000000</td>\n",
              "      <td>0.000000</td>\n",
              "      <td>7.000000</td>\n",
              "      <td>11.000000</td>\n",
              "    </tr>\n",
              "    <tr>\n",
              "      <th>25%</th>\n",
              "      <td>596484.500000</td>\n",
              "      <td>0.000000</td>\n",
              "      <td>1.000000</td>\n",
              "      <td>12.000000</td>\n",
              "      <td>1.000000</td>\n",
              "      <td>14.000000</td>\n",
              "      <td>15.000000</td>\n",
              "    </tr>\n",
              "    <tr>\n",
              "      <th>50%</th>\n",
              "      <td>615479.000000</td>\n",
              "      <td>0.000000</td>\n",
              "      <td>3.000000</td>\n",
              "      <td>248.000000</td>\n",
              "      <td>2.000000</td>\n",
              "      <td>14.000000</td>\n",
              "      <td>16.000000</td>\n",
              "    </tr>\n",
              "    <tr>\n",
              "      <th>75%</th>\n",
              "      <td>637387.250000</td>\n",
              "      <td>1.000000</td>\n",
              "      <td>5.000000</td>\n",
              "      <td>936.000000</td>\n",
              "      <td>3.000000</td>\n",
              "      <td>15.000000</td>\n",
              "      <td>18.000000</td>\n",
              "    </tr>\n",
              "    <tr>\n",
              "      <th>max</th>\n",
              "      <td>660737.000000</td>\n",
              "      <td>1.000000</td>\n",
              "      <td>251.000000</td>\n",
              "      <td>2272.000000</td>\n",
              "      <td>55.000000</td>\n",
              "      <td>18.000000</td>\n",
              "      <td>20.000000</td>\n",
              "    </tr>\n",
              "  </tbody>\n",
              "</table>\n",
              "</div>\n",
              "      <button class=\"colab-df-convert\" onclick=\"convertToInteractive('df-9f79d907-eed3-47d7-8343-02e945b99236')\"\n",
              "              title=\"Convert this dataframe to an interactive table.\"\n",
              "              style=\"display:none;\">\n",
              "        \n",
              "  <svg xmlns=\"http://www.w3.org/2000/svg\" height=\"24px\"viewBox=\"0 0 24 24\"\n",
              "       width=\"24px\">\n",
              "    <path d=\"M0 0h24v24H0V0z\" fill=\"none\"/>\n",
              "    <path d=\"M18.56 5.44l.94 2.06.94-2.06 2.06-.94-2.06-.94-.94-2.06-.94 2.06-2.06.94zm-11 1L8.5 8.5l.94-2.06 2.06-.94-2.06-.94L8.5 2.5l-.94 2.06-2.06.94zm10 10l.94 2.06.94-2.06 2.06-.94-2.06-.94-.94-2.06-.94 2.06-2.06.94z\"/><path d=\"M17.41 7.96l-1.37-1.37c-.4-.4-.92-.59-1.43-.59-.52 0-1.04.2-1.43.59L10.3 9.45l-7.72 7.72c-.78.78-.78 2.05 0 2.83L4 21.41c.39.39.9.59 1.41.59.51 0 1.02-.2 1.41-.59l7.78-7.78 2.81-2.81c.8-.78.8-2.07 0-2.86zM5.41 20L4 18.59l7.72-7.72 1.47 1.35L5.41 20z\"/>\n",
              "  </svg>\n",
              "      </button>\n",
              "      \n",
              "  <style>\n",
              "    .colab-df-container {\n",
              "      display:flex;\n",
              "      flex-wrap:wrap;\n",
              "      gap: 12px;\n",
              "    }\n",
              "\n",
              "    .colab-df-convert {\n",
              "      background-color: #E8F0FE;\n",
              "      border: none;\n",
              "      border-radius: 50%;\n",
              "      cursor: pointer;\n",
              "      display: none;\n",
              "      fill: #1967D2;\n",
              "      height: 32px;\n",
              "      padding: 0 0 0 0;\n",
              "      width: 32px;\n",
              "    }\n",
              "\n",
              "    .colab-df-convert:hover {\n",
              "      background-color: #E2EBFA;\n",
              "      box-shadow: 0px 1px 2px rgba(60, 64, 67, 0.3), 0px 1px 3px 1px rgba(60, 64, 67, 0.15);\n",
              "      fill: #174EA6;\n",
              "    }\n",
              "\n",
              "    [theme=dark] .colab-df-convert {\n",
              "      background-color: #3B4455;\n",
              "      fill: #D2E3FC;\n",
              "    }\n",
              "\n",
              "    [theme=dark] .colab-df-convert:hover {\n",
              "      background-color: #434B5C;\n",
              "      box-shadow: 0px 1px 3px 1px rgba(0, 0, 0, 0.15);\n",
              "      filter: drop-shadow(0px 1px 2px rgba(0, 0, 0, 0.3));\n",
              "      fill: #FFFFFF;\n",
              "    }\n",
              "  </style>\n",
              "\n",
              "      <script>\n",
              "        const buttonEl =\n",
              "          document.querySelector('#df-9f79d907-eed3-47d7-8343-02e945b99236 button.colab-df-convert');\n",
              "        buttonEl.style.display =\n",
              "          google.colab.kernel.accessAllowed ? 'block' : 'none';\n",
              "\n",
              "        async function convertToInteractive(key) {\n",
              "          const element = document.querySelector('#df-9f79d907-eed3-47d7-8343-02e945b99236');\n",
              "          const dataTable =\n",
              "            await google.colab.kernel.invokeFunction('convertToInteractive',\n",
              "                                                     [key], {});\n",
              "          if (!dataTable) return;\n",
              "\n",
              "          const docLinkHtml = 'Like what you see? Visit the ' +\n",
              "            '<a target=\"_blank\" href=https://colab.research.google.com/notebooks/data_table.ipynb>data table notebook</a>'\n",
              "            + ' to learn more about interactive tables.';\n",
              "          element.innerHTML = '';\n",
              "          dataTable['output_type'] = 'display_data';\n",
              "          await google.colab.output.renderOutput(dataTable, element);\n",
              "          const docLink = document.createElement('div');\n",
              "          docLink.innerHTML = docLinkHtml;\n",
              "          element.appendChild(docLink);\n",
              "        }\n",
              "      </script>\n",
              "    </div>\n",
              "  </div>\n",
              "  "
            ]
          },
          "metadata": {},
          "execution_count": 7
        }
      ]
    },
    {
      "cell_type": "code",
      "source": [
        "Lead_data.info()"
      ],
      "metadata": {
        "colab": {
          "base_uri": "https://localhost:8080/"
        },
        "id": "ATw1Fh1RDPHK",
        "outputId": "8ca2f570-e117-4bbf-cc86-9ed39003b491"
      },
      "execution_count": 8,
      "outputs": [
        {
          "output_type": "stream",
          "name": "stdout",
          "text": [
            "<class 'pandas.core.frame.DataFrame'>\n",
            "RangeIndex: 9240 entries, 0 to 9239\n",
            "Data columns (total 37 columns):\n",
            " #   Column                                         Non-Null Count  Dtype  \n",
            "---  ------                                         --------------  -----  \n",
            " 0   Prospect ID                                    9240 non-null   object \n",
            " 1   Lead Number                                    9240 non-null   int64  \n",
            " 2   Lead Origin                                    9240 non-null   object \n",
            " 3   Lead Source                                    9204 non-null   object \n",
            " 4   Do Not Email                                   9240 non-null   object \n",
            " 5   Do Not Call                                    9240 non-null   object \n",
            " 6   Converted                                      9240 non-null   int64  \n",
            " 7   TotalVisits                                    9103 non-null   float64\n",
            " 8   Total Time Spent on Website                    9240 non-null   int64  \n",
            " 9   Page Views Per Visit                           9103 non-null   float64\n",
            " 10  Last Activity                                  9137 non-null   object \n",
            " 11  Country                                        6779 non-null   object \n",
            " 12  Specialization                                 7802 non-null   object \n",
            " 13  How did you hear about X Education             7033 non-null   object \n",
            " 14  What is your current occupation                6550 non-null   object \n",
            " 15  What matters most to you in choosing a course  6531 non-null   object \n",
            " 16  Search                                         9240 non-null   object \n",
            " 17  Magazine                                       9240 non-null   object \n",
            " 18  Newspaper Article                              9240 non-null   object \n",
            " 19  X Education Forums                             9240 non-null   object \n",
            " 20  Newspaper                                      9240 non-null   object \n",
            " 21  Digital Advertisement                          9240 non-null   object \n",
            " 22  Through Recommendations                        9240 non-null   object \n",
            " 23  Receive More Updates About Our Courses         9240 non-null   object \n",
            " 24  Tags                                           5887 non-null   object \n",
            " 25  Lead Quality                                   4473 non-null   object \n",
            " 26  Update me on Supply Chain Content              9240 non-null   object \n",
            " 27  Get updates on DM Content                      9240 non-null   object \n",
            " 28  Lead Profile                                   6531 non-null   object \n",
            " 29  City                                           7820 non-null   object \n",
            " 30  Asymmetrique Activity Index                    5022 non-null   object \n",
            " 31  Asymmetrique Profile Index                     5022 non-null   object \n",
            " 32  Asymmetrique Activity Score                    5022 non-null   float64\n",
            " 33  Asymmetrique Profile Score                     5022 non-null   float64\n",
            " 34  I agree to pay the amount through cheque       9240 non-null   object \n",
            " 35  A free copy of Mastering The Interview         9240 non-null   object \n",
            " 36  Last Notable Activity                          9240 non-null   object \n",
            "dtypes: float64(4), int64(3), object(30)\n",
            "memory usage: 2.6+ MB\n"
          ]
        }
      ]
    },
    {
      "cell_type": "code",
      "source": [
        "Lead_data.shape"
      ],
      "metadata": {
        "colab": {
          "base_uri": "https://localhost:8080/"
        },
        "id": "xT-bDnPkDbXV",
        "outputId": "013cf61d-c4d3-4dfb-bab0-27a6883746aa"
      },
      "execution_count": 9,
      "outputs": [
        {
          "output_type": "execute_result",
          "data": {
            "text/plain": [
              "(9240, 37)"
            ]
          },
          "metadata": {},
          "execution_count": 9
        }
      ]
    },
    {
      "cell_type": "code",
      "source": [
        "# check for duplicate \n",
        "Lead_data.duplicated(subset = ['Prospect ID'], keep = False).sum()\n"
      ],
      "metadata": {
        "colab": {
          "base_uri": "https://localhost:8080/"
        },
        "id": "fe6eBDrcDfJi",
        "outputId": "7378c1ce-4460-49c4-c462-b68d5cac216f"
      },
      "execution_count": 10,
      "outputs": [
        {
          "output_type": "execute_result",
          "data": {
            "text/plain": [
              "0"
            ]
          },
          "metadata": {},
          "execution_count": 10
        }
      ]
    },
    {
      "cell_type": "code",
      "source": [
        "Lead_data.duplicated(subset = ['Lead Number'], keep = False).sum()"
      ],
      "metadata": {
        "colab": {
          "base_uri": "https://localhost:8080/"
        },
        "id": "14pBMmuFEMwG",
        "outputId": "73346e2a-033e-4e37-c6f6-81e2300ba821"
      },
      "execution_count": 11,
      "outputs": [
        {
          "output_type": "execute_result",
          "data": {
            "text/plain": [
              "0"
            ]
          },
          "metadata": {},
          "execution_count": 11
        }
      ]
    },
    {
      "cell_type": "markdown",
      "source": [
        "Data Cleaning & Treatment"
      ],
      "metadata": {
        "id": "T1gRbw0nEVbY"
      }
    },
    {
      "cell_type": "code",
      "source": [
        "#dropping Lead Number and Prospect ID since they have all unique values\n",
        "\n",
        "Lead_data.drop(['Prospect ID', 'Lead Number'], 1, inplace = True)"
      ],
      "metadata": {
        "id": "dhIqF_5vEOEO"
      },
      "execution_count": 13,
      "outputs": []
    },
    {
      "cell_type": "code",
      "source": [
        "#Converting 'Select' values to NaN.\n",
        "\n",
        "Lead_data = Lead_data.replace('Select', np.nan)"
      ],
      "metadata": {
        "id": "AuwgsPYaEZHi"
      },
      "execution_count": 14,
      "outputs": []
    },
    {
      "cell_type": "code",
      "source": [
        "Lead_data.nunique()"
      ],
      "metadata": {
        "colab": {
          "base_uri": "https://localhost:8080/"
        },
        "id": "yZf221idEdR-",
        "outputId": "8ba8e633-cbc6-4b15-903b-50b9756af565"
      },
      "execution_count": 15,
      "outputs": [
        {
          "output_type": "execute_result",
          "data": {
            "text/plain": [
              "Lead Origin                                         5\n",
              "Lead Source                                        21\n",
              "Do Not Email                                        2\n",
              "Do Not Call                                         2\n",
              "Converted                                           2\n",
              "TotalVisits                                        41\n",
              "Total Time Spent on Website                      1731\n",
              "Page Views Per Visit                              114\n",
              "Last Activity                                      17\n",
              "Country                                            38\n",
              "Specialization                                     18\n",
              "How did you hear about X Education                  9\n",
              "What is your current occupation                     6\n",
              "What matters most to you in choosing a course       3\n",
              "Search                                              2\n",
              "Magazine                                            1\n",
              "Newspaper Article                                   2\n",
              "X Education Forums                                  2\n",
              "Newspaper                                           2\n",
              "Digital Advertisement                               2\n",
              "Through Recommendations                             2\n",
              "Receive More Updates About Our Courses              1\n",
              "Tags                                               26\n",
              "Lead Quality                                        5\n",
              "Update me on Supply Chain Content                   1\n",
              "Get updates on DM Content                           1\n",
              "Lead Profile                                        5\n",
              "City                                                6\n",
              "Asymmetrique Activity Index                         3\n",
              "Asymmetrique Profile Index                          3\n",
              "Asymmetrique Activity Score                        12\n",
              "Asymmetrique Profile Score                         10\n",
              "I agree to pay the amount through cheque            1\n",
              "A free copy of Mastering The Interview              2\n",
              "Last Notable Activity                              16\n",
              "dtype: int64"
            ]
          },
          "metadata": {},
          "execution_count": 15
        }
      ]
    },
    {
      "cell_type": "code",
      "source": [
        "# Dropping unique valued columns\n",
        "Lead_data= Lead_data.drop(['Magazine','Receive More Updates About Our Courses','I agree to pay the amount through cheque','Get updates on DM Content','Update me on Supply Chain Content'],axis=1)"
      ],
      "metadata": {
        "id": "sjXWoGmJEeSV"
      },
      "execution_count": 16,
      "outputs": []
    },
    {
      "cell_type": "code",
      "source": [
        "#checking null values in each rows\n",
        "\n",
        "Lead_data.isnull().sum()"
      ],
      "metadata": {
        "colab": {
          "base_uri": "https://localhost:8080/"
        },
        "id": "XwsG4eBKEi_u",
        "outputId": "e3f3978f-d422-4b5c-c1eb-38c6af566649"
      },
      "execution_count": 17,
      "outputs": [
        {
          "output_type": "execute_result",
          "data": {
            "text/plain": [
              "Lead Origin                                         0\n",
              "Lead Source                                        36\n",
              "Do Not Email                                        0\n",
              "Do Not Call                                         0\n",
              "Converted                                           0\n",
              "TotalVisits                                       137\n",
              "Total Time Spent on Website                         0\n",
              "Page Views Per Visit                              137\n",
              "Last Activity                                     103\n",
              "Country                                          2461\n",
              "Specialization                                   3380\n",
              "How did you hear about X Education               7250\n",
              "What is your current occupation                  2690\n",
              "What matters most to you in choosing a course    2709\n",
              "Search                                              0\n",
              "Newspaper Article                                   0\n",
              "X Education Forums                                  0\n",
              "Newspaper                                           0\n",
              "Digital Advertisement                               0\n",
              "Through Recommendations                             0\n",
              "Tags                                             3353\n",
              "Lead Quality                                     4767\n",
              "Lead Profile                                     6855\n",
              "City                                             3669\n",
              "Asymmetrique Activity Index                      4218\n",
              "Asymmetrique Profile Index                       4218\n",
              "Asymmetrique Activity Score                      4218\n",
              "Asymmetrique Profile Score                       4218\n",
              "A free copy of Mastering The Interview              0\n",
              "Last Notable Activity                               0\n",
              "dtype: int64"
            ]
          },
          "metadata": {},
          "execution_count": 17
        }
      ]
    },
    {
      "cell_type": "code",
      "source": [
        "# % of null value\n",
        "round(100*(Lead_data.isnull().sum())/len(Lead_data.index),2)"
      ],
      "metadata": {
        "colab": {
          "base_uri": "https://localhost:8080/"
        },
        "id": "SGmGvY2PEkF6",
        "outputId": "84b2cbd8-29b5-4651-9e5b-cde4c9b4579b"
      },
      "execution_count": 18,
      "outputs": [
        {
          "output_type": "execute_result",
          "data": {
            "text/plain": [
              "Lead Origin                                       0.00\n",
              "Lead Source                                       0.39\n",
              "Do Not Email                                      0.00\n",
              "Do Not Call                                       0.00\n",
              "Converted                                         0.00\n",
              "TotalVisits                                       1.48\n",
              "Total Time Spent on Website                       0.00\n",
              "Page Views Per Visit                              1.48\n",
              "Last Activity                                     1.11\n",
              "Country                                          26.63\n",
              "Specialization                                   36.58\n",
              "How did you hear about X Education               78.46\n",
              "What is your current occupation                  29.11\n",
              "What matters most to you in choosing a course    29.32\n",
              "Search                                            0.00\n",
              "Newspaper Article                                 0.00\n",
              "X Education Forums                                0.00\n",
              "Newspaper                                         0.00\n",
              "Digital Advertisement                             0.00\n",
              "Through Recommendations                           0.00\n",
              "Tags                                             36.29\n",
              "Lead Quality                                     51.59\n",
              "Lead Profile                                     74.19\n",
              "City                                             39.71\n",
              "Asymmetrique Activity Index                      45.65\n",
              "Asymmetrique Profile Index                       45.65\n",
              "Asymmetrique Activity Score                      45.65\n",
              "Asymmetrique Profile Score                       45.65\n",
              "A free copy of Mastering The Interview            0.00\n",
              "Last Notable Activity                             0.00\n",
              "dtype: float64"
            ]
          },
          "metadata": {},
          "execution_count": 18
        }
      ]
    },
    {
      "cell_type": "code",
      "source": [
        "#dropping cols with more than 45% missing values\n",
        "\n",
        "Lead_data = Lead_data.drop(['Asymmetrique Profile Score','Asymmetrique Activity Score','Asymmetrique Profile Index','Asymmetrique Activity Index','Lead Profile','Lead Quality','How did you hear about X Education',],axis =1)"
      ],
      "metadata": {
        "id": "eHDDnFwHEoF4"
      },
      "execution_count": 19,
      "outputs": []
    },
    {
      "cell_type": "code",
      "source": [
        "Lead_data.shape"
      ],
      "metadata": {
        "colab": {
          "base_uri": "https://localhost:8080/"
        },
        "id": "2h1mbLRKErSL",
        "outputId": "d3025e15-c108-4f3e-9ec3-835bc5b89443"
      },
      "execution_count": 20,
      "outputs": [
        {
          "output_type": "execute_result",
          "data": {
            "text/plain": [
              "(9240, 23)"
            ]
          },
          "metadata": {},
          "execution_count": 20
        }
      ]
    },
    {
      "cell_type": "code",
      "source": [
        "#checking null values percentage\n",
        "\n",
        "round(100*(Lead_data.isnull().sum()/len(Lead_data.index)), 2)"
      ],
      "metadata": {
        "colab": {
          "base_uri": "https://localhost:8080/"
        },
        "id": "8ri4ealIEsip",
        "outputId": "f245e087-5232-4686-ea42-96c3e1c5be30"
      },
      "execution_count": 21,
      "outputs": [
        {
          "output_type": "execute_result",
          "data": {
            "text/plain": [
              "Lead Origin                                       0.00\n",
              "Lead Source                                       0.39\n",
              "Do Not Email                                      0.00\n",
              "Do Not Call                                       0.00\n",
              "Converted                                         0.00\n",
              "TotalVisits                                       1.48\n",
              "Total Time Spent on Website                       0.00\n",
              "Page Views Per Visit                              1.48\n",
              "Last Activity                                     1.11\n",
              "Country                                          26.63\n",
              "Specialization                                   36.58\n",
              "What is your current occupation                  29.11\n",
              "What matters most to you in choosing a course    29.32\n",
              "Search                                            0.00\n",
              "Newspaper Article                                 0.00\n",
              "X Education Forums                                0.00\n",
              "Newspaper                                         0.00\n",
              "Digital Advertisement                             0.00\n",
              "Through Recommendations                           0.00\n",
              "Tags                                             36.29\n",
              "City                                             39.71\n",
              "A free copy of Mastering The Interview            0.00\n",
              "Last Notable Activity                             0.00\n",
              "dtype: float64"
            ]
          },
          "metadata": {},
          "execution_count": 21
        }
      ]
    },
    {
      "cell_type": "code",
      "source": [
        "Lead_data['Specialization'] = Lead_data['Specialization'].fillna('not provided')\n",
        "Lead_data['City'] = Lead_data['City'].fillna('not provided')\n",
        "Lead_data['Tags'] = Lead_data['Tags'].fillna('not provided')\n",
        "Lead_data['What matters most to you in choosing a course'] = Lead_data['What matters most to you in choosing a course'].fillna('not provided')\n",
        "Lead_data['What is your current occupation'] = Lead_data['What is your current occupation'].fillna('not provided')\n",
        "Lead_data['Country'] = Lead_data['Country'].fillna('not provided')\n",
        "Lead_data.info()"
      ],
      "metadata": {
        "colab": {
          "base_uri": "https://localhost:8080/"
        },
        "id": "upcVC2ssEt8L",
        "outputId": "bfce9cda-557f-4c79-c363-3dc92b291fab"
      },
      "execution_count": 22,
      "outputs": [
        {
          "output_type": "stream",
          "name": "stdout",
          "text": [
            "<class 'pandas.core.frame.DataFrame'>\n",
            "RangeIndex: 9240 entries, 0 to 9239\n",
            "Data columns (total 23 columns):\n",
            " #   Column                                         Non-Null Count  Dtype  \n",
            "---  ------                                         --------------  -----  \n",
            " 0   Lead Origin                                    9240 non-null   object \n",
            " 1   Lead Source                                    9204 non-null   object \n",
            " 2   Do Not Email                                   9240 non-null   object \n",
            " 3   Do Not Call                                    9240 non-null   object \n",
            " 4   Converted                                      9240 non-null   int64  \n",
            " 5   TotalVisits                                    9103 non-null   float64\n",
            " 6   Total Time Spent on Website                    9240 non-null   int64  \n",
            " 7   Page Views Per Visit                           9103 non-null   float64\n",
            " 8   Last Activity                                  9137 non-null   object \n",
            " 9   Country                                        9240 non-null   object \n",
            " 10  Specialization                                 9240 non-null   object \n",
            " 11  What is your current occupation                9240 non-null   object \n",
            " 12  What matters most to you in choosing a course  9240 non-null   object \n",
            " 13  Search                                         9240 non-null   object \n",
            " 14  Newspaper Article                              9240 non-null   object \n",
            " 15  X Education Forums                             9240 non-null   object \n",
            " 16  Newspaper                                      9240 non-null   object \n",
            " 17  Digital Advertisement                          9240 non-null   object \n",
            " 18  Through Recommendations                        9240 non-null   object \n",
            " 19  Tags                                           9240 non-null   object \n",
            " 20  City                                           9240 non-null   object \n",
            " 21  A free copy of Mastering The Interview         9240 non-null   object \n",
            " 22  Last Notable Activity                          9240 non-null   object \n",
            "dtypes: float64(2), int64(2), object(19)\n",
            "memory usage: 1.6+ MB\n"
          ]
        }
      ]
    },
    {
      "cell_type": "code",
      "source": [
        "#checking null values percentage\n",
        "\n",
        "round(100*(Lead_data.isnull().sum()/len(Lead_data.index)), 2)"
      ],
      "metadata": {
        "colab": {
          "base_uri": "https://localhost:8080/"
        },
        "id": "-8ihqpGMEwD3",
        "outputId": "0ce01b24-0897-43a1-f9f6-c7674e4f7b5a"
      },
      "execution_count": 23,
      "outputs": [
        {
          "output_type": "execute_result",
          "data": {
            "text/plain": [
              "Lead Origin                                      0.00\n",
              "Lead Source                                      0.39\n",
              "Do Not Email                                     0.00\n",
              "Do Not Call                                      0.00\n",
              "Converted                                        0.00\n",
              "TotalVisits                                      1.48\n",
              "Total Time Spent on Website                      0.00\n",
              "Page Views Per Visit                             1.48\n",
              "Last Activity                                    1.11\n",
              "Country                                          0.00\n",
              "Specialization                                   0.00\n",
              "What is your current occupation                  0.00\n",
              "What matters most to you in choosing a course    0.00\n",
              "Search                                           0.00\n",
              "Newspaper Article                                0.00\n",
              "X Education Forums                               0.00\n",
              "Newspaper                                        0.00\n",
              "Digital Advertisement                            0.00\n",
              "Through Recommendations                          0.00\n",
              "Tags                                             0.00\n",
              "City                                             0.00\n",
              "A free copy of Mastering The Interview           0.00\n",
              "Last Notable Activity                            0.00\n",
              "dtype: float64"
            ]
          },
          "metadata": {},
          "execution_count": 23
        }
      ]
    },
    {
      "cell_type": "code",
      "source": [
        "Lead_data.shape"
      ],
      "metadata": {
        "colab": {
          "base_uri": "https://localhost:8080/"
        },
        "id": "Gxs7pOsLExrQ",
        "outputId": "aab8c61a-1fd3-4382-b0d6-726dfa7993d8"
      },
      "execution_count": 24,
      "outputs": [
        {
          "output_type": "execute_result",
          "data": {
            "text/plain": [
              "(9240, 23)"
            ]
          },
          "metadata": {},
          "execution_count": 24
        }
      ]
    },
    {
      "cell_type": "code",
      "source": [
        "Lead_data['Country'].value_counts()"
      ],
      "metadata": {
        "colab": {
          "base_uri": "https://localhost:8080/"
        },
        "id": "v_tH7sioEzDW",
        "outputId": "d589f6d4-3ca1-45f6-8862-e9fc13b5aa00"
      },
      "execution_count": 25,
      "outputs": [
        {
          "output_type": "execute_result",
          "data": {
            "text/plain": [
              "India                   6492\n",
              "not provided            2461\n",
              "United States             69\n",
              "United Arab Emirates      53\n",
              "Singapore                 24\n",
              "Saudi Arabia              21\n",
              "United Kingdom            15\n",
              "Australia                 13\n",
              "Qatar                     10\n",
              "Bahrain                    7\n",
              "Hong Kong                  7\n",
              "Oman                       6\n",
              "France                     6\n",
              "unknown                    5\n",
              "Kuwait                     4\n",
              "South Africa               4\n",
              "Canada                     4\n",
              "Nigeria                    4\n",
              "Germany                    4\n",
              "Sweden                     3\n",
              "Philippines                2\n",
              "Uganda                     2\n",
              "Italy                      2\n",
              "Bangladesh                 2\n",
              "Netherlands                2\n",
              "Asia/Pacific Region        2\n",
              "China                      2\n",
              "Belgium                    2\n",
              "Ghana                      2\n",
              "Kenya                      1\n",
              "Sri Lanka                  1\n",
              "Tanzania                   1\n",
              "Malaysia                   1\n",
              "Liberia                    1\n",
              "Switzerland                1\n",
              "Denmark                    1\n",
              "Russia                     1\n",
              "Vietnam                    1\n",
              "Indonesia                  1\n",
              "Name: Country, dtype: int64"
            ]
          },
          "metadata": {},
          "execution_count": 25
        }
      ]
    },
    {
      "cell_type": "code",
      "source": [
        "def slots(x):\n",
        "    category = \"\"\n",
        "    if x == \"India\":\n",
        "        category = \"India\"\n",
        "    elif x == \"not provided\":\n",
        "        category = \"not provided\"\n",
        "    else:\n",
        "        category = \"outside india\"\n",
        "    return category\n",
        "\n",
        "Lead_data['Country'] = Lead_data.apply(lambda x:slots(x['Country']), axis = 1)\n",
        "Lead_data['Country'].value_counts()"
      ],
      "metadata": {
        "colab": {
          "base_uri": "https://localhost:8080/"
        },
        "id": "nfVNf4D5E1C7",
        "outputId": "7e0c4228-c9c8-470a-f16d-0cca7939ece6"
      },
      "execution_count": 26,
      "outputs": [
        {
          "output_type": "execute_result",
          "data": {
            "text/plain": [
              "India            6492\n",
              "not provided     2461\n",
              "outside india     287\n",
              "Name: Country, dtype: int64"
            ]
          },
          "metadata": {},
          "execution_count": 26
        }
      ]
    },
    {
      "cell_type": "code",
      "source": [
        "# Since India is the most common occurence among the non-missing values we can impute all not provided values with India\n",
        "\n",
        "Lead_data['Country'] = Lead_data['Country'].replace('not provided','India')\n",
        "Lead_data['Country'].value_counts()"
      ],
      "metadata": {
        "colab": {
          "base_uri": "https://localhost:8080/"
        },
        "id": "a0Cz-PcrE2Ue",
        "outputId": "049dea7d-9139-4b46-948c-5fa29915ea35"
      },
      "execution_count": 27,
      "outputs": [
        {
          "output_type": "execute_result",
          "data": {
            "text/plain": [
              "India            8953\n",
              "outside india     287\n",
              "Name: Country, dtype: int64"
            ]
          },
          "metadata": {},
          "execution_count": 27
        }
      ]
    },
    {
      "cell_type": "code",
      "source": [
        "# Checking the percent of lose if the null values are removed\n",
        "round(100*(sum(Lead_data.isnull().sum(axis=1) > 1)/Lead_data.shape[0]),2)"
      ],
      "metadata": {
        "colab": {
          "base_uri": "https://localhost:8080/"
        },
        "id": "BIhtYKmIE4Bh",
        "outputId": "ecc4085b-4d36-4bd5-99a3-5b0bde229989"
      },
      "execution_count": 28,
      "outputs": [
        {
          "output_type": "execute_result",
          "data": {
            "text/plain": [
              "1.48"
            ]
          },
          "metadata": {},
          "execution_count": 28
        }
      ]
    },
    {
      "cell_type": "code",
      "source": [
        "Lead_data = Lead_data[Lead_data.isnull().sum(axis=1) <1]\n"
      ],
      "metadata": {
        "id": "-K7U1aa2E5HF"
      },
      "execution_count": 29,
      "outputs": []
    },
    {
      "cell_type": "code",
      "source": [
        "# Rechecking the percentage of missing values\n",
        "round(100*(Lead_data.isnull().sum()/len(Lead_data.index)), 2)"
      ],
      "metadata": {
        "colab": {
          "base_uri": "https://localhost:8080/"
        },
        "id": "lT9e3IzEE6XI",
        "outputId": "17f160a4-062c-4cd7-c9df-151191b33e70"
      },
      "execution_count": 30,
      "outputs": [
        {
          "output_type": "execute_result",
          "data": {
            "text/plain": [
              "Lead Origin                                      0.0\n",
              "Lead Source                                      0.0\n",
              "Do Not Email                                     0.0\n",
              "Do Not Call                                      0.0\n",
              "Converted                                        0.0\n",
              "TotalVisits                                      0.0\n",
              "Total Time Spent on Website                      0.0\n",
              "Page Views Per Visit                             0.0\n",
              "Last Activity                                    0.0\n",
              "Country                                          0.0\n",
              "Specialization                                   0.0\n",
              "What is your current occupation                  0.0\n",
              "What matters most to you in choosing a course    0.0\n",
              "Search                                           0.0\n",
              "Newspaper Article                                0.0\n",
              "X Education Forums                               0.0\n",
              "Newspaper                                        0.0\n",
              "Digital Advertisement                            0.0\n",
              "Through Recommendations                          0.0\n",
              "Tags                                             0.0\n",
              "City                                             0.0\n",
              "A free copy of Mastering The Interview           0.0\n",
              "Last Notable Activity                            0.0\n",
              "dtype: float64"
            ]
          },
          "metadata": {},
          "execution_count": 30
        }
      ]
    },
    {
      "cell_type": "code",
      "source": [
        "Lead_data.shape"
      ],
      "metadata": {
        "colab": {
          "base_uri": "https://localhost:8080/"
        },
        "id": "Rx4eJT5gE7Ss",
        "outputId": "3a937d11-1250-4d93-96d0-95ff77c605a6"
      },
      "execution_count": 31,
      "outputs": [
        {
          "output_type": "execute_result",
          "data": {
            "text/plain": [
              "(9074, 23)"
            ]
          },
          "metadata": {},
          "execution_count": 31
        }
      ]
    },
    {
      "cell_type": "code",
      "source": [
        "#plotting spread of Country columnn \n",
        "plt.figure(figsize=(15,5))\n",
        "s1=sns.countplot(Lead_data.Country, x=Lead_data.Converted)\n",
        "s1.set_xticklabels(s1.get_xticklabels(),rotation=90)\n",
        "plt.show()"
      ],
      "metadata": {
        "colab": {
          "base_uri": "https://localhost:8080/",
          "height": 348
        },
        "id": "Qk4yZU1LFjQl",
        "outputId": "ba50d8d3-2502-4f51-9006-667bea2ff3c0"
      },
      "execution_count": 52,
      "outputs": [
        {
          "output_type": "display_data",
          "data": {
            "text/plain": [
              "<Figure size 1080x360 with 1 Axes>"
            ],
            "image/png": "[encoded data removed]"
          },
          "metadata": {
            "needs_background": "light"
          }
        }
      ]
    },
    {
      "cell_type": "code",
      "source": [
        "#creating a list of columns to be droppped\n",
        "\n",
        "cols_to_drop=['Country']"
      ],
      "metadata": {
        "id": "ITDLojjhE8PN"
      },
      "execution_count": 53,
      "outputs": []
    },
    {
      "cell_type": "code",
      "source": [
        "#checking value counts of \"City\" column\n",
        "\n",
        "Lead_data['City'].value_counts(dropna=False)"
      ],
      "metadata": {
        "colab": {
          "base_uri": "https://localhost:8080/"
        },
        "id": "xkwen3CfE9Ox",
        "outputId": "2eb8f269-8e4b-4854-ecf3-30e68e6492d5"
      },
      "execution_count": 55,
      "outputs": [
        {
          "output_type": "execute_result",
          "data": {
            "text/plain": [
              "not provided                   3575\n",
              "Mumbai                         3177\n",
              "Thane & Outskirts               745\n",
              "Other Cities                    680\n",
              "Other Cities of Maharashtra     446\n",
              "Other Metro Cities              377\n",
              "Tier II Cities                   74\n",
              "Name: City, dtype: int64"
            ]
          },
          "metadata": {},
          "execution_count": 55
        }
      ]
    },
    {
      "cell_type": "code",
      "source": [
        "Lead_data['City'] = Lead_data['City'].replace(np.nan,'Mumbai')"
      ],
      "metadata": {
        "id": "3PdVpdcbFPT4"
      },
      "execution_count": 59,
      "outputs": []
    },
    {
      "cell_type": "code",
      "source": [
        "#plotting spread of City columnn after replacing NaN values\n",
        "\n",
        "plt.figure(figsize=(10,5))\n",
        "s1=sns.countplot(Lead_data.City, x=Lead_data.Converted)\n",
        "s1.set_xticklabels(s1.get_xticklabels(),rotation=90)\n",
        "plt.show()"
      ],
      "metadata": {
        "colab": {
          "base_uri": "https://localhost:8080/",
          "height": 387
        },
        "id": "6AZBjiotFQWZ",
        "outputId": "7ade4b8b-0c37-4136-f452-053aa1cc7640"
      },
      "execution_count": 62,
      "outputs": [
        {
          "output_type": "display_data",
          "data": {
            "text/plain": [
              "<Figure size 720x360 with 1 Axes>"
            ],
            "image/png": "[encoded data removed]"
          },
          "metadata": {
            "needs_background": "light"
          }
        }
      ]
    },
    {
      "cell_type": "code",
      "source": [
        "#checking value counts of Specialization column\n",
        "\n",
        "Lead_data['Specialization'].value_counts(dropna=False)"
      ],
      "metadata": {
        "colab": {
          "base_uri": "https://localhost:8080/"
        },
        "id": "HB_qx5SYFWSI",
        "outputId": "0b92b94e-e165-447f-c480-acaf60d794dc"
      },
      "execution_count": 64,
      "outputs": [
        {
          "output_type": "execute_result",
          "data": {
            "text/plain": [
              "not provided                         3282\n",
              "Finance Management                    959\n",
              "Human Resource Management             837\n",
              "Marketing Management                  823\n",
              "Operations Management                 499\n",
              "Business Administration               399\n",
              "IT Projects Management                366\n",
              "Supply Chain Management               346\n",
              "Banking, Investment And Insurance     335\n",
              "Travel and Tourism                    202\n",
              "Media and Advertising                 202\n",
              "International Business                176\n",
              "Healthcare Management                 156\n",
              "E-COMMERCE                            111\n",
              "Hospitality Management                111\n",
              "Retail Management                     100\n",
              "Rural and Agribusiness                 73\n",
              "E-Business                             57\n",
              "Services Excellence                    40\n",
              "Name: Specialization, dtype: int64"
            ]
          },
          "metadata": {},
          "execution_count": 64
        }
      ]
    },
    {
      "cell_type": "code",
      "source": [
        "# Lead may not have mentioned specialization because it was not in the list or maybe they are a students \n",
        "# and don't have a specialization yet. So we will replace NaN values here with 'Not Specified'\n",
        "\n",
        "Lead_data['Specialization'] = Lead_data['Specialization'].replace(np.nan, 'Not Specified')"
      ],
      "metadata": {
        "id": "Nf18y3QoI9aC"
      },
      "execution_count": 65,
      "outputs": []
    },
    {
      "cell_type": "code",
      "source": [
        "#plotting spread of Specialization columnn \n",
        "\n",
        "plt.figure(figsize=(15,5))\n",
        "s1=sns.countplot(Lead_data.Specialization, x=Lead_data.Converted)\n",
        "s1.set_xticklabels(s1.get_xticklabels(),rotation=90)\n",
        "plt.show()"
      ],
      "metadata": {
        "colab": {
          "base_uri": "https://localhost:8080/",
          "height": 387
        },
        "id": "RL43FPZgJCMU",
        "outputId": "9fcc0c65-ed43-4aa6-f154-c5531a6a5c23"
      },
      "execution_count": 66,
      "outputs": [
        {
          "output_type": "display_data",
          "data": {
            "text/plain": [
              "<Figure size 1080x360 with 1 Axes>"
            ],
            "image/png": "[encoded data removed]"
          },
          "metadata": {
            "needs_background": "light"
          }
        }
      ]
    },
    {
      "cell_type": "code",
      "source": [
        "#combining Management Specializations because they show similar trends\n",
        "\n",
        "Lead_data['Specialization'] = Lead_data['Specialization'].replace(['Finance Management','Human Resource Management',\n",
        "                                                           'Marketing Management','Operations Management',\n",
        "                                                           'IT Projects Management','Supply Chain Management',\n",
        "                                                    'Healthcare Management','Hospitality Management',\n",
        "                                                           'Retail Management'] ,'Management_Specializations')  "
      ],
      "metadata": {
        "id": "ZyunIms0JGEa"
      },
      "execution_count": 67,
      "outputs": []
    },
    {
      "cell_type": "code",
      "source": [
        "#visualizing count of Variable based on Converted value\n",
        "\n",
        "\n",
        "plt.figure(figsize=(15,5))\n",
        "s1=sns.countplot(Lead_data.Specialization, x=Lead_data.Converted)\n",
        "s1.set_xticklabels(s1.get_xticklabels(),rotation=90)\n",
        "plt.show()"
      ],
      "metadata": {
        "colab": {
          "base_uri": "https://localhost:8080/",
          "height": 387
        },
        "id": "q-GIlrlkJOaL",
        "outputId": "abc8e077-cd0f-4792-a321-7534855e599f"
      },
      "execution_count": 69,
      "outputs": [
        {
          "output_type": "display_data",
          "data": {
            "text/plain": [
              "<Figure size 1080x360 with 1 Axes>"
            ],
            "image/png": "[encoded data removed]"
          },
          "metadata": {
            "needs_background": "light"
          }
        }
      ]
    },
    {
      "cell_type": "code",
      "source": [
        "#What is your current occupation\n",
        "\n",
        "Lead_data['What is your current occupation'].value_counts(dropna=False)"
      ],
      "metadata": {
        "colab": {
          "base_uri": "https://localhost:8080/"
        },
        "id": "9p8GmvpfJSLu",
        "outputId": "22b2f4a9-d3e8-471a-9ea7-a811be62923b"
      },
      "execution_count": 70,
      "outputs": [
        {
          "output_type": "execute_result",
          "data": {
            "text/plain": [
              "Unemployed              5476\n",
              "not provided            2683\n",
              "Working Professional     677\n",
              "Student                  206\n",
              "Other                     15\n",
              "Housewife                  9\n",
              "Businessman                8\n",
              "Name: What is your current occupation, dtype: int64"
            ]
          },
          "metadata": {},
          "execution_count": 70
        }
      ]
    },
    {
      "cell_type": "code",
      "source": [
        "#imputing Nan values with mode \"Unemployed\"\n",
        "\n",
        "Lead_data['What is your current occupation'] = Lead_data['What is your current occupation'].replace(np.nan, 'Unemployed')"
      ],
      "metadata": {
        "id": "s3OmKv98JW1v"
      },
      "execution_count": 71,
      "outputs": []
    },
    {
      "cell_type": "code",
      "source": [
        "#checking count of values\n",
        "Lead_data['What is your current occupation'].value_counts(dropna=False)"
      ],
      "metadata": {
        "colab": {
          "base_uri": "https://localhost:8080/"
        },
        "id": "_8Q8KVrZJbgX",
        "outputId": "be85196b-742e-493f-8ac8-8957ceecde46"
      },
      "execution_count": 72,
      "outputs": [
        {
          "output_type": "execute_result",
          "data": {
            "text/plain": [
              "Unemployed              5476\n",
              "not provided            2683\n",
              "Working Professional     677\n",
              "Student                  206\n",
              "Other                     15\n",
              "Housewife                  9\n",
              "Businessman                8\n",
              "Name: What is your current occupation, dtype: int64"
            ]
          },
          "metadata": {},
          "execution_count": 72
        }
      ]
    },
    {
      "cell_type": "code",
      "source": [
        "#visualizing count of Variable based on Converted value\n",
        "\n",
        "s1=sns.countplot(Lead_data['What is your current occupation'], x=Lead_data.Converted)\n",
        "s1.set_xticklabels(s1.get_xticklabels(),rotation=90)\n",
        "plt.show()"
      ],
      "metadata": {
        "colab": {
          "base_uri": "https://localhost:8080/",
          "height": 332
        },
        "id": "0g07rOp7JfNK",
        "outputId": "a7473228-53d3-4567-ad1b-49705e98a22b"
      },
      "execution_count": 73,
      "outputs": [
        {
          "output_type": "display_data",
          "data": {
            "text/plain": [
              "<Figure size 432x288 with 1 Axes>"
            ],
            "image/png": "[encoded data removed]"
          },
          "metadata": {
            "needs_background": "light"
          }
        }
      ]
    },
    {
      "cell_type": "code",
      "source": [
        "#checking value counts\n",
        "\n",
        "Lead_data['What matters most to you in choosing a course'].value_counts(dropna=False)"
      ],
      "metadata": {
        "colab": {
          "base_uri": "https://localhost:8080/"
        },
        "id": "viffJPCeJjRt",
        "outputId": "b5dd44b3-ea4f-4cc9-e9dd-92707c1374c6"
      },
      "execution_count": 74,
      "outputs": [
        {
          "output_type": "execute_result",
          "data": {
            "text/plain": [
              "Better Career Prospects      6370\n",
              "not provided                 2702\n",
              "Flexibility & Convenience       1\n",
              "Other                           1\n",
              "Name: What matters most to you in choosing a course, dtype: int64"
            ]
          },
          "metadata": {},
          "execution_count": 74
        }
      ]
    },
    {
      "cell_type": "code",
      "source": [
        "#replacing Nan values with Mode \"Better Career Prospects\"\n",
        "\n",
        "Lead_data['What matters most to you in choosing a course'] = Lead_data['What matters most to you in choosing a course'].replace(np.nan,'Better Career Prospects')"
      ],
      "metadata": {
        "id": "L-iphWAhJmfL"
      },
      "execution_count": 77,
      "outputs": []
    },
    {
      "cell_type": "code",
      "source": [
        "#visualizing count of Variable based on Converted value\n",
        "\n",
        "s1=sns.countplot(Lead_data['What matters most to you in choosing a course'], x=Lead_data.Converted)\n",
        "s1.set_xticklabels(s1.get_xticklabels(),rotation=90)\n",
        "plt.show()"
      ],
      "metadata": {
        "colab": {
          "base_uri": "https://localhost:8080/",
          "height": 388
        },
        "id": "GDG7QMzZJpgf",
        "outputId": "f9e97c40-b8a5-46f0-8517-1a3d1104212a"
      },
      "execution_count": 78,
      "outputs": [
        {
          "output_type": "display_data",
          "data": {
            "text/plain": [
              "<Figure size 432x288 with 1 Axes>"
            ],
            "image/png": "[encoded data removed]"
          },
          "metadata": {
            "needs_background": "light"
          }
        }
      ]
    },
    {
      "cell_type": "code",
      "source": [
        "#checking value counts of variable\n",
        "Lead_data['What matters most to you in choosing a course'].value_counts(dropna=False)"
      ],
      "metadata": {
        "colab": {
          "base_uri": "https://localhost:8080/"
        },
        "id": "6qdhe9etJtuT",
        "outputId": "aaec7464-0b54-42f9-daba-5643b35ad0e9"
      },
      "execution_count": 79,
      "outputs": [
        {
          "output_type": "execute_result",
          "data": {
            "text/plain": [
              "Better Career Prospects      6370\n",
              "not provided                 2702\n",
              "Flexibility & Convenience       1\n",
              "Other                           1\n",
              "Name: What matters most to you in choosing a course, dtype: int64"
            ]
          },
          "metadata": {},
          "execution_count": 79
        }
      ]
    },
    {
      "cell_type": "code",
      "source": [
        "#Here again we have another Column that is worth Dropping. So we Append to the cols_to_drop List\n",
        "cols_to_drop.append('What matters most to you in choosing a course')\n",
        "cols_to_drop"
      ],
      "metadata": {
        "colab": {
          "base_uri": "https://localhost:8080/"
        },
        "id": "g8vrCXqoJ1AY",
        "outputId": "cdbda309-213b-493f-bff5-ef7d20168196"
      },
      "execution_count": 80,
      "outputs": [
        {
          "output_type": "execute_result",
          "data": {
            "text/plain": [
              "['Country', 'What matters most to you in choosing a course']"
            ]
          },
          "metadata": {},
          "execution_count": 80
        }
      ]
    },
    {
      "cell_type": "code",
      "source": [
        "#checking value counts of Tag variable\n",
        "Lead_data['Tags'].value_counts(dropna=False)"
      ],
      "metadata": {
        "colab": {
          "base_uri": "https://localhost:8080/"
        },
        "id": "l3xhYYXqJ285",
        "outputId": "18b67d3c-836a-4952-c689-4bee4274b171"
      },
      "execution_count": 81,
      "outputs": [
        {
          "output_type": "execute_result",
          "data": {
            "text/plain": [
              "not provided                                         3327\n",
              "Will revert after reading the email                  2016\n",
              "Ringing                                              1187\n",
              "Interested in other courses                           509\n",
              "Already a student                                     465\n",
              "Closed by Horizzon                                    301\n",
              "switched off                                          240\n",
              "Busy                                                  185\n",
              "Lost to EINS                                          172\n",
              "Not doing further education                           145\n",
              "Interested  in full time MBA                          116\n",
              "Graduation in progress                                111\n",
              "invalid number                                         83\n",
              "Diploma holder (Not Eligible)                          63\n",
              "wrong number given                                     47\n",
              "opp hangup                                             33\n",
              "number not provided                                    25\n",
              "in touch with EINS                                     12\n",
              "Lost to Others                                          7\n",
              "Still Thinking                                          6\n",
              "Want to take admission but has financial problems       6\n",
              "In confusion whether part time or DLP                   5\n",
              "Interested in Next batch                                5\n",
              "Lateral student                                         3\n",
              "Shall take in the next coming month                     2\n",
              "University not recognized                               2\n",
              "Recognition issue (DEC approval)                        1\n",
              "Name: Tags, dtype: int64"
            ]
          },
          "metadata": {},
          "execution_count": 81
        }
      ]
    },
    {
      "cell_type": "code",
      "source": [
        "#replacing Nan values with \"Not Specified\"\n",
        "Lead_data['Tags'] = Lead_data['Tags'].replace(np.nan,'Not Specified')"
      ],
      "metadata": {
        "id": "P7lzSnzHJ6aj"
      },
      "execution_count": 82,
      "outputs": []
    },
    {
      "cell_type": "code",
      "source": [
        "#visualizing count of Variable based on Converted value\n",
        "\n",
        "plt.figure(figsize=(15,5))\n",
        "s1=sns.countplot(Lead_data['Tags'], x=Lead_data.Converted)\n",
        "s1.set_xticklabels(s1.get_xticklabels(),rotation=90)\n",
        "plt.show()"
      ],
      "metadata": {
        "colab": {
          "base_uri": "https://localhost:8080/",
          "height": 458
        },
        "id": "HvT6bwGEJ-zk",
        "outputId": "a765b06e-1d86-4fb6-dacd-a9dd02866d2d"
      },
      "execution_count": 84,
      "outputs": [
        {
          "output_type": "display_data",
          "data": {
            "text/plain": [
              "<Figure size 1080x360 with 1 Axes>"
            ],
            "image/png": "[encoded data removed]"
          },
          "metadata": {
            "needs_background": "light"
          }
        }
      ]
    },
    {
      "cell_type": "code",
      "source": [
        "#replacing tags with low frequency with \"Other Tags\"\n",
        "Lead_data['Tags'] = Lead_data['Tags'].replace(['In confusion whether part time or DLP', 'in touch with EINS','Diploma holder (Not Eligible)',\n",
        "                                     'Approached upfront','Graduation in progress','number not provided', 'opp hangup','Still Thinking',\n",
        "                                    'Lost to Others','Shall take in the next coming month','Lateral student','Interested in Next batch',\n",
        "                                    'Recognition issue (DEC approval)','Want to take admission but has financial problems',\n",
        "                                    'University not recognized'], 'Other_Tags')"
      ],
      "metadata": {
        "id": "clVNo47sKGiB"
      },
      "execution_count": 85,
      "outputs": []
    },
    {
      "cell_type": "code",
      "source": [
        "\n",
        "Lead_data['Tags'] = Lead_data['Tags'].replace(['switched off',\n",
        "                                      'Already a student',\n",
        "                                       'Not doing further education',\n",
        "                                       'invalid number',\n",
        "                                       'wrong number given',\n",
        "                                       'Interested  in full time MBA'] , 'Other_Tags')"
      ],
      "metadata": {
        "id": "97yP5r9KKMoT"
      },
      "execution_count": 86,
      "outputs": []
    },
    {
      "cell_type": "code",
      "source": [
        "#checking percentage of missing values\n",
        "round(100*(Lead_data.isnull().sum()/len(Lead_data.index)), 2)"
      ],
      "metadata": {
        "colab": {
          "base_uri": "https://localhost:8080/"
        },
        "id": "LU7Q6qpUKSGl",
        "outputId": "6ee618d0-b955-41ac-f183-b8fe88aadd57"
      },
      "execution_count": 87,
      "outputs": [
        {
          "output_type": "execute_result",
          "data": {
            "text/plain": [
              "Lead Origin                                      0.0\n",
              "Lead Source                                      0.0\n",
              "Do Not Email                                     0.0\n",
              "Do Not Call                                      0.0\n",
              "Converted                                        0.0\n",
              "TotalVisits                                      0.0\n",
              "Total Time Spent on Website                      0.0\n",
              "Page Views Per Visit                             0.0\n",
              "Last Activity                                    0.0\n",
              "Country                                          0.0\n",
              "Specialization                                   0.0\n",
              "What is your current occupation                  0.0\n",
              "What matters most to you in choosing a course    0.0\n",
              "Search                                           0.0\n",
              "Newspaper Article                                0.0\n",
              "X Education Forums                               0.0\n",
              "Newspaper                                        0.0\n",
              "Digital Advertisement                            0.0\n",
              "Through Recommendations                          0.0\n",
              "Tags                                             0.0\n",
              "City                                             0.0\n",
              "A free copy of Mastering The Interview           0.0\n",
              "Last Notable Activity                            0.0\n",
              "dtype: float64"
            ]
          },
          "metadata": {},
          "execution_count": 87
        }
      ]
    },
    {
      "cell_type": "code",
      "source": [
        "#checking value counts of Lead Source column\n",
        "\n",
        "Lead_data['Lead Source'].value_counts(dropna=False)"
      ],
      "metadata": {
        "colab": {
          "base_uri": "https://localhost:8080/"
        },
        "id": "MRu8Y_txKVip",
        "outputId": "cd2bb30d-c17d-49a3-8d05-b7fee73e27cd"
      },
      "execution_count": 88,
      "outputs": [
        {
          "output_type": "execute_result",
          "data": {
            "text/plain": [
              "Google               2868\n",
              "Direct Traffic       2543\n",
              "Olark Chat           1753\n",
              "Organic Search       1154\n",
              "Reference             443\n",
              "Welingak Website      129\n",
              "Referral Sites        125\n",
              "Facebook               31\n",
              "bing                    6\n",
              "google                  5\n",
              "Click2call              4\n",
              "Press_Release           2\n",
              "Social Media            2\n",
              "Live Chat               2\n",
              "youtubechannel          1\n",
              "testone                 1\n",
              "Pay per Click Ads       1\n",
              "welearnblog_Home        1\n",
              "WeLearn                 1\n",
              "blog                    1\n",
              "NC_EDM                  1\n",
              "Name: Lead Source, dtype: int64"
            ]
          },
          "metadata": {},
          "execution_count": 88
        }
      ]
    },
    {
      "cell_type": "code",
      "source": [
        "#replacing Nan Values and combining low frequency values\n",
        "Lead_data['Lead Source'] = Lead_data['Lead Source'].replace(np.nan,'Others')\n",
        "Lead_data['Lead Source'] = Lead_data['Lead Source'].replace('google','Google')\n",
        "Lead_data['Lead Source'] = Lead_data['Lead Source'].replace('Facebook','Social Media')\n",
        "Lead_data['Lead Source'] = Lead_data['Lead Source'].replace(['bing','Click2call','Press_Release',\n",
        "                                                     'youtubechannel','welearnblog_Home',\n",
        "                                                     'WeLearn','blog','Pay per Click Ads',\n",
        "                                                    'testone','NC_EDM'] ,'Others')                 "
      ],
      "metadata": {
        "id": "wqh0KBEuKYtN"
      },
      "execution_count": 89,
      "outputs": []
    },
    {
      "cell_type": "code",
      "source": [
        "#visualizing count of Variable based on Converted value\n",
        "plt.figure(figsize=(15,5))\n",
        "s1=sns.countplot(Lead_data['Lead Source'], x=Lead_data.Converted)\n",
        "s1.set_xticklabels(s1.get_xticklabels(),rotation=90)\n",
        "plt.show()"
      ],
      "metadata": {
        "colab": {
          "base_uri": "https://localhost:8080/",
          "height": 400
        },
        "id": "_JFqQWQrKhXV",
        "outputId": "d7545ee7-0729-45ae-88ff-2b685a728fe1"
      },
      "execution_count": 91,
      "outputs": [
        {
          "output_type": "display_data",
          "data": {
            "text/plain": [
              "<Figure size 1080x360 with 1 Axes>"
            ],
            "image/png": "[encoded data removed]"
          },
          "metadata": {
            "needs_background": "light"
          }
        }
      ]
    },
    {
      "cell_type": "code",
      "source": [
        "# Last Activity:\n",
        "\n",
        "Lead_data['Last Activity'].value_counts(dropna=False)"
      ],
      "metadata": {
        "colab": {
          "base_uri": "https://localhost:8080/"
        },
        "id": "TTAXkrOlKmiZ",
        "outputId": "5016c925-a6c9-4d27-f2c1-b2fbc5734292"
      },
      "execution_count": 92,
      "outputs": [
        {
          "output_type": "execute_result",
          "data": {
            "text/plain": [
              "Email Opened                    3432\n",
              "SMS Sent                        2716\n",
              "Olark Chat Conversation          972\n",
              "Page Visited on Website          640\n",
              "Converted to Lead                428\n",
              "Email Bounced                    312\n",
              "Email Link Clicked               267\n",
              "Form Submitted on Website        116\n",
              "Unreachable                       90\n",
              "Unsubscribed                      59\n",
              "Had a Phone Conversation          25\n",
              "View in browser link Clicked       6\n",
              "Approached upfront                 5\n",
              "Email Received                     2\n",
              "Email Marked Spam                  2\n",
              "Visited Booth in Tradeshow         1\n",
              "Resubscribed to emails             1\n",
              "Name: Last Activity, dtype: int64"
            ]
          },
          "metadata": {},
          "execution_count": 92
        }
      ]
    },
    {
      "cell_type": "code",
      "source": [
        "#replacing Nan Values and combining low frequency values\n",
        "\n",
        "Lead_data['Last Activity'] = Lead_data['Last Activity'].replace(np.nan,'Others')\n",
        "Lead_data['Last Activity'] = Lead_data['Last Activity'].replace(['Unreachable','Unsubscribed',\n",
        "                                                        'Had a Phone Conversation', \n",
        "                                                        'Approached upfront',\n",
        "                                                        'View in browser link Clicked',       \n",
        "                                                        'Email Marked Spam',                  \n",
        "                                                        'Email Received','Resubscribed to emails',\n",
        "                                                         'Visited Booth in Tradeshow'],'Others')"
      ],
      "metadata": {
        "id": "5KgqJimOKsJs"
      },
      "execution_count": 93,
      "outputs": []
    },
    {
      "cell_type": "code",
      "source": [
        "# Last Activity:\n",
        "\n",
        "Lead_data['Last Activity'].value_counts(dropna=False)"
      ],
      "metadata": {
        "colab": {
          "base_uri": "https://localhost:8080/"
        },
        "id": "SPNs9mL1K1oY",
        "outputId": "6a11d64f-38c9-4e48-f79f-b8a149aeb33c"
      },
      "execution_count": 94,
      "outputs": [
        {
          "output_type": "execute_result",
          "data": {
            "text/plain": [
              "Email Opened                 3432\n",
              "SMS Sent                     2716\n",
              "Olark Chat Conversation       972\n",
              "Page Visited on Website       640\n",
              "Converted to Lead             428\n",
              "Email Bounced                 312\n",
              "Email Link Clicked            267\n",
              "Others                        191\n",
              "Form Submitted on Website     116\n",
              "Name: Last Activity, dtype: int64"
            ]
          },
          "metadata": {},
          "execution_count": 94
        }
      ]
    },
    {
      "cell_type": "code",
      "source": [
        "#Check the Null Values in All Columns:\n",
        "round(100*(Lead_data.isnull().sum()/len(Lead_data.index)), 2)"
      ],
      "metadata": {
        "colab": {
          "base_uri": "https://localhost:8080/"
        },
        "id": "RJ9tcwemK4SO",
        "outputId": "9edc9983-44b7-486c-83dc-1d8419496e7f"
      },
      "execution_count": 95,
      "outputs": [
        {
          "output_type": "execute_result",
          "data": {
            "text/plain": [
              "Lead Origin                                      0.0\n",
              "Lead Source                                      0.0\n",
              "Do Not Email                                     0.0\n",
              "Do Not Call                                      0.0\n",
              "Converted                                        0.0\n",
              "TotalVisits                                      0.0\n",
              "Total Time Spent on Website                      0.0\n",
              "Page Views Per Visit                             0.0\n",
              "Last Activity                                    0.0\n",
              "Country                                          0.0\n",
              "Specialization                                   0.0\n",
              "What is your current occupation                  0.0\n",
              "What matters most to you in choosing a course    0.0\n",
              "Search                                           0.0\n",
              "Newspaper Article                                0.0\n",
              "X Education Forums                               0.0\n",
              "Newspaper                                        0.0\n",
              "Digital Advertisement                            0.0\n",
              "Through Recommendations                          0.0\n",
              "Tags                                             0.0\n",
              "City                                             0.0\n",
              "A free copy of Mastering The Interview           0.0\n",
              "Last Notable Activity                            0.0\n",
              "dtype: float64"
            ]
          },
          "metadata": {},
          "execution_count": 95
        }
      ]
    },
    {
      "cell_type": "code",
      "source": [
        "#Drop all rows which have Nan Values. Since the number of Dropped rows is less than 2%, it will not affect the model\n",
        "Lead_data = Lead_data.dropna()"
      ],
      "metadata": {
        "id": "lmbYmGNkK7oG"
      },
      "execution_count": 96,
      "outputs": []
    },
    {
      "cell_type": "code",
      "source": [
        "#Checking percentage of Null Values in All Columns:\n",
        "round(100*(Lead_data.isnull().sum()/len(Lead_data.index)), 2)"
      ],
      "metadata": {
        "colab": {
          "base_uri": "https://localhost:8080/"
        },
        "id": "fzDPyNfVLB1c",
        "outputId": "4c0363ae-3986-4495-f9de-61cf6ebe5973"
      },
      "execution_count": 97,
      "outputs": [
        {
          "output_type": "execute_result",
          "data": {
            "text/plain": [
              "Lead Origin                                      0.0\n",
              "Lead Source                                      0.0\n",
              "Do Not Email                                     0.0\n",
              "Do Not Call                                      0.0\n",
              "Converted                                        0.0\n",
              "TotalVisits                                      0.0\n",
              "Total Time Spent on Website                      0.0\n",
              "Page Views Per Visit                             0.0\n",
              "Last Activity                                    0.0\n",
              "Country                                          0.0\n",
              "Specialization                                   0.0\n",
              "What is your current occupation                  0.0\n",
              "What matters most to you in choosing a course    0.0\n",
              "Search                                           0.0\n",
              "Newspaper Article                                0.0\n",
              "X Education Forums                               0.0\n",
              "Newspaper                                        0.0\n",
              "Digital Advertisement                            0.0\n",
              "Through Recommendations                          0.0\n",
              "Tags                                             0.0\n",
              "City                                             0.0\n",
              "A free copy of Mastering The Interview           0.0\n",
              "Last Notable Activity                            0.0\n",
              "dtype: float64"
            ]
          },
          "metadata": {},
          "execution_count": 97
        }
      ]
    },
    {
      "cell_type": "code",
      "source": [
        "#Lead Origin\n",
        "Lead_data['Lead Origin'].value_counts(dropna=False)"
      ],
      "metadata": {
        "colab": {
          "base_uri": "https://localhost:8080/"
        },
        "id": "-dg-_6k2LiMv",
        "outputId": "1e3f18c9-6d0d-438b-ae2b-96d147f08b06"
      },
      "execution_count": 98,
      "outputs": [
        {
          "output_type": "execute_result",
          "data": {
            "text/plain": [
              "Landing Page Submission    4885\n",
              "API                        3578\n",
              "Lead Add Form               581\n",
              "Lead Import                  30\n",
              "Name: Lead Origin, dtype: int64"
            ]
          },
          "metadata": {},
          "execution_count": 98
        }
      ]
    },
    {
      "cell_type": "code",
      "source": [
        "#visualizing count of Variable based on Converted value\n",
        "\n",
        "plt.figure(figsize=(8,5))\n",
        "s1=sns.countplot(Lead_data['Lead Origin'], x=Lead_data.Converted)\n",
        "s1.set_xticklabels(s1.get_xticklabels(),rotation=90)\n",
        "plt.show()"
      ],
      "metadata": {
        "colab": {
          "base_uri": "https://localhost:8080/",
          "height": 339
        },
        "id": "53bF9CgXLlex",
        "outputId": "eb1adf8b-4a7c-4acb-d2c3-866b0aa410df"
      },
      "execution_count": 99,
      "outputs": [
        {
          "output_type": "display_data",
          "data": {
            "text/plain": [
              "<Figure size 576x360 with 1 Axes>"
            ],
            "image/png": "[encoded data removed]"
          },
          "metadata": {
            "needs_background": "light"
          }
        }
      ]
    },
    {
      "cell_type": "code",
      "source": [
        "#Do Not Email & Do Not Call\n",
        "#visualizing count of Variable based on Converted value\n",
        "\n",
        "plt.figure(figsize=(15,5))\n",
        "\n",
        "ax1=plt.subplot(1, 2, 1)\n",
        "ax1=sns.countplot(Lead_data['Do Not Call'], x=Lead_data.Converted)\n",
        "ax1.set_xticklabels(ax1.get_xticklabels(),rotation=90)\n",
        "\n",
        "ax2=plt.subplot(1, 2, 2)\n",
        "ax2=sns.countplot(Lead_data['Do Not Email'], x=Lead_data.Converted)\n",
        "ax2.set_xticklabels(ax2.get_xticklabels(),rotation=90)\n",
        "plt.show()"
      ],
      "metadata": {
        "colab": {
          "base_uri": "https://localhost:8080/",
          "height": 337
        },
        "id": "QW_d5WG-LpKd",
        "outputId": "20ee7b02-f424-4479-b55f-207eaf22d4bf"
      },
      "execution_count": 100,
      "outputs": [
        {
          "output_type": "display_data",
          "data": {
            "text/plain": [
              "<Figure size 1080x360 with 2 Axes>"
            ],
            "image/png": "[encoded data removed]"
          },
          "metadata": {
            "needs_background": "light"
          }
        }
      ]
    },
    {
      "cell_type": "code",
      "source": [
        "#checking value counts for Do Not Call\n",
        "Lead_data['Do Not Call'].value_counts(dropna=False)"
      ],
      "metadata": {
        "colab": {
          "base_uri": "https://localhost:8080/"
        },
        "id": "I20L7AoxLvuh",
        "outputId": "211ac610-3f44-4636-d4e7-1e6825fdfdad"
      },
      "execution_count": 101,
      "outputs": [
        {
          "output_type": "execute_result",
          "data": {
            "text/plain": [
              "No     9072\n",
              "Yes       2\n",
              "Name: Do Not Call, dtype: int64"
            ]
          },
          "metadata": {},
          "execution_count": 101
        }
      ]
    },
    {
      "cell_type": "code",
      "source": [
        "#checking value counts for Do Not Email\n",
        "Lead_data['Do Not Email'].value_counts(dropna=False)"
      ],
      "metadata": {
        "colab": {
          "base_uri": "https://localhost:8080/"
        },
        "id": "3viX5G3DLzBo",
        "outputId": "38f82f47-8617-495b-ae32-234554fcb45f"
      },
      "execution_count": 103,
      "outputs": [
        {
          "output_type": "execute_result",
          "data": {
            "text/plain": [
              "No     8358\n",
              "Yes     716\n",
              "Name: Do Not Email, dtype: int64"
            ]
          },
          "metadata": {},
          "execution_count": 103
        }
      ]
    },
    {
      "cell_type": "code",
      "source": [
        "cols_to_drop.append('Do Not Call')\n",
        "cols_to_drop"
      ],
      "metadata": {
        "colab": {
          "base_uri": "https://localhost:8080/"
        },
        "id": "S-zA1c5_L2VL",
        "outputId": "56c6e15d-a228-4691-a038-a707beb6877d"
      },
      "execution_count": 104,
      "outputs": [
        {
          "output_type": "execute_result",
          "data": {
            "text/plain": [
              "['Country', 'What matters most to you in choosing a course', 'Do Not Call']"
            ]
          },
          "metadata": {},
          "execution_count": 104
        }
      ]
    },
    {
      "cell_type": "code",
      "source": [
        "Lead_data.Search.value_counts(dropna=False)"
      ],
      "metadata": {
        "colab": {
          "base_uri": "https://localhost:8080/"
        },
        "id": "L27frqnpL5PU",
        "outputId": "830a9a72-2cca-496e-ac7a-2de27ce71543"
      },
      "execution_count": 105,
      "outputs": [
        {
          "output_type": "execute_result",
          "data": {
            "text/plain": [
              "No     9060\n",
              "Yes      14\n",
              "Name: Search, dtype: int64"
            ]
          },
          "metadata": {},
          "execution_count": 105
        }
      ]
    },
    {
      "cell_type": "code",
      "source": [
        "Lead_data['Newspaper Article'].value_counts(dropna=False)"
      ],
      "metadata": {
        "colab": {
          "base_uri": "https://localhost:8080/"
        },
        "id": "2RooaskXMKOH",
        "outputId": "c882677c-db63-4c9b-a5f4-fdaf47698ba7"
      },
      "execution_count": 107,
      "outputs": [
        {
          "output_type": "execute_result",
          "data": {
            "text/plain": [
              "No     9072\n",
              "Yes       2\n",
              "Name: Newspaper Article, dtype: int64"
            ]
          },
          "metadata": {},
          "execution_count": 107
        }
      ]
    },
    {
      "cell_type": "code",
      "source": [
        "Lead_data['X Education Forums'].value_counts(dropna=False)"
      ],
      "metadata": {
        "colab": {
          "base_uri": "https://localhost:8080/"
        },
        "id": "w4STfA2XMMfN",
        "outputId": "d74c0fa9-7a27-44fd-c023-a26580a54541"
      },
      "execution_count": 108,
      "outputs": [
        {
          "output_type": "execute_result",
          "data": {
            "text/plain": [
              "No     9073\n",
              "Yes       1\n",
              "Name: X Education Forums, dtype: int64"
            ]
          },
          "metadata": {},
          "execution_count": 108
        }
      ]
    },
    {
      "cell_type": "code",
      "source": [
        "Lead_data['Newspaper'].value_counts(dropna=False)"
      ],
      "metadata": {
        "colab": {
          "base_uri": "https://localhost:8080/"
        },
        "id": "Nmf38XspMX2t",
        "outputId": "2bdc0317-c7f9-456d-bcde-74aae6ad70a5"
      },
      "execution_count": 109,
      "outputs": [
        {
          "output_type": "execute_result",
          "data": {
            "text/plain": [
              "No     9073\n",
              "Yes       1\n",
              "Name: Newspaper, dtype: int64"
            ]
          },
          "metadata": {},
          "execution_count": 109
        }
      ]
    },
    {
      "cell_type": "code",
      "source": [
        "Lead_data['Digital Advertisement'].value_counts(dropna=False)"
      ],
      "metadata": {
        "colab": {
          "base_uri": "https://localhost:8080/"
        },
        "id": "0QLKY478Ma8M",
        "outputId": "2fc51982-a228-4cc0-edce-a6d9f8492098"
      },
      "execution_count": 110,
      "outputs": [
        {
          "output_type": "execute_result",
          "data": {
            "text/plain": [
              "No     9070\n",
              "Yes       4\n",
              "Name: Digital Advertisement, dtype: int64"
            ]
          },
          "metadata": {},
          "execution_count": 110
        }
      ]
    },
    {
      "cell_type": "code",
      "source": [
        "Lead_data['Through Recommendations'].value_counts(dropna=False)"
      ],
      "metadata": {
        "colab": {
          "base_uri": "https://localhost:8080/"
        },
        "id": "UB4YeymeMeUF",
        "outputId": "a3accee9-e476-4310-ef57-6f830aa0880c"
      },
      "execution_count": 111,
      "outputs": [
        {
          "output_type": "execute_result",
          "data": {
            "text/plain": [
              "No     9067\n",
              "Yes       7\n",
              "Name: Through Recommendations, dtype: int64"
            ]
          },
          "metadata": {},
          "execution_count": 111
        }
      ]
    },
    {
      "cell_type": "code",
      "source": [
        "#adding imbalanced columns to the list of columns to be dropped\n",
        "\n",
        "cols_to_drop.extend(['Search','Magazine','Newspaper Article','X Education Forums','Newspaper',\n",
        "                 'Digital Advertisement','Through Recommendations','Receive More Updates About Our Courses',\n",
        "                 'Update me on Supply Chain Content',\n",
        "                 'Get updates on DM Content','I agree to pay the amount through cheque'])"
      ],
      "metadata": {
        "id": "1k3NWQRgMjeO"
      },
      "execution_count": 116,
      "outputs": []
    },
    {
      "cell_type": "code",
      "source": [
        "#checking value counts of last Notable Activity\n",
        "Lead_data['Last Notable Activity'].value_counts()"
      ],
      "metadata": {
        "colab": {
          "base_uri": "https://localhost:8080/"
        },
        "id": "CMhXeiifMq9h",
        "outputId": "4f0992a1-c8d5-4bb6-9754-f1235f0eb62b"
      },
      "execution_count": 117,
      "outputs": [
        {
          "output_type": "execute_result",
          "data": {
            "text/plain": [
              "Modified                        3267\n",
              "Email Opened                    2823\n",
              "SMS Sent                        2152\n",
              "Page Visited on Website          318\n",
              "Olark Chat Conversation          183\n",
              "Email Link Clicked               173\n",
              "Email Bounced                     60\n",
              "Unsubscribed                      45\n",
              "Unreachable                       32\n",
              "Had a Phone Conversation          14\n",
              "Email Marked Spam                  2\n",
              "Approached upfront                 1\n",
              "Resubscribed to emails             1\n",
              "View in browser link Clicked       1\n",
              "Form Submitted on Website          1\n",
              "Email Received                     1\n",
              "Name: Last Notable Activity, dtype: int64"
            ]
          },
          "metadata": {},
          "execution_count": 117
        }
      ]
    },
    {
      "cell_type": "code",
      "source": [
        "#clubbing lower frequency values\n",
        "\n",
        "Lead_data['Last Notable Activity'] = Lead_data['Last Notable Activity'].replace(['Had a Phone Conversation',\n",
        "                                                                       'Email Marked Spam',\n",
        "                                                                         'Unreachable',\n",
        "                                                                         'Unsubscribed',\n",
        "                                                                         'Email Bounced',                                                                    \n",
        "                                                                       'Resubscribed to emails',\n",
        "                                                                       'View in browser link Clicked',\n",
        "                                                                       'Approached upfront', \n",
        "                                                                       'Form Submitted on Website', \n",
        "                                                                       'Email Received'],'Other_Notable_activity')"
      ],
      "metadata": {
        "id": "FFtx0CP1M9Eg"
      },
      "execution_count": 118,
      "outputs": []
    },
    {
      "cell_type": "code",
      "source": [
        "#visualizing count of Variable based on Converted value\n",
        "\n",
        "plt.figure(figsize = (14,5))\n",
        "ax1=sns.countplot(x = \"Last Notable Activity\", hue = \"Converted\", data = Lead_data)\n",
        "ax1.set_xticklabels(ax1.get_xticklabels(),rotation=90)\n",
        "plt.show()"
      ],
      "metadata": {
        "colab": {
          "base_uri": "https://localhost:8080/",
          "height": 446
        },
        "id": "mK7Zh9OCNDQI",
        "outputId": "54582d0a-3e8d-4f92-a12f-269f31c7a2c2"
      },
      "execution_count": 119,
      "outputs": [
        {
          "output_type": "display_data",
          "data": {
            "text/plain": [
              "<Figure size 1008x360 with 1 Axes>"
            ],
            "image/png": "[encoded data removed]"
          },
          "metadata": {
            "needs_background": "light"
          }
        }
      ]
    },
    {
      "cell_type": "code",
      "source": [
        "#checking value counts for variable\n",
        "\n",
        "Lead_data['Last Notable Activity'].value_counts()"
      ],
      "metadata": {
        "colab": {
          "base_uri": "https://localhost:8080/"
        },
        "id": "NG651D1gNGyt",
        "outputId": "ba87b84e-f4ea-4963-a3c9-a35cb6bb58c6"
      },
      "execution_count": 120,
      "outputs": [
        {
          "output_type": "execute_result",
          "data": {
            "text/plain": [
              "Modified                   3267\n",
              "Email Opened               2823\n",
              "SMS Sent                   2152\n",
              "Page Visited on Website     318\n",
              "Olark Chat Conversation     183\n",
              "Email Link Clicked          173\n",
              "Other_Notable_activity      158\n",
              "Name: Last Notable Activity, dtype: int64"
            ]
          },
          "metadata": {},
          "execution_count": 120
        }
      ]
    },
    {
      "cell_type": "code",
      "source": [
        "#list of columns to be dropped\n",
        "cols_to_drop"
      ],
      "metadata": {
        "colab": {
          "base_uri": "https://localhost:8080/"
        },
        "id": "fuIVGwpwNLC4",
        "outputId": "5be89192-0ca5-42c4-d9e3-4fc7011c703f"
      },
      "execution_count": 121,
      "outputs": [
        {
          "output_type": "execute_result",
          "data": {
            "text/plain": [
              "['Country',\n",
              " 'What matters most to you in choosing a course',\n",
              " 'Do Not Call',\n",
              " 'Search',\n",
              " 'Magazine',\n",
              " 'Newspaper Article',\n",
              " 'X Education Forums',\n",
              " 'Newspaper',\n",
              " 'Digital Advertisement',\n",
              " 'Through Recommendations',\n",
              " 'Receive More Updates About Our Courses',\n",
              " 'Update me on Supply Chain Content',\n",
              " 'Get updates on DM Content',\n",
              " 'I agree to pay the amount through cheque']"
            ]
          },
          "metadata": {},
          "execution_count": 121
        }
      ]
    },
    {
      "cell_type": "code",
      "source": [
        "#dropping columns\n",
        "\n",
        "Lead_data.info()"
      ],
      "metadata": {
        "colab": {
          "base_uri": "https://localhost:8080/"
        },
        "id": "1EA8GRQ9NMvh",
        "outputId": "0856916b-5e60-4476-abd4-30a134fedae4"
      },
      "execution_count": 125,
      "outputs": [
        {
          "output_type": "stream",
          "name": "stdout",
          "text": [
            "<class 'pandas.core.frame.DataFrame'>\n",
            "Int64Index: 9074 entries, 0 to 9239\n",
            "Data columns (total 23 columns):\n",
            " #   Column                                         Non-Null Count  Dtype  \n",
            "---  ------                                         --------------  -----  \n",
            " 0   Lead Origin                                    9074 non-null   object \n",
            " 1   Lead Source                                    9074 non-null   object \n",
            " 2   Do Not Email                                   9074 non-null   object \n",
            " 3   Do Not Call                                    9074 non-null   object \n",
            " 4   Converted                                      9074 non-null   int64  \n",
            " 5   TotalVisits                                    9074 non-null   float64\n",
            " 6   Total Time Spent on Website                    9074 non-null   int64  \n",
            " 7   Page Views Per Visit                           9074 non-null   float64\n",
            " 8   Last Activity                                  9074 non-null   object \n",
            " 9   Country                                        9074 non-null   object \n",
            " 10  Specialization                                 9074 non-null   object \n",
            " 11  What is your current occupation                9074 non-null   object \n",
            " 12  What matters most to you in choosing a course  9074 non-null   object \n",
            " 13  Search                                         9074 non-null   object \n",
            " 14  Newspaper Article                              9074 non-null   object \n",
            " 15  X Education Forums                             9074 non-null   object \n",
            " 16  Newspaper                                      9074 non-null   object \n",
            " 17  Digital Advertisement                          9074 non-null   object \n",
            " 18  Through Recommendations                        9074 non-null   object \n",
            " 19  Tags                                           9074 non-null   object \n",
            " 20  City                                           9074 non-null   object \n",
            " 21  A free copy of Mastering The Interview         9074 non-null   object \n",
            " 22  Last Notable Activity                          9074 non-null   object \n",
            "dtypes: float64(2), int64(2), object(19)\n",
            "memory usage: 1.9+ MB\n"
          ]
        }
      ]
    },
    {
      "cell_type": "code",
      "source": [
        "#Check the % of Data that has Converted Values = 1:\n",
        "\n",
        "Converted = (sum(Lead_data['Converted'])/len(Lead_data['Converted'].index))*100\n",
        "Converted"
      ],
      "metadata": {
        "colab": {
          "base_uri": "https://localhost:8080/"
        },
        "id": "-9SY1FSENTVu",
        "outputId": "23edf87f-b13a-4dec-9e78-6da6924ea011"
      },
      "execution_count": 126,
      "outputs": [
        {
          "output_type": "execute_result",
          "data": {
            "text/plain": [
              "37.85541106458012"
            ]
          },
          "metadata": {},
          "execution_count": 126
        }
      ]
    },
    {
      "cell_type": "code",
      "source": [
        "#Checking correlations of numeric values\n",
        "# figure size\n",
        "plt.figure(figsize=(10,8))\n",
        "\n",
        "# heatmap\n",
        "sns.heatmap(Lead_data.corr(), cmap=\"YlGnBu\", annot=True)\n",
        "plt.show()"
      ],
      "metadata": {
        "colab": {
          "base_uri": "https://localhost:8080/",
          "height": 618
        },
        "id": "6sudRZ8pNqOf",
        "outputId": "81981427-2790-4ae6-cd40-61ecacaa0cc2"
      },
      "execution_count": 127,
      "outputs": [
        {
          "output_type": "display_data",
          "data": {
            "text/plain": [
              "<Figure size 720x576 with 2 Axes>"
            ],
            "image/png": "[encoded data removed]"
          },
          "metadata": {
            "needs_background": "light"
          }
        }
      ]
    },
    {
      "cell_type": "code",
      "source": [
        "#Total Visits\n",
        "#visualizing spread of variable\n",
        "\n",
        "plt.figure(figsize=(6,4))\n",
        "sns.boxplot(y=Lead_data['TotalVisits'])\n",
        "plt.show()"
      ],
      "metadata": {
        "colab": {
          "base_uri": "https://localhost:8080/",
          "height": 252
        },
        "id": "Rf2C5EfKNt-U",
        "outputId": "7eee7bb8-f828-4d46-b95e-dabb4395cd60"
      },
      "execution_count": 128,
      "outputs": [
        {
          "output_type": "display_data",
          "data": {
            "text/plain": [
              "<Figure size 432x288 with 1 Axes>"
            ],
            "image/png": "[encoded data removed]"
          },
          "metadata": {
            "needs_background": "light"
          }
        }
      ]
    },
    {
      "cell_type": "code",
      "source": [
        "#checking percentile values for \"Total Visits\"\n",
        "\n",
        "Lead_data['TotalVisits'].describe(percentiles=[0.05,.25, .5, .75, .90, .95, .99])"
      ],
      "metadata": {
        "colab": {
          "base_uri": "https://localhost:8080/"
        },
        "id": "rCkS3SccNy8G",
        "outputId": "d6affa0c-553f-4249-fa08-34069cab749a"
      },
      "execution_count": 129,
      "outputs": [
        {
          "output_type": "execute_result",
          "data": {
            "text/plain": [
              "count    9074.000000\n",
              "mean        3.456028\n",
              "std         4.858802\n",
              "min         0.000000\n",
              "5%          0.000000\n",
              "25%         1.000000\n",
              "50%         3.000000\n",
              "75%         5.000000\n",
              "90%         7.000000\n",
              "95%        10.000000\n",
              "99%        17.000000\n",
              "max       251.000000\n",
              "Name: TotalVisits, dtype: float64"
            ]
          },
          "metadata": {},
          "execution_count": 129
        }
      ]
    },
    {
      "cell_type": "code",
      "source": [
        "#Outlier Treatment: Remove top & bottom 1% of the Column Outlier values\n",
        "\n",
        "Q3 = Lead_data.TotalVisits.quantile(0.99)\n",
        "leads = Lead_data[(Lead_data.TotalVisits <= Q3)]\n",
        "Q1 = leads.TotalVisits.quantile(0.01)\n",
        "leads = leads[(leads.TotalVisits >= Q1)]\n",
        "sns.boxplot(y=leads['TotalVisits'])\n",
        "plt.show()"
      ],
      "metadata": {
        "colab": {
          "base_uri": "https://localhost:8080/",
          "height": 252
        },
        "id": "TgslQRYON3MS",
        "outputId": "d0d5a245-c9d7-4248-af20-3862e031cd9d"
      },
      "execution_count": 130,
      "outputs": [
        {
          "output_type": "display_data",
          "data": {
            "text/plain": [
              "<Figure size 432x288 with 1 Axes>"
            ],
            "image/png": "[encoded data removed]"
          },
          "metadata": {
            "needs_background": "light"
          }
        }
      ]
    },
    {
      "cell_type": "code",
      "source": [
        "Lead_data.shape"
      ],
      "metadata": {
        "colab": {
          "base_uri": "https://localhost:8080/"
        },
        "id": "bOB_SVgyN6wS",
        "outputId": "c4cf3740-1c6e-44aa-ea1d-c38cc78036ef"
      },
      "execution_count": 131,
      "outputs": [
        {
          "output_type": "execute_result",
          "data": {
            "text/plain": [
              "(9074, 23)"
            ]
          },
          "metadata": {},
          "execution_count": 131
        }
      ]
    },
    {
      "cell_type": "code",
      "source": [
        "#checking percentiles for \"Total Time Spent on Website\"\n",
        "\n",
        "Lead_data['Total Time Spent on Website'].describe(percentiles=[0.05,.25, .5, .75, .90, .95, .99])"
      ],
      "metadata": {
        "colab": {
          "base_uri": "https://localhost:8080/"
        },
        "id": "mtKqJX5pN9lr",
        "outputId": "4fc3786c-4fa9-4de5-ee41-9f96bc98eb0f"
      },
      "execution_count": 132,
      "outputs": [
        {
          "output_type": "execute_result",
          "data": {
            "text/plain": [
              "count    9074.000000\n",
              "mean      482.887481\n",
              "std       545.256560\n",
              "min         0.000000\n",
              "5%          0.000000\n",
              "25%        11.000000\n",
              "50%       246.000000\n",
              "75%       922.750000\n",
              "90%      1373.000000\n",
              "95%      1557.000000\n",
              "99%      1839.000000\n",
              "max      2272.000000\n",
              "Name: Total Time Spent on Website, dtype: float64"
            ]
          },
          "metadata": {},
          "execution_count": 132
        }
      ]
    },
    {
      "cell_type": "code",
      "source": [
        "#visualizing spread of numeric variable\n",
        "\n",
        "plt.figure(figsize=(6,4))\n",
        "sns.boxplot(y=Lead_data['Total Time Spent on Website'])\n",
        "plt.show()"
      ],
      "metadata": {
        "colab": {
          "base_uri": "https://localhost:8080/",
          "height": 252
        },
        "id": "Zzhl1iEiOAR5",
        "outputId": "b60f850c-580c-4617-8e87-1c6e06a0108a"
      },
      "execution_count": 133,
      "outputs": [
        {
          "output_type": "display_data",
          "data": {
            "text/plain": [
              "<Figure size 432x288 with 1 Axes>"
            ],
            "image/png": "[encoded data removed]"
          },
          "metadata": {
            "needs_background": "light"
          }
        }
      ]
    },
    {
      "cell_type": "code",
      "source": [
        "#checking spread of \"Page Views Per Visit\"\n",
        "\n",
        "Lead_data['Page Views Per Visit'].describe()"
      ],
      "metadata": {
        "colab": {
          "base_uri": "https://localhost:8080/"
        },
        "id": "zjC57Oq4OC80",
        "outputId": "dd4a1412-0bd5-4500-e0ff-7976c82e4528"
      },
      "execution_count": 134,
      "outputs": [
        {
          "output_type": "execute_result",
          "data": {
            "text/plain": [
              "count    9074.000000\n",
              "mean        2.370151\n",
              "std         2.160871\n",
              "min         0.000000\n",
              "25%         1.000000\n",
              "50%         2.000000\n",
              "75%         3.200000\n",
              "max        55.000000\n",
              "Name: Page Views Per Visit, dtype: float64"
            ]
          },
          "metadata": {},
          "execution_count": 134
        }
      ]
    },
    {
      "cell_type": "code",
      "source": [
        "#visualizing spread of numeric variable\n",
        "\n",
        "plt.figure(figsize=(6,4))\n",
        "sns.boxplot(y=Lead_data['Page Views Per Visit'])\n",
        "plt.show()"
      ],
      "metadata": {
        "colab": {
          "base_uri": "https://localhost:8080/",
          "height": 252
        },
        "id": "GUD6g1TtOFsj",
        "outputId": "48950bd5-1b4d-49ab-bb87-052dff90327a"
      },
      "execution_count": 135,
      "outputs": [
        {
          "output_type": "display_data",
          "data": {
            "text/plain": [
              "<Figure size 432x288 with 1 Axes>"
            ],
            "image/png": "[encoded data removed]"
          },
          "metadata": {
            "needs_background": "light"
          }
        }
      ]
    },
    {
      "cell_type": "code",
      "source": [
        "#Outlier Treatment: Remove top & bottom 1% \n",
        "\n",
        "Q3 = Lead_data['Page Views Per Visit'].quantile(0.99)\n",
        "Lead_data = Lead_data[Lead_data['Page Views Per Visit'] <= Q3]\n",
        "Q1 = Lead_data['Page Views Per Visit'].quantile(0.01)\n",
        "Lead_data = Lead_data[Lead_data['Page Views Per Visit'] >= Q1]\n",
        "sns.boxplot(y=Lead_data['Page Views Per Visit'])\n",
        "plt.show()"
      ],
      "metadata": {
        "colab": {
          "base_uri": "https://localhost:8080/",
          "height": 252
        },
        "id": "vuXbzn5TOKLZ",
        "outputId": "088ef7f1-e36c-40c7-a159-8b4ff7952c94"
      },
      "execution_count": 136,
      "outputs": [
        {
          "output_type": "display_data",
          "data": {
            "text/plain": [
              "<Figure size 432x288 with 1 Axes>"
            ],
            "image/png": "[encoded data removed]"
          },
          "metadata": {
            "needs_background": "light"
          }
        }
      ]
    },
    {
      "cell_type": "code",
      "source": [
        "Lead_data.shape"
      ],
      "metadata": {
        "colab": {
          "base_uri": "https://localhost:8080/"
        },
        "id": "J2bhVP1QOQfV",
        "outputId": "710a06b9-4b0a-4fba-970c-82f67780a3b2"
      },
      "execution_count": 137,
      "outputs": [
        {
          "output_type": "execute_result",
          "data": {
            "text/plain": [
              "(8999, 23)"
            ]
          },
          "metadata": {},
          "execution_count": 137
        }
      ]
    },
    {
      "cell_type": "code",
      "source": [
        "#checking Spread of \"Total Visits\" vs Converted variable\n",
        "sns.boxplot(y = 'TotalVisits', x = 'Converted', data = Lead_data)\n",
        "plt.show()"
      ],
      "metadata": {
        "colab": {
          "base_uri": "https://localhost:8080/",
          "height": 279
        },
        "id": "6ff_3SoFOStP",
        "outputId": "490bfd81-89fa-4795-cff8-818f6ec97eb4"
      },
      "execution_count": 138,
      "outputs": [
        {
          "output_type": "display_data",
          "data": {
            "text/plain": [
              "<Figure size 432x288 with 1 Axes>"
            ],
            "image/png": "[encoded data removed]"
          },
          "metadata": {
            "needs_background": "light"
          }
        }
      ]
    },
    {
      "cell_type": "code",
      "source": [
        "#checking Spread of \"Total Time Spent on Website\" vs Converted variable\n",
        "\n",
        "sns.boxplot(x=Lead_data.Converted, y=Lead_data['Total Time Spent on Website'])\n",
        "plt.show()\n"
      ],
      "metadata": {
        "colab": {
          "base_uri": "https://localhost:8080/",
          "height": 279
        },
        "id": "V22OUHwSOVAP",
        "outputId": "90f7a300-af54-4193-e8fc-6faa337f599b"
      },
      "execution_count": 139,
      "outputs": [
        {
          "output_type": "display_data",
          "data": {
            "text/plain": [
              "<Figure size 432x288 with 1 Axes>"
            ],
            "image/png": "[encoded data removed]"
          },
          "metadata": {
            "needs_background": "light"
          }
        }
      ]
    },
    {
      "cell_type": "code",
      "source": [
        "#checking Spread of \"Page Views Per Visit\" vs Converted variable\n",
        "\n",
        "sns.boxplot(x=Lead_data.Converted,y=Lead_data['Page Views Per Visit'])\n",
        "plt.show()"
      ],
      "metadata": {
        "colab": {
          "base_uri": "https://localhost:8080/",
          "height": 279
        },
        "id": "PQDqK8E2OYOT",
        "outputId": "2301a24b-1393-4dfa-b201-616cb2e7e5ad"
      },
      "execution_count": 140,
      "outputs": [
        {
          "output_type": "display_data",
          "data": {
            "text/plain": [
              "<Figure size 432x288 with 1 Axes>"
            ],
            "image/png": "[encoded data removed]"
          },
          "metadata": {
            "needs_background": "light"
          }
        }
      ]
    },
    {
      "cell_type": "code",
      "source": [
        "#checking missing values in leftover columns/\n",
        "\n",
        "round(100*(Lead_data.isnull().sum()/len(Lead_data.index)),2)"
      ],
      "metadata": {
        "colab": {
          "base_uri": "https://localhost:8080/"
        },
        "id": "YXyv-ROUObwx",
        "outputId": "61fe5a80-3e35-4a8e-dd83-a4c1e4f53344"
      },
      "execution_count": 141,
      "outputs": [
        {
          "output_type": "execute_result",
          "data": {
            "text/plain": [
              "Lead Origin                                      0.0\n",
              "Lead Source                                      0.0\n",
              "Do Not Email                                     0.0\n",
              "Do Not Call                                      0.0\n",
              "Converted                                        0.0\n",
              "TotalVisits                                      0.0\n",
              "Total Time Spent on Website                      0.0\n",
              "Page Views Per Visit                             0.0\n",
              "Last Activity                                    0.0\n",
              "Country                                          0.0\n",
              "Specialization                                   0.0\n",
              "What is your current occupation                  0.0\n",
              "What matters most to you in choosing a course    0.0\n",
              "Search                                           0.0\n",
              "Newspaper Article                                0.0\n",
              "X Education Forums                               0.0\n",
              "Newspaper                                        0.0\n",
              "Digital Advertisement                            0.0\n",
              "Through Recommendations                          0.0\n",
              "Tags                                             0.0\n",
              "City                                             0.0\n",
              "A free copy of Mastering The Interview           0.0\n",
              "Last Notable Activity                            0.0\n",
              "dtype: float64"
            ]
          },
          "metadata": {},
          "execution_count": 141
        }
      ]
    },
    {
      "cell_type": "code",
      "source": [
        "#getting a list of categorical columns\n",
        "\n",
        "cat_cols= Lead_data.select_dtypes(include=['object']).columns\n",
        "cat_cols"
      ],
      "metadata": {
        "colab": {
          "base_uri": "https://localhost:8080/"
        },
        "id": "L1dfvs7COepf",
        "outputId": "b82ee91c-c8bd-4a79-9cdf-5980d2d49f27"
      },
      "execution_count": 142,
      "outputs": [
        {
          "output_type": "execute_result",
          "data": {
            "text/plain": [
              "Index(['Lead Origin', 'Lead Source', 'Do Not Email', 'Do Not Call',\n",
              "       'Last Activity', 'Country', 'Specialization',\n",
              "       'What is your current occupation',\n",
              "       'What matters most to you in choosing a course', 'Search',\n",
              "       'Newspaper Article', 'X Education Forums', 'Newspaper',\n",
              "       'Digital Advertisement', 'Through Recommendations', 'Tags', 'City',\n",
              "       'A free copy of Mastering The Interview', 'Last Notable Activity'],\n",
              "      dtype='object')"
            ]
          },
          "metadata": {},
          "execution_count": 142
        }
      ]
    },
    {
      "cell_type": "code",
      "source": [
        "# List of variables to map\n",
        "\n",
        "varlist =  ['A free copy of Mastering The Interview','Do Not Email']\n",
        "\n",
        "# Defining the map function\n",
        "def binary_map(x):\n",
        "    return x.map({'Yes': 1, \"No\": 0})\n",
        "\n",
        "# Applying the function to the housing list\n",
        "Lead_data[varlist] = Lead_data[varlist].apply(binary_map)"
      ],
      "metadata": {
        "id": "20G9o5s8Ohdy"
      },
      "execution_count": 143,
      "outputs": []
    },
    {
      "cell_type": "code",
      "source": [
        "#getting dummies and dropping the first column and adding the results to the master dataframe\n",
        "dummy = pd.get_dummies(Lead_data[['Lead Origin','What is your current occupation',\n",
        "                             'City']], drop_first=True)\n",
        "\n",
        "Lead_data = pd.concat([Lead_data,dummy],1)"
      ],
      "metadata": {
        "id": "3VpyYWzpOl0d"
      },
      "execution_count": 144,
      "outputs": []
    },
    {
      "cell_type": "code",
      "source": [
        "dummy = pd.get_dummies(Lead_data['Specialization'], prefix  = 'Specialization')\n",
        "Lead_data = pd.concat([Lead_data, dummy], axis = 1)"
      ],
      "metadata": {
        "id": "XwTOsGrnOpYd"
      },
      "execution_count": 146,
      "outputs": []
    },
    {
      "cell_type": "code",
      "source": [
        "dummy = pd.get_dummies(Lead_data['Lead Source'], prefix  = 'Lead Source')\n",
        "dummy = dummy.drop(['Lead Source_Others'], 1)\n",
        "Lead_data = pd.concat([Lead_data, dummy], axis = 1)"
      ],
      "metadata": {
        "id": "UIYjZHJ6OtSY"
      },
      "execution_count": 147,
      "outputs": []
    },
    {
      "cell_type": "code",
      "source": [
        "dummy = pd.get_dummies(Lead_data['Last Activity'], prefix  = 'Last Activity')\n",
        "dummy = dummy.drop(['Last Activity_Others'], 1)\n",
        "Lead_data = pd.concat([Lead_data, dummy], axis = 1)"
      ],
      "metadata": {
        "id": "ADee7WwJO0XF"
      },
      "execution_count": 148,
      "outputs": []
    },
    {
      "cell_type": "code",
      "source": [
        "dummy = pd.get_dummies(Lead_data['Last Notable Activity'], prefix  = 'Last Notable Activity')\n",
        "dummy = dummy.drop(['Last Notable Activity_Other_Notable_activity'], 1)\n",
        "Lead_data = pd.concat([Lead_data, dummy], axis = 1)"
      ],
      "metadata": {
        "id": "lrObOfzWO4KV"
      },
      "execution_count": 149,
      "outputs": []
    },
    {
      "cell_type": "code",
      "source": [
        "dummy = pd.get_dummies(Lead_data['Tags'], prefix  = 'Tags')\n",
        "Lead_data = pd.concat([Lead_data, dummy], axis = 1)"
      ],
      "metadata": {
        "id": "qUs-v_KaO8NU"
      },
      "execution_count": 152,
      "outputs": []
    },
    {
      "cell_type": "code",
      "source": [
        "#dropping the original columns after dummy variable creation\n",
        "\n",
        "Lead_data.drop(cat_cols,1,inplace = True)"
      ],
      "metadata": {
        "id": "Pp_WTVZeO_Nt"
      },
      "execution_count": 153,
      "outputs": []
    },
    {
      "cell_type": "code",
      "source": [
        "Lead_data.head()"
      ],
      "metadata": {
        "colab": {
          "base_uri": "https://localhost:8080/",
          "height": 369
        },
        "id": "d4QrRhkMPFNZ",
        "outputId": "a7459cf3-bb08-433b-c0bc-9881af7172dd"
      },
      "execution_count": 154,
      "outputs": [
        {
          "output_type": "execute_result",
          "data": {
            "text/plain": [
              "   Converted  TotalVisits  Total Time Spent on Website  Page Views Per Visit  \\\n",
              "0          0          0.0                            0                   0.0   \n",
              "1          0          5.0                          674                   2.5   \n",
              "2          1          2.0                         1532                   2.0   \n",
              "3          0          1.0                          305                   1.0   \n",
              "4          1          2.0                         1428                   1.0   \n",
              "\n",
              "   Lead Origin_Landing Page Submission  Lead Origin_Lead Add Form  \\\n",
              "0                                    0                          0   \n",
              "1                                    0                          0   \n",
              "2                                    1                          0   \n",
              "3                                    1                          0   \n",
              "4                                    1                          0   \n",
              "\n",
              "   Lead Origin_Lead Import  What is your current occupation_Housewife  \\\n",
              "0                        0                                          0   \n",
              "1                        0                                          0   \n",
              "2                        0                                          0   \n",
              "3                        0                                          0   \n",
              "4                        0                                          0   \n",
              "\n",
              "   What is your current occupation_Other  \\\n",
              "0                                      0   \n",
              "1                                      0   \n",
              "2                                      0   \n",
              "3                                      0   \n",
              "4                                      0   \n",
              "\n",
              "   What is your current occupation_Student  ...  \\\n",
              "0                                        0  ...   \n",
              "1                                        0  ...   \n",
              "2                                        1  ...   \n",
              "3                                        0  ...   \n",
              "4                                        0  ...   \n",
              "\n",
              "   Last Notable Activity_Page Visited on Website  \\\n",
              "0                                              0   \n",
              "1                                              0   \n",
              "2                                              0   \n",
              "3                                              0   \n",
              "4                                              0   \n",
              "\n",
              "   Last Notable Activity_SMS Sent  Tags_Busy  Tags_Closed by Horizzon  \\\n",
              "0                               0          0                        0   \n",
              "1                               0          0                        0   \n",
              "2                               0          0                        0   \n",
              "3                               0          0                        0   \n",
              "4                               0          0                        0   \n",
              "\n",
              "   Tags_Interested in other courses  Tags_Lost to EINS  Tags_Other_Tags  \\\n",
              "0                                 1                  0                0   \n",
              "1                                 0                  0                0   \n",
              "2                                 0                  0                0   \n",
              "3                                 0                  0                0   \n",
              "4                                 0                  0                0   \n",
              "\n",
              "   Tags_Ringing  Tags_Will revert after reading the email  Tags_not provided  \n",
              "0             0                                         0                  0  \n",
              "1             1                                         0                  0  \n",
              "2             0                                         1                  0  \n",
              "3             1                                         0                  0  \n",
              "4             0                                         1                  0  \n",
              "\n",
              "[5 rows x 61 columns]"
            ],
            "text/html": [
              "\n",
              "  <div id=\"df-92683e9b-ada8-48dd-a3ec-fa93200d492a\">\n",
              "    <div class=\"colab-df-container\">\n",
              "      <div>\n",
              "<style scoped>\n",
              "    .dataframe tbody tr th:only-of-type {\n",
              "        vertical-align: middle;\n",
              "    }\n",
              "\n",
              "    .dataframe tbody tr th {\n",
              "        vertical-align: top;\n",
              "    }\n",
              "\n",
              "    .dataframe thead th {\n",
              "        text-align: right;\n",
              "    }\n",
              "</style>\n",
              "<table border=\"1\" class=\"dataframe\">\n",
              "  <thead>\n",
              "    <tr style=\"text-align: right;\">\n",
              "      <th></th>\n",
              "      <th>Converted</th>\n",
              "      <th>TotalVisits</th>\n",
              "      <th>Total Time Spent on Website</th>\n",
              "      <th>Page Views Per Visit</th>\n",
              "      <th>Lead Origin_Landing Page Submission</th>\n",
              "      <th>Lead Origin_Lead Add Form</th>\n",
              "      <th>Lead Origin_Lead Import</th>\n",
              "      <th>What is your current occupation_Housewife</th>\n",
              "      <th>What is your current occupation_Other</th>\n",
              "      <th>What is your current occupation_Student</th>\n",
              "      <th>...</th>\n",
              "      <th>Last Notable Activity_Page Visited on Website</th>\n",
              "      <th>Last Notable Activity_SMS Sent</th>\n",
              "      <th>Tags_Busy</th>\n",
              "      <th>Tags_Closed by Horizzon</th>\n",
              "      <th>Tags_Interested in other courses</th>\n",
              "      <th>Tags_Lost to EINS</th>\n",
              "      <th>Tags_Other_Tags</th>\n",
              "      <th>Tags_Ringing</th>\n",
              "      <th>Tags_Will revert after reading the email</th>\n",
              "      <th>Tags_not provided</th>\n",
              "    </tr>\n",
              "  </thead>\n",
              "  <tbody>\n",
              "    <tr>\n",
              "      <th>0</th>\n",
              "      <td>0</td>\n",
              "      <td>0.0</td>\n",
              "      <td>0</td>\n",
              "      <td>0.0</td>\n",
              "      <td>0</td>\n",
              "      <td>0</td>\n",
              "      <td>0</td>\n",
              "      <td>0</td>\n",
              "      <td>0</td>\n",
              "      <td>0</td>\n",
              "      <td>...</td>\n",
              "      <td>0</td>\n",
              "      <td>0</td>\n",
              "      <td>0</td>\n",
              "      <td>0</td>\n",
              "      <td>1</td>\n",
              "      <td>0</td>\n",
              "      <td>0</td>\n",
              "      <td>0</td>\n",
              "      <td>0</td>\n",
              "      <td>0</td>\n",
              "    </tr>\n",
              "    <tr>\n",
              "      <th>1</th>\n",
              "      <td>0</td>\n",
              "      <td>5.0</td>\n",
              "      <td>674</td>\n",
              "      <td>2.5</td>\n",
              "      <td>0</td>\n",
              "      <td>0</td>\n",
              "      <td>0</td>\n",
              "      <td>0</td>\n",
              "      <td>0</td>\n",
              "      <td>0</td>\n",
              "      <td>...</td>\n",
              "      <td>0</td>\n",
              "      <td>0</td>\n",
              "      <td>0</td>\n",
              "      <td>0</td>\n",
              "      <td>0</td>\n",
              "      <td>0</td>\n",
              "      <td>0</td>\n",
              "      <td>1</td>\n",
              "      <td>0</td>\n",
              "      <td>0</td>\n",
              "    </tr>\n",
              "    <tr>\n",
              "      <th>2</th>\n",
              "      <td>1</td>\n",
              "      <td>2.0</td>\n",
              "      <td>1532</td>\n",
              "      <td>2.0</td>\n",
              "      <td>1</td>\n",
              "      <td>0</td>\n",
              "      <td>0</td>\n",
              "      <td>0</td>\n",
              "      <td>0</td>\n",
              "      <td>1</td>\n",
              "      <td>...</td>\n",
              "      <td>0</td>\n",
              "      <td>0</td>\n",
              "      <td>0</td>\n",
              "      <td>0</td>\n",
              "      <td>0</td>\n",
              "      <td>0</td>\n",
              "      <td>0</td>\n",
              "      <td>0</td>\n",
              "      <td>1</td>\n",
              "      <td>0</td>\n",
              "    </tr>\n",
              "    <tr>\n",
              "      <th>3</th>\n",
              "      <td>0</td>\n",
              "      <td>1.0</td>\n",
              "      <td>305</td>\n",
              "      <td>1.0</td>\n",
              "      <td>1</td>\n",
              "      <td>0</td>\n",
              "      <td>0</td>\n",
              "      <td>0</td>\n",
              "      <td>0</td>\n",
              "      <td>0</td>\n",
              "      <td>...</td>\n",
              "      <td>0</td>\n",
              "      <td>0</td>\n",
              "      <td>0</td>\n",
              "      <td>0</td>\n",
              "      <td>0</td>\n",
              "      <td>0</td>\n",
              "      <td>0</td>\n",
              "      <td>1</td>\n",
              "      <td>0</td>\n",
              "      <td>0</td>\n",
              "    </tr>\n",
              "    <tr>\n",
              "      <th>4</th>\n",
              "      <td>1</td>\n",
              "      <td>2.0</td>\n",
              "      <td>1428</td>\n",
              "      <td>1.0</td>\n",
              "      <td>1</td>\n",
              "      <td>0</td>\n",
              "      <td>0</td>\n",
              "      <td>0</td>\n",
              "      <td>0</td>\n",
              "      <td>0</td>\n",
              "      <td>...</td>\n",
              "      <td>0</td>\n",
              "      <td>0</td>\n",
              "      <td>0</td>\n",
              "      <td>0</td>\n",
              "      <td>0</td>\n",
              "      <td>0</td>\n",
              "      <td>0</td>\n",
              "      <td>0</td>\n",
              "      <td>1</td>\n",
              "      <td>0</td>\n",
              "    </tr>\n",
              "  </tbody>\n",
              "</table>\n",
              "<p>5 rows × 61 columns</p>\n",
              "</div>\n",
              "      <button class=\"colab-df-convert\" onclick=\"convertToInteractive('df-92683e9b-ada8-48dd-a3ec-fa93200d492a')\"\n",
              "              title=\"Convert this dataframe to an interactive table.\"\n",
              "              style=\"display:none;\">\n",
              "        \n",
              "  <svg xmlns=\"http://www.w3.org/2000/svg\" height=\"24px\"viewBox=\"0 0 24 24\"\n",
              "       width=\"24px\">\n",
              "    <path d=\"M0 0h24v24H0V0z\" fill=\"none\"/>\n",
              "    <path d=\"M18.56 5.44l.94 2.06.94-2.06 2.06-.94-2.06-.94-.94-2.06-.94 2.06-2.06.94zm-11 1L8.5 8.5l.94-2.06 2.06-.94-2.06-.94L8.5 2.5l-.94 2.06-2.06.94zm10 10l.94 2.06.94-2.06 2.06-.94-2.06-.94-.94-2.06-.94 2.06-2.06.94z\"/><path d=\"M17.41 7.96l-1.37-1.37c-.4-.4-.92-.59-1.43-.59-.52 0-1.04.2-1.43.59L10.3 9.45l-7.72 7.72c-.78.78-.78 2.05 0 2.83L4 21.41c.39.39.9.59 1.41.59.51 0 1.02-.2 1.41-.59l7.78-7.78 2.81-2.81c.8-.78.8-2.07 0-2.86zM5.41 20L4 18.59l7.72-7.72 1.47 1.35L5.41 20z\"/>\n",
              "  </svg>\n",
              "      </button>\n",
              "      \n",
              "  <style>\n",
              "    .colab-df-container {\n",
              "      display:flex;\n",
              "      flex-wrap:wrap;\n",
              "      gap: 12px;\n",
              "    }\n",
              "\n",
              "    .colab-df-convert {\n",
              "      background-color: #E8F0FE;\n",
              "      border: none;\n",
              "      border-radius: 50%;\n",
              "      cursor: pointer;\n",
              "      display: none;\n",
              "      fill: #1967D2;\n",
              "      height: 32px;\n",
              "      padding: 0 0 0 0;\n",
              "      width: 32px;\n",
              "    }\n",
              "\n",
              "    .colab-df-convert:hover {\n",
              "      background-color: #E2EBFA;\n",
              "      box-shadow: 0px 1px 2px rgba(60, 64, 67, 0.3), 0px 1px 3px 1px rgba(60, 64, 67, 0.15);\n",
              "      fill: #174EA6;\n",
              "    }\n",
              "\n",
              "    [theme=dark] .colab-df-convert {\n",
              "      background-color: #3B4455;\n",
              "      fill: #D2E3FC;\n",
              "    }\n",
              "\n",
              "    [theme=dark] .colab-df-convert:hover {\n",
              "      background-color: #434B5C;\n",
              "      box-shadow: 0px 1px 3px 1px rgba(0, 0, 0, 0.15);\n",
              "      filter: drop-shadow(0px 1px 2px rgba(0, 0, 0, 0.3));\n",
              "      fill: #FFFFFF;\n",
              "    }\n",
              "  </style>\n",
              "\n",
              "      <script>\n",
              "        const buttonEl =\n",
              "          document.querySelector('#df-92683e9b-ada8-48dd-a3ec-fa93200d492a button.colab-df-convert');\n",
              "        buttonEl.style.display =\n",
              "          google.colab.kernel.accessAllowed ? 'block' : 'none';\n",
              "\n",
              "        async function convertToInteractive(key) {\n",
              "          const element = document.querySelector('#df-92683e9b-ada8-48dd-a3ec-fa93200d492a');\n",
              "          const dataTable =\n",
              "            await google.colab.kernel.invokeFunction('convertToInteractive',\n",
              "                                                     [key], {});\n",
              "          if (!dataTable) return;\n",
              "\n",
              "          const docLinkHtml = 'Like what you see? Visit the ' +\n",
              "            '<a target=\"_blank\" href=https://colab.research.google.com/notebooks/data_table.ipynb>data table notebook</a>'\n",
              "            + ' to learn more about interactive tables.';\n",
              "          element.innerHTML = '';\n",
              "          dataTable['output_type'] = 'display_data';\n",
              "          await google.colab.output.renderOutput(dataTable, element);\n",
              "          const docLink = document.createElement('div');\n",
              "          docLink.innerHTML = docLinkHtml;\n",
              "          element.appendChild(docLink);\n",
              "        }\n",
              "      </script>\n",
              "    </div>\n",
              "  </div>\n",
              "  "
            ]
          },
          "metadata": {},
          "execution_count": 154
        }
      ]
    },
    {
      "cell_type": "code",
      "source": [
        "from sklearn.model_selection import train_test_split\n",
        "\n",
        "# Putting response variable to y\n",
        "y = Lead_data['Converted']\n",
        "\n",
        "y.head()\n",
        "\n",
        "X=Lead_data.drop('Converted', axis=1)"
      ],
      "metadata": {
        "id": "Av2g3CffPHO-"
      },
      "execution_count": 155,
      "outputs": []
    },
    {
      "cell_type": "code",
      "source": [
        "# Splitting the data into train and test\n",
        "X_train, X_test, y_train, y_test = train_test_split(X, y, train_size=0.7, test_size=0.3, random_state=100)"
      ],
      "metadata": {
        "id": "8ma3K72CPK6W"
      },
      "execution_count": 156,
      "outputs": []
    },
    {
      "cell_type": "code",
      "source": [
        "X_train.info()"
      ],
      "metadata": {
        "colab": {
          "base_uri": "https://localhost:8080/"
        },
        "id": "aqPsDotSPNjD",
        "outputId": "2c238478-5375-40aa-c7bf-450d689d2926"
      },
      "execution_count": 157,
      "outputs": [
        {
          "output_type": "stream",
          "name": "stdout",
          "text": [
            "<class 'pandas.core.frame.DataFrame'>\n",
            "Int64Index: 6299 entries, 4739 to 5800\n",
            "Data columns (total 60 columns):\n",
            " #   Column                                                Non-Null Count  Dtype  \n",
            "---  ------                                                --------------  -----  \n",
            " 0   TotalVisits                                           6299 non-null   float64\n",
            " 1   Total Time Spent on Website                           6299 non-null   int64  \n",
            " 2   Page Views Per Visit                                  6299 non-null   float64\n",
            " 3   Lead Origin_Landing Page Submission                   6299 non-null   uint8  \n",
            " 4   Lead Origin_Lead Add Form                             6299 non-null   uint8  \n",
            " 5   Lead Origin_Lead Import                               6299 non-null   uint8  \n",
            " 6   What is your current occupation_Housewife             6299 non-null   uint8  \n",
            " 7   What is your current occupation_Other                 6299 non-null   uint8  \n",
            " 8   What is your current occupation_Student               6299 non-null   uint8  \n",
            " 9   What is your current occupation_Unemployed            6299 non-null   uint8  \n",
            " 10  What is your current occupation_Working Professional  6299 non-null   uint8  \n",
            " 11  What is your current occupation_not provided          6299 non-null   uint8  \n",
            " 12  City_Other Cities                                     6299 non-null   uint8  \n",
            " 13  City_Other Cities of Maharashtra                      6299 non-null   uint8  \n",
            " 14  City_Other Metro Cities                               6299 non-null   uint8  \n",
            " 15  City_Thane & Outskirts                                6299 non-null   uint8  \n",
            " 16  City_Tier II Cities                                   6299 non-null   uint8  \n",
            " 17  City_not provided                                     6299 non-null   uint8  \n",
            " 18  Specialization_Banking, Investment And Insurance      6299 non-null   uint8  \n",
            " 19  Specialization_Business Administration                6299 non-null   uint8  \n",
            " 20  Specialization_E-Business                             6299 non-null   uint8  \n",
            " 21  Specialization_E-COMMERCE                             6299 non-null   uint8  \n",
            " 22  Specialization_International Business                 6299 non-null   uint8  \n",
            " 23  Specialization_Management_Specializations             6299 non-null   uint8  \n",
            " 24  Specialization_Media and Advertising                  6299 non-null   uint8  \n",
            " 25  Specialization_Rural and Agribusiness                 6299 non-null   uint8  \n",
            " 26  Specialization_Services Excellence                    6299 non-null   uint8  \n",
            " 27  Specialization_Travel and Tourism                     6299 non-null   uint8  \n",
            " 28  Specialization_not provided                           6299 non-null   uint8  \n",
            " 29  Lead Source_Direct Traffic                            6299 non-null   uint8  \n",
            " 30  Lead Source_Google                                    6299 non-null   uint8  \n",
            " 31  Lead Source_Live Chat                                 6299 non-null   uint8  \n",
            " 32  Lead Source_Olark Chat                                6299 non-null   uint8  \n",
            " 33  Lead Source_Organic Search                            6299 non-null   uint8  \n",
            " 34  Lead Source_Reference                                 6299 non-null   uint8  \n",
            " 35  Lead Source_Referral Sites                            6299 non-null   uint8  \n",
            " 36  Lead Source_Social Media                              6299 non-null   uint8  \n",
            " 37  Lead Source_Welingak Website                          6299 non-null   uint8  \n",
            " 38  Last Activity_Converted to Lead                       6299 non-null   uint8  \n",
            " 39  Last Activity_Email Bounced                           6299 non-null   uint8  \n",
            " 40  Last Activity_Email Link Clicked                      6299 non-null   uint8  \n",
            " 41  Last Activity_Email Opened                            6299 non-null   uint8  \n",
            " 42  Last Activity_Form Submitted on Website               6299 non-null   uint8  \n",
            " 43  Last Activity_Olark Chat Conversation                 6299 non-null   uint8  \n",
            " 44  Last Activity_Page Visited on Website                 6299 non-null   uint8  \n",
            " 45  Last Activity_SMS Sent                                6299 non-null   uint8  \n",
            " 46  Last Notable Activity_Email Link Clicked              6299 non-null   uint8  \n",
            " 47  Last Notable Activity_Email Opened                    6299 non-null   uint8  \n",
            " 48  Last Notable Activity_Modified                        6299 non-null   uint8  \n",
            " 49  Last Notable Activity_Olark Chat Conversation         6299 non-null   uint8  \n",
            " 50  Last Notable Activity_Page Visited on Website         6299 non-null   uint8  \n",
            " 51  Last Notable Activity_SMS Sent                        6299 non-null   uint8  \n",
            " 52  Tags_Busy                                             6299 non-null   uint8  \n",
            " 53  Tags_Closed by Horizzon                               6299 non-null   uint8  \n",
            " 54  Tags_Interested in other courses                      6299 non-null   uint8  \n",
            " 55  Tags_Lost to EINS                                     6299 non-null   uint8  \n",
            " 56  Tags_Other_Tags                                       6299 non-null   uint8  \n",
            " 57  Tags_Ringing                                          6299 non-null   uint8  \n",
            " 58  Tags_Will revert after reading the email              6299 non-null   uint8  \n",
            " 59  Tags_not provided                                     6299 non-null   uint8  \n",
            "dtypes: float64(2), int64(1), uint8(57)\n",
            "memory usage: 547.5 KB\n"
          ]
        }
      ]
    },
    {
      "cell_type": "code",
      "source": [
        "#scaling numeric columns\n",
        "\n",
        "from sklearn.preprocessing import StandardScaler\n",
        "\n",
        "scaler = StandardScaler()\n",
        "\n",
        "num_cols=X_train.select_dtypes(include=['float64', 'int64']).columns\n",
        "\n",
        "X_train[num_cols] = scaler.fit_transform(X_train[num_cols])\n",
        "\n",
        "X_train.head()"
      ],
      "metadata": {
        "colab": {
          "base_uri": "https://localhost:8080/",
          "height": 369
        },
        "id": "ApHRjjlNPPHp",
        "outputId": "c55aeb0f-21c0-4675-de68-b9656e6098d5"
      },
      "execution_count": 158,
      "outputs": [
        {
          "output_type": "execute_result",
          "data": {
            "text/plain": [
              "      TotalVisits  Total Time Spent on Website  Page Views Per Visit  \\\n",
              "4739    -0.270741                    -0.390877             -0.151104   \n",
              "5809    -0.076725                    -0.741181              0.374519   \n",
              "903      0.117290                    -0.858561              0.900142   \n",
              "7777    -0.658771                    -0.880569             -1.202350   \n",
              "7905     0.893351                     2.514263              3.002633   \n",
              "\n",
              "      Lead Origin_Landing Page Submission  Lead Origin_Lead Add Form  \\\n",
              "4739                                    1                          0   \n",
              "5809                                    1                          0   \n",
              "903                                     1                          0   \n",
              "7777                                    0                          0   \n",
              "7905                                    1                          0   \n",
              "\n",
              "      Lead Origin_Lead Import  What is your current occupation_Housewife  \\\n",
              "4739                        0                                          0   \n",
              "5809                        0                                          0   \n",
              "903                         0                                          0   \n",
              "7777                        0                                          0   \n",
              "7905                        0                                          0   \n",
              "\n",
              "      What is your current occupation_Other  \\\n",
              "4739                                      0   \n",
              "5809                                      0   \n",
              "903                                       0   \n",
              "7777                                      0   \n",
              "7905                                      0   \n",
              "\n",
              "      What is your current occupation_Student  \\\n",
              "4739                                        0   \n",
              "5809                                        0   \n",
              "903                                         0   \n",
              "7777                                        0   \n",
              "7905                                        0   \n",
              "\n",
              "      What is your current occupation_Unemployed  ...  \\\n",
              "4739                                           0  ...   \n",
              "5809                                           0  ...   \n",
              "903                                            0  ...   \n",
              "7777                                           1  ...   \n",
              "7905                                           1  ...   \n",
              "\n",
              "      Last Notable Activity_Page Visited on Website  \\\n",
              "4739                                              0   \n",
              "5809                                              0   \n",
              "903                                               0   \n",
              "7777                                              0   \n",
              "7905                                              0   \n",
              "\n",
              "      Last Notable Activity_SMS Sent  Tags_Busy  Tags_Closed by Horizzon  \\\n",
              "4739                               0          0                        0   \n",
              "5809                               0          0                        0   \n",
              "903                                0          0                        0   \n",
              "7777                               0          0                        0   \n",
              "7905                               1          0                        0   \n",
              "\n",
              "      Tags_Interested in other courses  Tags_Lost to EINS  Tags_Other_Tags  \\\n",
              "4739                                 0                  1                0   \n",
              "5809                                 0                  0                0   \n",
              "903                                  0                  0                0   \n",
              "7777                                 0                  0                1   \n",
              "7905                                 0                  0                0   \n",
              "\n",
              "      Tags_Ringing  Tags_Will revert after reading the email  \\\n",
              "4739             0                                         0   \n",
              "5809             0                                         0   \n",
              "903              0                                         0   \n",
              "7777             0                                         0   \n",
              "7905             1                                         0   \n",
              "\n",
              "      Tags_not provided  \n",
              "4739                  0  \n",
              "5809                  1  \n",
              "903                   1  \n",
              "7777                  0  \n",
              "7905                  0  \n",
              "\n",
              "[5 rows x 60 columns]"
            ],
            "text/html": [
              "\n",
              "  <div id=\"df-8c317536-8d24-42be-a4ef-7b0ebf6ab6fc\">\n",
              "    <div class=\"colab-df-container\">\n",
              "      <div>\n",
              "<style scoped>\n",
              "    .dataframe tbody tr th:only-of-type {\n",
              "        vertical-align: middle;\n",
              "    }\n",
              "\n",
              "    .dataframe tbody tr th {\n",
              "        vertical-align: top;\n",
              "    }\n",
              "\n",
              "    .dataframe thead th {\n",
              "        text-align: right;\n",
              "    }\n",
              "</style>\n",
              "<table border=\"1\" class=\"dataframe\">\n",
              "  <thead>\n",
              "    <tr style=\"text-align: right;\">\n",
              "      <th></th>\n",
              "      <th>TotalVisits</th>\n",
              "      <th>Total Time Spent on Website</th>\n",
              "      <th>Page Views Per Visit</th>\n",
              "      <th>Lead Origin_Landing Page Submission</th>\n",
              "      <th>Lead Origin_Lead Add Form</th>\n",
              "      <th>Lead Origin_Lead Import</th>\n",
              "      <th>What is your current occupation_Housewife</th>\n",
              "      <th>What is your current occupation_Other</th>\n",
              "      <th>What is your current occupation_Student</th>\n",
              "      <th>What is your current occupation_Unemployed</th>\n",
              "      <th>...</th>\n",
              "      <th>Last Notable Activity_Page Visited on Website</th>\n",
              "      <th>Last Notable Activity_SMS Sent</th>\n",
              "      <th>Tags_Busy</th>\n",
              "      <th>Tags_Closed by Horizzon</th>\n",
              "      <th>Tags_Interested in other courses</th>\n",
              "      <th>Tags_Lost to EINS</th>\n",
              "      <th>Tags_Other_Tags</th>\n",
              "      <th>Tags_Ringing</th>\n",
              "      <th>Tags_Will revert after reading the email</th>\n",
              "      <th>Tags_not provided</th>\n",
              "    </tr>\n",
              "  </thead>\n",
              "  <tbody>\n",
              "    <tr>\n",
              "      <th>4739</th>\n",
              "      <td>-0.270741</td>\n",
              "      <td>-0.390877</td>\n",
              "      <td>-0.151104</td>\n",
              "      <td>1</td>\n",
              "      <td>0</td>\n",
              "      <td>0</td>\n",
              "      <td>0</td>\n",
              "      <td>0</td>\n",
              "      <td>0</td>\n",
              "      <td>0</td>\n",
              "      <td>...</td>\n",
              "      <td>0</td>\n",
              "      <td>0</td>\n",
              "      <td>0</td>\n",
              "      <td>0</td>\n",
              "      <td>0</td>\n",
              "      <td>1</td>\n",
              "      <td>0</td>\n",
              "      <td>0</td>\n",
              "      <td>0</td>\n",
              "      <td>0</td>\n",
              "    </tr>\n",
              "    <tr>\n",
              "      <th>5809</th>\n",
              "      <td>-0.076725</td>\n",
              "      <td>-0.741181</td>\n",
              "      <td>0.374519</td>\n",
              "      <td>1</td>\n",
              "      <td>0</td>\n",
              "      <td>0</td>\n",
              "      <td>0</td>\n",
              "      <td>0</td>\n",
              "      <td>0</td>\n",
              "      <td>0</td>\n",
              "      <td>...</td>\n",
              "      <td>0</td>\n",
              "      <td>0</td>\n",
              "      <td>0</td>\n",
              "      <td>0</td>\n",
              "      <td>0</td>\n",
              "      <td>0</td>\n",
              "      <td>0</td>\n",
              "      <td>0</td>\n",
              "      <td>0</td>\n",
              "      <td>1</td>\n",
              "    </tr>\n",
              "    <tr>\n",
              "      <th>903</th>\n",
              "      <td>0.117290</td>\n",
              "      <td>-0.858561</td>\n",
              "      <td>0.900142</td>\n",
              "      <td>1</td>\n",
              "      <td>0</td>\n",
              "      <td>0</td>\n",
              "      <td>0</td>\n",
              "      <td>0</td>\n",
              "      <td>0</td>\n",
              "      <td>0</td>\n",
              "      <td>...</td>\n",
              "      <td>0</td>\n",
              "      <td>0</td>\n",
              "      <td>0</td>\n",
              "      <td>0</td>\n",
              "      <td>0</td>\n",
              "      <td>0</td>\n",
              "      <td>0</td>\n",
              "      <td>0</td>\n",
              "      <td>0</td>\n",
              "      <td>1</td>\n",
              "    </tr>\n",
              "    <tr>\n",
              "      <th>7777</th>\n",
              "      <td>-0.658771</td>\n",
              "      <td>-0.880569</td>\n",
              "      <td>-1.202350</td>\n",
              "      <td>0</td>\n",
              "      <td>0</td>\n",
              "      <td>0</td>\n",
              "      <td>0</td>\n",
              "      <td>0</td>\n",
              "      <td>0</td>\n",
              "      <td>1</td>\n",
              "      <td>...</td>\n",
              "      <td>0</td>\n",
              "      <td>0</td>\n",
              "      <td>0</td>\n",
              "      <td>0</td>\n",
              "      <td>0</td>\n",
              "      <td>0</td>\n",
              "      <td>1</td>\n",
              "      <td>0</td>\n",
              "      <td>0</td>\n",
              "      <td>0</td>\n",
              "    </tr>\n",
              "    <tr>\n",
              "      <th>7905</th>\n",
              "      <td>0.893351</td>\n",
              "      <td>2.514263</td>\n",
              "      <td>3.002633</td>\n",
              "      <td>1</td>\n",
              "      <td>0</td>\n",
              "      <td>0</td>\n",
              "      <td>0</td>\n",
              "      <td>0</td>\n",
              "      <td>0</td>\n",
              "      <td>1</td>\n",
              "      <td>...</td>\n",
              "      <td>0</td>\n",
              "      <td>1</td>\n",
              "      <td>0</td>\n",
              "      <td>0</td>\n",
              "      <td>0</td>\n",
              "      <td>0</td>\n",
              "      <td>0</td>\n",
              "      <td>1</td>\n",
              "      <td>0</td>\n",
              "      <td>0</td>\n",
              "    </tr>\n",
              "  </tbody>\n",
              "</table>\n",
              "<p>5 rows × 60 columns</p>\n",
              "</div>\n",
              "      <button class=\"colab-df-convert\" onclick=\"convertToInteractive('df-8c317536-8d24-42be-a4ef-7b0ebf6ab6fc')\"\n",
              "              title=\"Convert this dataframe to an interactive table.\"\n",
              "              style=\"display:none;\">\n",
              "        \n",
              "  <svg xmlns=\"http://www.w3.org/2000/svg\" height=\"24px\"viewBox=\"0 0 24 24\"\n",
              "       width=\"24px\">\n",
              "    <path d=\"M0 0h24v24H0V0z\" fill=\"none\"/>\n",
              "    <path d=\"M18.56 5.44l.94 2.06.94-2.06 2.06-.94-2.06-.94-.94-2.06-.94 2.06-2.06.94zm-11 1L8.5 8.5l.94-2.06 2.06-.94-2.06-.94L8.5 2.5l-.94 2.06-2.06.94zm10 10l.94 2.06.94-2.06 2.06-.94-2.06-.94-.94-2.06-.94 2.06-2.06.94z\"/><path d=\"M17.41 7.96l-1.37-1.37c-.4-.4-.92-.59-1.43-.59-.52 0-1.04.2-1.43.59L10.3 9.45l-7.72 7.72c-.78.78-.78 2.05 0 2.83L4 21.41c.39.39.9.59 1.41.59.51 0 1.02-.2 1.41-.59l7.78-7.78 2.81-2.81c.8-.78.8-2.07 0-2.86zM5.41 20L4 18.59l7.72-7.72 1.47 1.35L5.41 20z\"/>\n",
              "  </svg>\n",
              "      </button>\n",
              "      \n",
              "  <style>\n",
              "    .colab-df-container {\n",
              "      display:flex;\n",
              "      flex-wrap:wrap;\n",
              "      gap: 12px;\n",
              "    }\n",
              "\n",
              "    .colab-df-convert {\n",
              "      background-color: #E8F0FE;\n",
              "      border: none;\n",
              "      border-radius: 50%;\n",
              "      cursor: pointer;\n",
              "      display: none;\n",
              "      fill: #1967D2;\n",
              "      height: 32px;\n",
              "      padding: 0 0 0 0;\n",
              "      width: 32px;\n",
              "    }\n",
              "\n",
              "    .colab-df-convert:hover {\n",
              "      background-color: #E2EBFA;\n",
              "      box-shadow: 0px 1px 2px rgba(60, 64, 67, 0.3), 0px 1px 3px 1px rgba(60, 64, 67, 0.15);\n",
              "      fill: #174EA6;\n",
              "    }\n",
              "\n",
              "    [theme=dark] .colab-df-convert {\n",
              "      background-color: #3B4455;\n",
              "      fill: #D2E3FC;\n",
              "    }\n",
              "\n",
              "    [theme=dark] .colab-df-convert:hover {\n",
              "      background-color: #434B5C;\n",
              "      box-shadow: 0px 1px 3px 1px rgba(0, 0, 0, 0.15);\n",
              "      filter: drop-shadow(0px 1px 2px rgba(0, 0, 0, 0.3));\n",
              "      fill: #FFFFFF;\n",
              "    }\n",
              "  </style>\n",
              "\n",
              "      <script>\n",
              "        const buttonEl =\n",
              "          document.querySelector('#df-8c317536-8d24-42be-a4ef-7b0ebf6ab6fc button.colab-df-convert');\n",
              "        buttonEl.style.display =\n",
              "          google.colab.kernel.accessAllowed ? 'block' : 'none';\n",
              "\n",
              "        async function convertToInteractive(key) {\n",
              "          const element = document.querySelector('#df-8c317536-8d24-42be-a4ef-7b0ebf6ab6fc');\n",
              "          const dataTable =\n",
              "            await google.colab.kernel.invokeFunction('convertToInteractive',\n",
              "                                                     [key], {});\n",
              "          if (!dataTable) return;\n",
              "\n",
              "          const docLinkHtml = 'Like what you see? Visit the ' +\n",
              "            '<a target=\"_blank\" href=https://colab.research.google.com/notebooks/data_table.ipynb>data table notebook</a>'\n",
              "            + ' to learn more about interactive tables.';\n",
              "          element.innerHTML = '';\n",
              "          dataTable['output_type'] = 'display_data';\n",
              "          await google.colab.output.renderOutput(dataTable, element);\n",
              "          const docLink = document.createElement('div');\n",
              "          docLink.innerHTML = docLinkHtml;\n",
              "          element.appendChild(docLink);\n",
              "        }\n",
              "      </script>\n",
              "    </div>\n",
              "  </div>\n",
              "  "
            ]
          },
          "metadata": {},
          "execution_count": 158
        }
      ]
    },
    {
      "cell_type": "code",
      "source": [
        "import statsmodels.api as sm"
      ],
      "metadata": {
        "id": "trxp1ezQPSZG"
      },
      "execution_count": 159,
      "outputs": []
    },
    {
      "cell_type": "code",
      "source": [
        "from sklearn.linear_model import LogisticRegression\n",
        "logreg = LogisticRegression()\n",
        "\n",
        "from sklearn.feature_selection import RFE\n"
      ],
      "metadata": {
        "id": "sAQovz0tPUua"
      },
      "execution_count": 161,
      "outputs": []
    },
    {
      "cell_type": "code",
      "source": [
        "rfe = RFE(logreg)             # running RFE with 15 variables as output\n",
        "rfe = rfe.fit(X_train, y_train)"
      ],
      "metadata": {
        "id": "Z9vBO2OBPWTX"
      },
      "execution_count": 163,
      "outputs": []
    },
    {
      "cell_type": "code",
      "source": [
        "rfe.support_"
      ],
      "metadata": {
        "colab": {
          "base_uri": "https://localhost:8080/"
        },
        "id": "zP9OUg0dPdcO",
        "outputId": "88f210fd-72aa-45ea-e3a0-5a425773433a"
      },
      "execution_count": 164,
      "outputs": [
        {
          "output_type": "execute_result",
          "data": {
            "text/plain": [
              "array([False,  True, False,  True,  True, False,  True,  True, False,\n",
              "        True,  True,  True, False, False, False, False, False, False,\n",
              "       False, False, False, False, False, False, False,  True, False,\n",
              "        True, False,  True, False, False,  True, False, False, False,\n",
              "        True,  True,  True,  True, False, False, False,  True,  True,\n",
              "        True,  True, False,  True,  True, False,  True,  True,  True,\n",
              "        True,  True,  True,  True,  True, False])"
            ]
          },
          "metadata": {},
          "execution_count": 164
        }
      ]
    },
    {
      "cell_type": "code",
      "source": [
        "list(zip(X_train.columns, rfe.support_, rfe.ranking_))"
      ],
      "metadata": {
        "colab": {
          "base_uri": "https://localhost:8080/"
        },
        "id": "YOTm-0DIPpLt",
        "outputId": "5c818c6e-8755-4819-b0ef-7f24ce71111d"
      },
      "execution_count": 165,
      "outputs": [
        {
          "output_type": "execute_result",
          "data": {
            "text/plain": [
              "[('TotalVisits', False, 22),\n",
              " ('Total Time Spent on Website', True, 1),\n",
              " ('Page Views Per Visit', False, 26),\n",
              " ('Lead Origin_Landing Page Submission', True, 1),\n",
              " ('Lead Origin_Lead Add Form', True, 1),\n",
              " ('Lead Origin_Lead Import', False, 28),\n",
              " ('What is your current occupation_Housewife', True, 1),\n",
              " ('What is your current occupation_Other', True, 1),\n",
              " ('What is your current occupation_Student', False, 23),\n",
              " ('What is your current occupation_Unemployed', True, 1),\n",
              " ('What is your current occupation_Working Professional', True, 1),\n",
              " ('What is your current occupation_not provided', True, 1),\n",
              " ('City_Other Cities', False, 29),\n",
              " ('City_Other Cities of Maharashtra', False, 21),\n",
              " ('City_Other Metro Cities', False, 24),\n",
              " ('City_Thane & Outskirts', False, 17),\n",
              " ('City_Tier II Cities', False, 20),\n",
              " ('City_not provided', False, 10),\n",
              " ('Specialization_Banking, Investment And Insurance', False, 7),\n",
              " ('Specialization_Business Administration', False, 9),\n",
              " ('Specialization_E-Business', False, 31),\n",
              " ('Specialization_E-COMMERCE', False, 5),\n",
              " ('Specialization_International Business', False, 27),\n",
              " ('Specialization_Management_Specializations', False, 8),\n",
              " ('Specialization_Media and Advertising', False, 14),\n",
              " ('Specialization_Rural and Agribusiness', True, 1),\n",
              " ('Specialization_Services Excellence', False, 6),\n",
              " ('Specialization_Travel and Tourism', True, 1),\n",
              " ('Specialization_not provided', False, 15),\n",
              " ('Lead Source_Direct Traffic', True, 1),\n",
              " ('Lead Source_Google', False, 13),\n",
              " ('Lead Source_Live Chat', False, 30),\n",
              " ('Lead Source_Olark Chat', True, 1),\n",
              " ('Lead Source_Organic Search', False, 12),\n",
              " ('Lead Source_Reference', False, 25),\n",
              " ('Lead Source_Referral Sites', False, 11),\n",
              " ('Lead Source_Social Media', True, 1),\n",
              " ('Lead Source_Welingak Website', True, 1),\n",
              " ('Last Activity_Converted to Lead', True, 1),\n",
              " ('Last Activity_Email Bounced', True, 1),\n",
              " ('Last Activity_Email Link Clicked', False, 18),\n",
              " ('Last Activity_Email Opened', False, 4),\n",
              " ('Last Activity_Form Submitted on Website', False, 19),\n",
              " ('Last Activity_Olark Chat Conversation', True, 1),\n",
              " ('Last Activity_Page Visited on Website', True, 1),\n",
              " ('Last Activity_SMS Sent', True, 1),\n",
              " ('Last Notable Activity_Email Link Clicked', True, 1),\n",
              " ('Last Notable Activity_Email Opened', False, 3),\n",
              " ('Last Notable Activity_Modified', True, 1),\n",
              " ('Last Notable Activity_Olark Chat Conversation', True, 1),\n",
              " ('Last Notable Activity_Page Visited on Website', False, 16),\n",
              " ('Last Notable Activity_SMS Sent', True, 1),\n",
              " ('Tags_Busy', True, 1),\n",
              " ('Tags_Closed by Horizzon', True, 1),\n",
              " ('Tags_Interested in other courses', True, 1),\n",
              " ('Tags_Lost to EINS', True, 1),\n",
              " ('Tags_Other_Tags', True, 1),\n",
              " ('Tags_Ringing', True, 1),\n",
              " ('Tags_Will revert after reading the email', True, 1),\n",
              " ('Tags_not provided', False, 2)]"
            ]
          },
          "metadata": {},
          "execution_count": 165
        }
      ]
    },
    {
      "cell_type": "code",
      "source": [
        "#list of RFE supported columns\n",
        "col = X_train.columns[rfe.support_]\n",
        "col"
      ],
      "metadata": {
        "colab": {
          "base_uri": "https://localhost:8080/"
        },
        "id": "oy0qnKdyPreA",
        "outputId": "e8a194f8-29af-49e9-cf20-5bbc883f21eb"
      },
      "execution_count": 166,
      "outputs": [
        {
          "output_type": "execute_result",
          "data": {
            "text/plain": [
              "Index(['Total Time Spent on Website', 'Lead Origin_Landing Page Submission',\n",
              "       'Lead Origin_Lead Add Form',\n",
              "       'What is your current occupation_Housewife',\n",
              "       'What is your current occupation_Other',\n",
              "       'What is your current occupation_Unemployed',\n",
              "       'What is your current occupation_Working Professional',\n",
              "       'What is your current occupation_not provided',\n",
              "       'Specialization_Rural and Agribusiness',\n",
              "       'Specialization_Travel and Tourism', 'Lead Source_Direct Traffic',\n",
              "       'Lead Source_Olark Chat', 'Lead Source_Social Media',\n",
              "       'Lead Source_Welingak Website', 'Last Activity_Converted to Lead',\n",
              "       'Last Activity_Email Bounced', 'Last Activity_Olark Chat Conversation',\n",
              "       'Last Activity_Page Visited on Website', 'Last Activity_SMS Sent',\n",
              "       'Last Notable Activity_Email Link Clicked',\n",
              "       'Last Notable Activity_Modified',\n",
              "       'Last Notable Activity_Olark Chat Conversation',\n",
              "       'Last Notable Activity_SMS Sent', 'Tags_Busy',\n",
              "       'Tags_Closed by Horizzon', 'Tags_Interested in other courses',\n",
              "       'Tags_Lost to EINS', 'Tags_Other_Tags', 'Tags_Ringing',\n",
              "       'Tags_Will revert after reading the email'],\n",
              "      dtype='object')"
            ]
          },
          "metadata": {},
          "execution_count": 166
        }
      ]
    },
    {
      "cell_type": "code",
      "source": [
        "X_train.columns[~rfe.support_]"
      ],
      "metadata": {
        "colab": {
          "base_uri": "https://localhost:8080/"
        },
        "id": "8ezNDQgEPtp9",
        "outputId": "7328f354-cca2-4a60-c6a5-f1b5780d1944"
      },
      "execution_count": 167,
      "outputs": [
        {
          "output_type": "execute_result",
          "data": {
            "text/plain": [
              "Index(['TotalVisits', 'Page Views Per Visit', 'Lead Origin_Lead Import',\n",
              "       'What is your current occupation_Student', 'City_Other Cities',\n",
              "       'City_Other Cities of Maharashtra', 'City_Other Metro Cities',\n",
              "       'City_Thane & Outskirts', 'City_Tier II Cities', 'City_not provided',\n",
              "       'Specialization_Banking, Investment And Insurance',\n",
              "       'Specialization_Business Administration', 'Specialization_E-Business',\n",
              "       'Specialization_E-COMMERCE', 'Specialization_International Business',\n",
              "       'Specialization_Management_Specializations',\n",
              "       'Specialization_Media and Advertising',\n",
              "       'Specialization_Services Excellence', 'Specialization_not provided',\n",
              "       'Lead Source_Google', 'Lead Source_Live Chat',\n",
              "       'Lead Source_Organic Search', 'Lead Source_Reference',\n",
              "       'Lead Source_Referral Sites', 'Last Activity_Email Link Clicked',\n",
              "       'Last Activity_Email Opened', 'Last Activity_Form Submitted on Website',\n",
              "       'Last Notable Activity_Email Opened',\n",
              "       'Last Notable Activity_Page Visited on Website', 'Tags_not provided'],\n",
              "      dtype='object')"
            ]
          },
          "metadata": {},
          "execution_count": 167
        }
      ]
    },
    {
      "cell_type": "code",
      "source": [
        "#BUILDING MODEL #1\n",
        "\n",
        "X_train_sm = sm.add_constant(X_train[col])\n",
        "logm1 = sm.GLM(y_train,X_train_sm, family = sm.families.Binomial())\n",
        "res = logm1.fit()\n",
        "res.summary()"
      ],
      "metadata": {
        "colab": {
          "base_uri": "https://localhost:8080/",
          "height": 914
        },
        "id": "HOux2VcNPvEo",
        "outputId": "fd8aa1a2-dddf-4309-cd9c-9b4d5863f2e9"
      },
      "execution_count": 168,
      "outputs": [
        {
          "output_type": "execute_result",
          "data": {
            "text/plain": [
              "<class 'statsmodels.iolib.summary.Summary'>\n",
              "\"\"\"\n",
              "                 Generalized Linear Model Regression Results                  \n",
              "==============================================================================\n",
              "Dep. Variable:              Converted   No. Observations:                 6299\n",
              "Model:                            GLM   Df Residuals:                     6268\n",
              "Model Family:                Binomial   Df Model:                           30\n",
              "Link Function:                  Logit   Scale:                          1.0000\n",
              "Method:                          IRLS   Log-Likelihood:                -1043.6\n",
              "Date:                Sun, 19 Mar 2023   Deviance:                       2087.2\n",
              "Time:                        14:21:23   Pearson chi2:                 7.14e+03\n",
              "No. Iterations:                    24   Pseudo R-squ. (CS):             0.6302\n",
              "Covariance Type:            nonrobust                                         \n",
              "========================================================================================================================\n",
              "                                                           coef    std err          z      P>|z|      [0.025      0.975]\n",
              "------------------------------------------------------------------------------------------------------------------------\n",
              "const                                                   -0.3618      0.540     -0.670      0.503      -1.421       0.697\n",
              "Total Time Spent on Website                              1.0152      0.067     15.254      0.000       0.885       1.146\n",
              "Lead Origin_Landing Page Submission                     -0.4130      0.165     -2.501      0.012      -0.737      -0.089\n",
              "Lead Origin_Lead Add Form                                1.5957      0.529      3.018      0.003       0.560       2.632\n",
              "What is your current occupation_Housewife               22.6221    6.8e+04      0.000      1.000   -1.33e+05    1.33e+05\n",
              "What is your current occupation_Other                    1.3252      1.699      0.780      0.435      -2.005       4.656\n",
              "What is your current occupation_Unemployed               0.8046      0.509      1.581      0.114      -0.193       1.802\n",
              "What is your current occupation_Working Professional     1.4514      0.612      2.370      0.018       0.251       2.651\n",
              "What is your current occupation_not provided            -1.6774      0.526     -3.186      0.001      -2.709      -0.646\n",
              "Specialization_Rural and Agribusiness                   -0.7839      0.833     -0.941      0.347      -2.417       0.849\n",
              "Specialization_Travel and Tourism                       -0.7768      0.436     -1.780      0.075      -1.632       0.078\n",
              "Lead Source_Direct Traffic                              -0.2904      0.160     -1.817      0.069      -0.604       0.023\n",
              "Lead Source_Olark Chat                                   0.7896      0.190      4.159      0.000       0.417       1.162\n",
              "Lead Source_Social Media                                -0.5695      0.693     -0.822      0.411      -1.928       0.789\n",
              "Lead Source_Welingak Website                             2.5530      1.145      2.230      0.026       0.309       4.797\n",
              "Last Activity_Converted to Lead                         -1.0851      0.426     -2.547      0.011      -1.920      -0.250\n",
              "Last Activity_Email Bounced                             -1.4997      0.505     -2.971      0.003      -2.489      -0.510\n",
              "Last Activity_Olark Chat Conversation                   -0.7871      0.330     -2.386      0.017      -1.434      -0.141\n",
              "Last Activity_Page Visited on Website                   -0.4073      0.266     -1.533      0.125      -0.928       0.114\n",
              "Last Activity_SMS Sent                                   1.1775      0.285      4.126      0.000       0.618       1.737\n",
              "Last Notable Activity_Email Link Clicked                -1.1156      0.489     -2.281      0.023      -2.074      -0.157\n",
              "Last Notable Activity_Modified                          -0.9086      0.216     -4.213      0.000      -1.331      -0.486\n",
              "Last Notable Activity_Olark Chat Conversation           -1.5033      0.608     -2.474      0.013      -2.694      -0.312\n",
              "Last Notable Activity_SMS Sent                           1.0295      0.313      3.291      0.001       0.416       1.642\n",
              "Tags_Busy                                               -0.7509      0.272     -2.756      0.006      -1.285      -0.217\n",
              "Tags_Closed by Horizzon                                 25.2379   1.38e+04      0.002      0.999   -2.71e+04    2.72e+04\n",
              "Tags_Interested in other courses                        -3.5871      0.389     -9.230      0.000      -4.349      -2.825\n",
              "Tags_Lost to EINS                                        5.3366      0.627      8.505      0.000       4.107       6.567\n",
              "Tags_Other_Tags                                         -4.1635      0.260    -16.002      0.000      -4.673      -3.654\n",
              "Tags_Ringing                                            -5.3934      0.297    -18.159      0.000      -5.976      -4.811\n",
              "Tags_Will revert after reading the email                 2.7822      0.233     11.956      0.000       2.326       3.238\n",
              "========================================================================================================================\n",
              "\"\"\""
            ],
            "text/html": [
              "<table class=\"simpletable\">\n",
              "<caption>Generalized Linear Model Regression Results</caption>\n",
              "<tr>\n",
              "  <th>Dep. Variable:</th>       <td>Converted</td>    <th>  No. Observations:  </th>  <td>  6299</td> \n",
              "</tr>\n",
              "<tr>\n",
              "  <th>Model:</th>                  <td>GLM</td>       <th>  Df Residuals:      </th>  <td>  6268</td> \n",
              "</tr>\n",
              "<tr>\n",
              "  <th>Model Family:</th>        <td>Binomial</td>     <th>  Df Model:          </th>  <td>    30</td> \n",
              "</tr>\n",
              "<tr>\n",
              "  <th>Link Function:</th>         <td>Logit</td>      <th>  Scale:             </th> <td>  1.0000</td>\n",
              "</tr>\n",
              "<tr>\n",
              "  <th>Method:</th>                <td>IRLS</td>       <th>  Log-Likelihood:    </th> <td> -1043.6</td>\n",
              "</tr>\n",
              "<tr>\n",
              "  <th>Date:</th>            <td>Sun, 19 Mar 2023</td> <th>  Deviance:          </th> <td>  2087.2</td>\n",
              "</tr>\n",
              "<tr>\n",
              "  <th>Time:</th>                <td>14:21:23</td>     <th>  Pearson chi2:      </th> <td>7.14e+03</td>\n",
              "</tr>\n",
              "<tr>\n",
              "  <th>No. Iterations:</th>         <td>24</td>        <th>  Pseudo R-squ. (CS):</th>  <td>0.6302</td> \n",
              "</tr>\n",
              "<tr>\n",
              "  <th>Covariance Type:</th>     <td>nonrobust</td>    <th>                     </th>     <td> </td>   \n",
              "</tr>\n",
              "</table>\n",
              "<table class=\"simpletable\">\n",
              "<tr>\n",
              "                            <td></td>                              <th>coef</th>     <th>std err</th>      <th>z</th>      <th>P>|z|</th>  <th>[0.025</th>    <th>0.975]</th>  \n",
              "</tr>\n",
              "<tr>\n",
              "  <th>const</th>                                                <td>   -0.3618</td> <td>    0.540</td> <td>   -0.670</td> <td> 0.503</td> <td>   -1.421</td> <td>    0.697</td>\n",
              "</tr>\n",
              "<tr>\n",
              "  <th>Total Time Spent on Website</th>                          <td>    1.0152</td> <td>    0.067</td> <td>   15.254</td> <td> 0.000</td> <td>    0.885</td> <td>    1.146</td>\n",
              "</tr>\n",
              "<tr>\n",
              "  <th>Lead Origin_Landing Page Submission</th>                  <td>   -0.4130</td> <td>    0.165</td> <td>   -2.501</td> <td> 0.012</td> <td>   -0.737</td> <td>   -0.089</td>\n",
              "</tr>\n",
              "<tr>\n",
              "  <th>Lead Origin_Lead Add Form</th>                            <td>    1.5957</td> <td>    0.529</td> <td>    3.018</td> <td> 0.003</td> <td>    0.560</td> <td>    2.632</td>\n",
              "</tr>\n",
              "<tr>\n",
              "  <th>What is your current occupation_Housewife</th>            <td>   22.6221</td> <td>  6.8e+04</td> <td>    0.000</td> <td> 1.000</td> <td>-1.33e+05</td> <td> 1.33e+05</td>\n",
              "</tr>\n",
              "<tr>\n",
              "  <th>What is your current occupation_Other</th>                <td>    1.3252</td> <td>    1.699</td> <td>    0.780</td> <td> 0.435</td> <td>   -2.005</td> <td>    4.656</td>\n",
              "</tr>\n",
              "<tr>\n",
              "  <th>What is your current occupation_Unemployed</th>           <td>    0.8046</td> <td>    0.509</td> <td>    1.581</td> <td> 0.114</td> <td>   -0.193</td> <td>    1.802</td>\n",
              "</tr>\n",
              "<tr>\n",
              "  <th>What is your current occupation_Working Professional</th> <td>    1.4514</td> <td>    0.612</td> <td>    2.370</td> <td> 0.018</td> <td>    0.251</td> <td>    2.651</td>\n",
              "</tr>\n",
              "<tr>\n",
              "  <th>What is your current occupation_not provided</th>         <td>   -1.6774</td> <td>    0.526</td> <td>   -3.186</td> <td> 0.001</td> <td>   -2.709</td> <td>   -0.646</td>\n",
              "</tr>\n",
              "<tr>\n",
              "  <th>Specialization_Rural and Agribusiness</th>                <td>   -0.7839</td> <td>    0.833</td> <td>   -0.941</td> <td> 0.347</td> <td>   -2.417</td> <td>    0.849</td>\n",
              "</tr>\n",
              "<tr>\n",
              "  <th>Specialization_Travel and Tourism</th>                    <td>   -0.7768</td> <td>    0.436</td> <td>   -1.780</td> <td> 0.075</td> <td>   -1.632</td> <td>    0.078</td>\n",
              "</tr>\n",
              "<tr>\n",
              "  <th>Lead Source_Direct Traffic</th>                           <td>   -0.2904</td> <td>    0.160</td> <td>   -1.817</td> <td> 0.069</td> <td>   -0.604</td> <td>    0.023</td>\n",
              "</tr>\n",
              "<tr>\n",
              "  <th>Lead Source_Olark Chat</th>                               <td>    0.7896</td> <td>    0.190</td> <td>    4.159</td> <td> 0.000</td> <td>    0.417</td> <td>    1.162</td>\n",
              "</tr>\n",
              "<tr>\n",
              "  <th>Lead Source_Social Media</th>                             <td>   -0.5695</td> <td>    0.693</td> <td>   -0.822</td> <td> 0.411</td> <td>   -1.928</td> <td>    0.789</td>\n",
              "</tr>\n",
              "<tr>\n",
              "  <th>Lead Source_Welingak Website</th>                         <td>    2.5530</td> <td>    1.145</td> <td>    2.230</td> <td> 0.026</td> <td>    0.309</td> <td>    4.797</td>\n",
              "</tr>\n",
              "<tr>\n",
              "  <th>Last Activity_Converted to Lead</th>                      <td>   -1.0851</td> <td>    0.426</td> <td>   -2.547</td> <td> 0.011</td> <td>   -1.920</td> <td>   -0.250</td>\n",
              "</tr>\n",
              "<tr>\n",
              "  <th>Last Activity_Email Bounced</th>                          <td>   -1.4997</td> <td>    0.505</td> <td>   -2.971</td> <td> 0.003</td> <td>   -2.489</td> <td>   -0.510</td>\n",
              "</tr>\n",
              "<tr>\n",
              "  <th>Last Activity_Olark Chat Conversation</th>                <td>   -0.7871</td> <td>    0.330</td> <td>   -2.386</td> <td> 0.017</td> <td>   -1.434</td> <td>   -0.141</td>\n",
              "</tr>\n",
              "<tr>\n",
              "  <th>Last Activity_Page Visited on Website</th>                <td>   -0.4073</td> <td>    0.266</td> <td>   -1.533</td> <td> 0.125</td> <td>   -0.928</td> <td>    0.114</td>\n",
              "</tr>\n",
              "<tr>\n",
              "  <th>Last Activity_SMS Sent</th>                               <td>    1.1775</td> <td>    0.285</td> <td>    4.126</td> <td> 0.000</td> <td>    0.618</td> <td>    1.737</td>\n",
              "</tr>\n",
              "<tr>\n",
              "  <th>Last Notable Activity_Email Link Clicked</th>             <td>   -1.1156</td> <td>    0.489</td> <td>   -2.281</td> <td> 0.023</td> <td>   -2.074</td> <td>   -0.157</td>\n",
              "</tr>\n",
              "<tr>\n",
              "  <th>Last Notable Activity_Modified</th>                       <td>   -0.9086</td> <td>    0.216</td> <td>   -4.213</td> <td> 0.000</td> <td>   -1.331</td> <td>   -0.486</td>\n",
              "</tr>\n",
              "<tr>\n",
              "  <th>Last Notable Activity_Olark Chat Conversation</th>        <td>   -1.5033</td> <td>    0.608</td> <td>   -2.474</td> <td> 0.013</td> <td>   -2.694</td> <td>   -0.312</td>\n",
              "</tr>\n",
              "<tr>\n",
              "  <th>Last Notable Activity_SMS Sent</th>                       <td>    1.0295</td> <td>    0.313</td> <td>    3.291</td> <td> 0.001</td> <td>    0.416</td> <td>    1.642</td>\n",
              "</tr>\n",
              "<tr>\n",
              "  <th>Tags_Busy</th>                                            <td>   -0.7509</td> <td>    0.272</td> <td>   -2.756</td> <td> 0.006</td> <td>   -1.285</td> <td>   -0.217</td>\n",
              "</tr>\n",
              "<tr>\n",
              "  <th>Tags_Closed by Horizzon</th>                              <td>   25.2379</td> <td> 1.38e+04</td> <td>    0.002</td> <td> 0.999</td> <td>-2.71e+04</td> <td> 2.72e+04</td>\n",
              "</tr>\n",
              "<tr>\n",
              "  <th>Tags_Interested in other courses</th>                     <td>   -3.5871</td> <td>    0.389</td> <td>   -9.230</td> <td> 0.000</td> <td>   -4.349</td> <td>   -2.825</td>\n",
              "</tr>\n",
              "<tr>\n",
              "  <th>Tags_Lost to EINS</th>                                    <td>    5.3366</td> <td>    0.627</td> <td>    8.505</td> <td> 0.000</td> <td>    4.107</td> <td>    6.567</td>\n",
              "</tr>\n",
              "<tr>\n",
              "  <th>Tags_Other_Tags</th>                                      <td>   -4.1635</td> <td>    0.260</td> <td>  -16.002</td> <td> 0.000</td> <td>   -4.673</td> <td>   -3.654</td>\n",
              "</tr>\n",
              "<tr>\n",
              "  <th>Tags_Ringing</th>                                         <td>   -5.3934</td> <td>    0.297</td> <td>  -18.159</td> <td> 0.000</td> <td>   -5.976</td> <td>   -4.811</td>\n",
              "</tr>\n",
              "<tr>\n",
              "  <th>Tags_Will revert after reading the email</th>             <td>    2.7822</td> <td>    0.233</td> <td>   11.956</td> <td> 0.000</td> <td>    2.326</td> <td>    3.238</td>\n",
              "</tr>\n",
              "</table>"
            ]
          },
          "metadata": {},
          "execution_count": 168
        }
      ]
    },
    {
      "cell_type": "code",
      "source": [
        "#BUILDING MODEL #2\n",
        "\n",
        "X_train_sm = sm.add_constant(X_train[col])\n",
        "logm2 = sm.GLM(y_train,X_train_sm, family = sm.families.Binomial())\n",
        "res = logm2.fit()\n",
        "res.summary()"
      ],
      "metadata": {
        "colab": {
          "base_uri": "https://localhost:8080/",
          "height": 914
        },
        "id": "T_5hLNjKPw5f",
        "outputId": "8b00427f-0426-48d4-af1e-8868f32467a1"
      },
      "execution_count": 170,
      "outputs": [
        {
          "output_type": "execute_result",
          "data": {
            "text/plain": [
              "<class 'statsmodels.iolib.summary.Summary'>\n",
              "\"\"\"\n",
              "                 Generalized Linear Model Regression Results                  \n",
              "==============================================================================\n",
              "Dep. Variable:              Converted   No. Observations:                 6299\n",
              "Model:                            GLM   Df Residuals:                     6268\n",
              "Model Family:                Binomial   Df Model:                           30\n",
              "Link Function:                  Logit   Scale:                          1.0000\n",
              "Method:                          IRLS   Log-Likelihood:                -1043.6\n",
              "Date:                Sun, 19 Mar 2023   Deviance:                       2087.2\n",
              "Time:                        14:21:44   Pearson chi2:                 7.14e+03\n",
              "No. Iterations:                    24   Pseudo R-squ. (CS):             0.6302\n",
              "Covariance Type:            nonrobust                                         \n",
              "========================================================================================================================\n",
              "                                                           coef    std err          z      P>|z|      [0.025      0.975]\n",
              "------------------------------------------------------------------------------------------------------------------------\n",
              "const                                                   -0.3618      0.540     -0.670      0.503      -1.421       0.697\n",
              "Total Time Spent on Website                              1.0152      0.067     15.254      0.000       0.885       1.146\n",
              "Lead Origin_Landing Page Submission                     -0.4130      0.165     -2.501      0.012      -0.737      -0.089\n",
              "Lead Origin_Lead Add Form                                1.5957      0.529      3.018      0.003       0.560       2.632\n",
              "What is your current occupation_Housewife               22.6221    6.8e+04      0.000      1.000   -1.33e+05    1.33e+05\n",
              "What is your current occupation_Other                    1.3252      1.699      0.780      0.435      -2.005       4.656\n",
              "What is your current occupation_Unemployed               0.8046      0.509      1.581      0.114      -0.193       1.802\n",
              "What is your current occupation_Working Professional     1.4514      0.612      2.370      0.018       0.251       2.651\n",
              "What is your current occupation_not provided            -1.6774      0.526     -3.186      0.001      -2.709      -0.646\n",
              "Specialization_Rural and Agribusiness                   -0.7839      0.833     -0.941      0.347      -2.417       0.849\n",
              "Specialization_Travel and Tourism                       -0.7768      0.436     -1.780      0.075      -1.632       0.078\n",
              "Lead Source_Direct Traffic                              -0.2904      0.160     -1.817      0.069      -0.604       0.023\n",
              "Lead Source_Olark Chat                                   0.7896      0.190      4.159      0.000       0.417       1.162\n",
              "Lead Source_Social Media                                -0.5695      0.693     -0.822      0.411      -1.928       0.789\n",
              "Lead Source_Welingak Website                             2.5530      1.145      2.230      0.026       0.309       4.797\n",
              "Last Activity_Converted to Lead                         -1.0851      0.426     -2.547      0.011      -1.920      -0.250\n",
              "Last Activity_Email Bounced                             -1.4997      0.505     -2.971      0.003      -2.489      -0.510\n",
              "Last Activity_Olark Chat Conversation                   -0.7871      0.330     -2.386      0.017      -1.434      -0.141\n",
              "Last Activity_Page Visited on Website                   -0.4073      0.266     -1.533      0.125      -0.928       0.114\n",
              "Last Activity_SMS Sent                                   1.1775      0.285      4.126      0.000       0.618       1.737\n",
              "Last Notable Activity_Email Link Clicked                -1.1156      0.489     -2.281      0.023      -2.074      -0.157\n",
              "Last Notable Activity_Modified                          -0.9086      0.216     -4.213      0.000      -1.331      -0.486\n",
              "Last Notable Activity_Olark Chat Conversation           -1.5033      0.608     -2.474      0.013      -2.694      -0.312\n",
              "Last Notable Activity_SMS Sent                           1.0295      0.313      3.291      0.001       0.416       1.642\n",
              "Tags_Busy                                               -0.7509      0.272     -2.756      0.006      -1.285      -0.217\n",
              "Tags_Closed by Horizzon                                 25.2379   1.38e+04      0.002      0.999   -2.71e+04    2.72e+04\n",
              "Tags_Interested in other courses                        -3.5871      0.389     -9.230      0.000      -4.349      -2.825\n",
              "Tags_Lost to EINS                                        5.3366      0.627      8.505      0.000       4.107       6.567\n",
              "Tags_Other_Tags                                         -4.1635      0.260    -16.002      0.000      -4.673      -3.654\n",
              "Tags_Ringing                                            -5.3934      0.297    -18.159      0.000      -5.976      -4.811\n",
              "Tags_Will revert after reading the email                 2.7822      0.233     11.956      0.000       2.326       3.238\n",
              "========================================================================================================================\n",
              "\"\"\""
            ],
            "text/html": [
              "<table class=\"simpletable\">\n",
              "<caption>Generalized Linear Model Regression Results</caption>\n",
              "<tr>\n",
              "  <th>Dep. Variable:</th>       <td>Converted</td>    <th>  No. Observations:  </th>  <td>  6299</td> \n",
              "</tr>\n",
              "<tr>\n",
              "  <th>Model:</th>                  <td>GLM</td>       <th>  Df Residuals:      </th>  <td>  6268</td> \n",
              "</tr>\n",
              "<tr>\n",
              "  <th>Model Family:</th>        <td>Binomial</td>     <th>  Df Model:          </th>  <td>    30</td> \n",
              "</tr>\n",
              "<tr>\n",
              "  <th>Link Function:</th>         <td>Logit</td>      <th>  Scale:             </th> <td>  1.0000</td>\n",
              "</tr>\n",
              "<tr>\n",
              "  <th>Method:</th>                <td>IRLS</td>       <th>  Log-Likelihood:    </th> <td> -1043.6</td>\n",
              "</tr>\n",
              "<tr>\n",
              "  <th>Date:</th>            <td>Sun, 19 Mar 2023</td> <th>  Deviance:          </th> <td>  2087.2</td>\n",
              "</tr>\n",
              "<tr>\n",
              "  <th>Time:</th>                <td>14:21:44</td>     <th>  Pearson chi2:      </th> <td>7.14e+03</td>\n",
              "</tr>\n",
              "<tr>\n",
              "  <th>No. Iterations:</th>         <td>24</td>        <th>  Pseudo R-squ. (CS):</th>  <td>0.6302</td> \n",
              "</tr>\n",
              "<tr>\n",
              "  <th>Covariance Type:</th>     <td>nonrobust</td>    <th>                     </th>     <td> </td>   \n",
              "</tr>\n",
              "</table>\n",
              "<table class=\"simpletable\">\n",
              "<tr>\n",
              "                            <td></td>                              <th>coef</th>     <th>std err</th>      <th>z</th>      <th>P>|z|</th>  <th>[0.025</th>    <th>0.975]</th>  \n",
              "</tr>\n",
              "<tr>\n",
              "  <th>const</th>                                                <td>   -0.3618</td> <td>    0.540</td> <td>   -0.670</td> <td> 0.503</td> <td>   -1.421</td> <td>    0.697</td>\n",
              "</tr>\n",
              "<tr>\n",
              "  <th>Total Time Spent on Website</th>                          <td>    1.0152</td> <td>    0.067</td> <td>   15.254</td> <td> 0.000</td> <td>    0.885</td> <td>    1.146</td>\n",
              "</tr>\n",
              "<tr>\n",
              "  <th>Lead Origin_Landing Page Submission</th>                  <td>   -0.4130</td> <td>    0.165</td> <td>   -2.501</td> <td> 0.012</td> <td>   -0.737</td> <td>   -0.089</td>\n",
              "</tr>\n",
              "<tr>\n",
              "  <th>Lead Origin_Lead Add Form</th>                            <td>    1.5957</td> <td>    0.529</td> <td>    3.018</td> <td> 0.003</td> <td>    0.560</td> <td>    2.632</td>\n",
              "</tr>\n",
              "<tr>\n",
              "  <th>What is your current occupation_Housewife</th>            <td>   22.6221</td> <td>  6.8e+04</td> <td>    0.000</td> <td> 1.000</td> <td>-1.33e+05</td> <td> 1.33e+05</td>\n",
              "</tr>\n",
              "<tr>\n",
              "  <th>What is your current occupation_Other</th>                <td>    1.3252</td> <td>    1.699</td> <td>    0.780</td> <td> 0.435</td> <td>   -2.005</td> <td>    4.656</td>\n",
              "</tr>\n",
              "<tr>\n",
              "  <th>What is your current occupation_Unemployed</th>           <td>    0.8046</td> <td>    0.509</td> <td>    1.581</td> <td> 0.114</td> <td>   -0.193</td> <td>    1.802</td>\n",
              "</tr>\n",
              "<tr>\n",
              "  <th>What is your current occupation_Working Professional</th> <td>    1.4514</td> <td>    0.612</td> <td>    2.370</td> <td> 0.018</td> <td>    0.251</td> <td>    2.651</td>\n",
              "</tr>\n",
              "<tr>\n",
              "  <th>What is your current occupation_not provided</th>         <td>   -1.6774</td> <td>    0.526</td> <td>   -3.186</td> <td> 0.001</td> <td>   -2.709</td> <td>   -0.646</td>\n",
              "</tr>\n",
              "<tr>\n",
              "  <th>Specialization_Rural and Agribusiness</th>                <td>   -0.7839</td> <td>    0.833</td> <td>   -0.941</td> <td> 0.347</td> <td>   -2.417</td> <td>    0.849</td>\n",
              "</tr>\n",
              "<tr>\n",
              "  <th>Specialization_Travel and Tourism</th>                    <td>   -0.7768</td> <td>    0.436</td> <td>   -1.780</td> <td> 0.075</td> <td>   -1.632</td> <td>    0.078</td>\n",
              "</tr>\n",
              "<tr>\n",
              "  <th>Lead Source_Direct Traffic</th>                           <td>   -0.2904</td> <td>    0.160</td> <td>   -1.817</td> <td> 0.069</td> <td>   -0.604</td> <td>    0.023</td>\n",
              "</tr>\n",
              "<tr>\n",
              "  <th>Lead Source_Olark Chat</th>                               <td>    0.7896</td> <td>    0.190</td> <td>    4.159</td> <td> 0.000</td> <td>    0.417</td> <td>    1.162</td>\n",
              "</tr>\n",
              "<tr>\n",
              "  <th>Lead Source_Social Media</th>                             <td>   -0.5695</td> <td>    0.693</td> <td>   -0.822</td> <td> 0.411</td> <td>   -1.928</td> <td>    0.789</td>\n",
              "</tr>\n",
              "<tr>\n",
              "  <th>Lead Source_Welingak Website</th>                         <td>    2.5530</td> <td>    1.145</td> <td>    2.230</td> <td> 0.026</td> <td>    0.309</td> <td>    4.797</td>\n",
              "</tr>\n",
              "<tr>\n",
              "  <th>Last Activity_Converted to Lead</th>                      <td>   -1.0851</td> <td>    0.426</td> <td>   -2.547</td> <td> 0.011</td> <td>   -1.920</td> <td>   -0.250</td>\n",
              "</tr>\n",
              "<tr>\n",
              "  <th>Last Activity_Email Bounced</th>                          <td>   -1.4997</td> <td>    0.505</td> <td>   -2.971</td> <td> 0.003</td> <td>   -2.489</td> <td>   -0.510</td>\n",
              "</tr>\n",
              "<tr>\n",
              "  <th>Last Activity_Olark Chat Conversation</th>                <td>   -0.7871</td> <td>    0.330</td> <td>   -2.386</td> <td> 0.017</td> <td>   -1.434</td> <td>   -0.141</td>\n",
              "</tr>\n",
              "<tr>\n",
              "  <th>Last Activity_Page Visited on Website</th>                <td>   -0.4073</td> <td>    0.266</td> <td>   -1.533</td> <td> 0.125</td> <td>   -0.928</td> <td>    0.114</td>\n",
              "</tr>\n",
              "<tr>\n",
              "  <th>Last Activity_SMS Sent</th>                               <td>    1.1775</td> <td>    0.285</td> <td>    4.126</td> <td> 0.000</td> <td>    0.618</td> <td>    1.737</td>\n",
              "</tr>\n",
              "<tr>\n",
              "  <th>Last Notable Activity_Email Link Clicked</th>             <td>   -1.1156</td> <td>    0.489</td> <td>   -2.281</td> <td> 0.023</td> <td>   -2.074</td> <td>   -0.157</td>\n",
              "</tr>\n",
              "<tr>\n",
              "  <th>Last Notable Activity_Modified</th>                       <td>   -0.9086</td> <td>    0.216</td> <td>   -4.213</td> <td> 0.000</td> <td>   -1.331</td> <td>   -0.486</td>\n",
              "</tr>\n",
              "<tr>\n",
              "  <th>Last Notable Activity_Olark Chat Conversation</th>        <td>   -1.5033</td> <td>    0.608</td> <td>   -2.474</td> <td> 0.013</td> <td>   -2.694</td> <td>   -0.312</td>\n",
              "</tr>\n",
              "<tr>\n",
              "  <th>Last Notable Activity_SMS Sent</th>                       <td>    1.0295</td> <td>    0.313</td> <td>    3.291</td> <td> 0.001</td> <td>    0.416</td> <td>    1.642</td>\n",
              "</tr>\n",
              "<tr>\n",
              "  <th>Tags_Busy</th>                                            <td>   -0.7509</td> <td>    0.272</td> <td>   -2.756</td> <td> 0.006</td> <td>   -1.285</td> <td>   -0.217</td>\n",
              "</tr>\n",
              "<tr>\n",
              "  <th>Tags_Closed by Horizzon</th>                              <td>   25.2379</td> <td> 1.38e+04</td> <td>    0.002</td> <td> 0.999</td> <td>-2.71e+04</td> <td> 2.72e+04</td>\n",
              "</tr>\n",
              "<tr>\n",
              "  <th>Tags_Interested in other courses</th>                     <td>   -3.5871</td> <td>    0.389</td> <td>   -9.230</td> <td> 0.000</td> <td>   -4.349</td> <td>   -2.825</td>\n",
              "</tr>\n",
              "<tr>\n",
              "  <th>Tags_Lost to EINS</th>                                    <td>    5.3366</td> <td>    0.627</td> <td>    8.505</td> <td> 0.000</td> <td>    4.107</td> <td>    6.567</td>\n",
              "</tr>\n",
              "<tr>\n",
              "  <th>Tags_Other_Tags</th>                                      <td>   -4.1635</td> <td>    0.260</td> <td>  -16.002</td> <td> 0.000</td> <td>   -4.673</td> <td>   -3.654</td>\n",
              "</tr>\n",
              "<tr>\n",
              "  <th>Tags_Ringing</th>                                         <td>   -5.3934</td> <td>    0.297</td> <td>  -18.159</td> <td> 0.000</td> <td>   -5.976</td> <td>   -4.811</td>\n",
              "</tr>\n",
              "<tr>\n",
              "  <th>Tags_Will revert after reading the email</th>             <td>    2.7822</td> <td>    0.233</td> <td>   11.956</td> <td> 0.000</td> <td>    2.326</td> <td>    3.238</td>\n",
              "</tr>\n",
              "</table>"
            ]
          },
          "metadata": {},
          "execution_count": 170
        }
      ]
    },
    {
      "cell_type": "code",
      "source": [
        "# Check for the VIF values of the feature variables. \n",
        "from statsmodels.stats.outliers_influence import variance_inflation_factor"
      ],
      "metadata": {
        "id": "HltbC--ePy-Z"
      },
      "execution_count": 171,
      "outputs": []
    },
    {
      "cell_type": "code",
      "source": [
        "# Create a dataframe that will contain the names of all the feature variables and their respective VIFs\n",
        "vif = pd.DataFrame()\n",
        "vif['Features'] = X_train[col].columns\n",
        "vif['VIF'] = [variance_inflation_factor(X_train[col].values, i) for i in range(X_train[col].shape[1])]\n",
        "vif['VIF'] = round(vif['VIF'], 2)\n",
        "vif = vif.sort_values(by = \"VIF\", ascending = False)\n",
        "vif"
      ],
      "metadata": {
        "colab": {
          "base_uri": "https://localhost:8080/",
          "height": 990
        },
        "id": "J_LefrnqP4h-",
        "outputId": "024d4fd0-da3c-49bf-8e59-970ad4dcfca4"
      },
      "execution_count": 172,
      "outputs": [
        {
          "output_type": "execute_result",
          "data": {
            "text/plain": [
              "                                             Features   VIF\n",
              "5          What is your current occupation_Unemployed  8.37\n",
              "18                             Last Activity_SMS Sent  7.39\n",
              "22                     Last Notable Activity_SMS Sent  7.23\n",
              "1                 Lead Origin_Landing Page Submission  4.53\n",
              "20                     Last Notable Activity_Modified  3.91\n",
              "29           Tags_Will revert after reading the email  3.65\n",
              "7        What is your current occupation_not provided  2.73\n",
              "27                                    Tags_Other_Tags  2.63\n",
              "28                                       Tags_Ringing  2.54\n",
              "16              Last Activity_Olark Chat Conversation  2.43\n",
              "11                             Lead Source_Olark Chat  2.39\n",
              "6   What is your current occupation_Working Profes...  2.22\n",
              "2                           Lead Origin_Lead Add Form  2.11\n",
              "10                         Lead Source_Direct Traffic  1.96\n",
              "25                   Tags_Interested in other courses  1.63\n",
              "24                            Tags_Closed by Horizzon  1.56\n",
              "0                         Total Time Spent on Website  1.49\n",
              "14                    Last Activity_Converted to Lead  1.45\n",
              "21      Last Notable Activity_Olark Chat Conversation  1.44\n",
              "13                       Lead Source_Welingak Website  1.43\n",
              "23                                          Tags_Busy  1.24\n",
              "15                        Last Activity_Email Bounced  1.24\n",
              "17              Last Activity_Page Visited on Website  1.23\n",
              "26                                  Tags_Lost to EINS  1.17\n",
              "19           Last Notable Activity_Email Link Clicked  1.06\n",
              "9                   Specialization_Travel and Tourism  1.04\n",
              "12                           Lead Source_Social Media  1.03\n",
              "4               What is your current occupation_Other  1.03\n",
              "3           What is your current occupation_Housewife  1.03\n",
              "8               Specialization_Rural and Agribusiness  1.02"
            ],
            "text/html": [
              "\n",
              "  <div id=\"df-cab44961-f104-42cd-8c1a-40d60bb084dd\">\n",
              "    <div class=\"colab-df-container\">\n",
              "      <div>\n",
              "<style scoped>\n",
              "    .dataframe tbody tr th:only-of-type {\n",
              "        vertical-align: middle;\n",
              "    }\n",
              "\n",
              "    .dataframe tbody tr th {\n",
              "        vertical-align: top;\n",
              "    }\n",
              "\n",
              "    .dataframe thead th {\n",
              "        text-align: right;\n",
              "    }\n",
              "</style>\n",
              "<table border=\"1\" class=\"dataframe\">\n",
              "  <thead>\n",
              "    <tr style=\"text-align: right;\">\n",
              "      <th></th>\n",
              "      <th>Features</th>\n",
              "      <th>VIF</th>\n",
              "    </tr>\n",
              "  </thead>\n",
              "  <tbody>\n",
              "    <tr>\n",
              "      <th>5</th>\n",
              "      <td>What is your current occupation_Unemployed</td>\n",
              "      <td>8.37</td>\n",
              "    </tr>\n",
              "    <tr>\n",
              "      <th>18</th>\n",
              "      <td>Last Activity_SMS Sent</td>\n",
              "      <td>7.39</td>\n",
              "    </tr>\n",
              "    <tr>\n",
              "      <th>22</th>\n",
              "      <td>Last Notable Activity_SMS Sent</td>\n",
              "      <td>7.23</td>\n",
              "    </tr>\n",
              "    <tr>\n",
              "      <th>1</th>\n",
              "      <td>Lead Origin_Landing Page Submission</td>\n",
              "      <td>4.53</td>\n",
              "    </tr>\n",
              "    <tr>\n",
              "      <th>20</th>\n",
              "      <td>Last Notable Activity_Modified</td>\n",
              "      <td>3.91</td>\n",
              "    </tr>\n",
              "    <tr>\n",
              "      <th>29</th>\n",
              "      <td>Tags_Will revert after reading the email</td>\n",
              "      <td>3.65</td>\n",
              "    </tr>\n",
              "    <tr>\n",
              "      <th>7</th>\n",
              "      <td>What is your current occupation_not provided</td>\n",
              "      <td>2.73</td>\n",
              "    </tr>\n",
              "    <tr>\n",
              "      <th>27</th>\n",
              "      <td>Tags_Other_Tags</td>\n",
              "      <td>2.63</td>\n",
              "    </tr>\n",
              "    <tr>\n",
              "      <th>28</th>\n",
              "      <td>Tags_Ringing</td>\n",
              "      <td>2.54</td>\n",
              "    </tr>\n",
              "    <tr>\n",
              "      <th>16</th>\n",
              "      <td>Last Activity_Olark Chat Conversation</td>\n",
              "      <td>2.43</td>\n",
              "    </tr>\n",
              "    <tr>\n",
              "      <th>11</th>\n",
              "      <td>Lead Source_Olark Chat</td>\n",
              "      <td>2.39</td>\n",
              "    </tr>\n",
              "    <tr>\n",
              "      <th>6</th>\n",
              "      <td>What is your current occupation_Working Profes...</td>\n",
              "      <td>2.22</td>\n",
              "    </tr>\n",
              "    <tr>\n",
              "      <th>2</th>\n",
              "      <td>Lead Origin_Lead Add Form</td>\n",
              "      <td>2.11</td>\n",
              "    </tr>\n",
              "    <tr>\n",
              "      <th>10</th>\n",
              "      <td>Lead Source_Direct Traffic</td>\n",
              "      <td>1.96</td>\n",
              "    </tr>\n",
              "    <tr>\n",
              "      <th>25</th>\n",
              "      <td>Tags_Interested in other courses</td>\n",
              "      <td>1.63</td>\n",
              "    </tr>\n",
              "    <tr>\n",
              "      <th>24</th>\n",
              "      <td>Tags_Closed by Horizzon</td>\n",
              "      <td>1.56</td>\n",
              "    </tr>\n",
              "    <tr>\n",
              "      <th>0</th>\n",
              "      <td>Total Time Spent on Website</td>\n",
              "      <td>1.49</td>\n",
              "    </tr>\n",
              "    <tr>\n",
              "      <th>14</th>\n",
              "      <td>Last Activity_Converted to Lead</td>\n",
              "      <td>1.45</td>\n",
              "    </tr>\n",
              "    <tr>\n",
              "      <th>21</th>\n",
              "      <td>Last Notable Activity_Olark Chat Conversation</td>\n",
              "      <td>1.44</td>\n",
              "    </tr>\n",
              "    <tr>\n",
              "      <th>13</th>\n",
              "      <td>Lead Source_Welingak Website</td>\n",
              "      <td>1.43</td>\n",
              "    </tr>\n",
              "    <tr>\n",
              "      <th>23</th>\n",
              "      <td>Tags_Busy</td>\n",
              "      <td>1.24</td>\n",
              "    </tr>\n",
              "    <tr>\n",
              "      <th>15</th>\n",
              "      <td>Last Activity_Email Bounced</td>\n",
              "      <td>1.24</td>\n",
              "    </tr>\n",
              "    <tr>\n",
              "      <th>17</th>\n",
              "      <td>Last Activity_Page Visited on Website</td>\n",
              "      <td>1.23</td>\n",
              "    </tr>\n",
              "    <tr>\n",
              "      <th>26</th>\n",
              "      <td>Tags_Lost to EINS</td>\n",
              "      <td>1.17</td>\n",
              "    </tr>\n",
              "    <tr>\n",
              "      <th>19</th>\n",
              "      <td>Last Notable Activity_Email Link Clicked</td>\n",
              "      <td>1.06</td>\n",
              "    </tr>\n",
              "    <tr>\n",
              "      <th>9</th>\n",
              "      <td>Specialization_Travel and Tourism</td>\n",
              "      <td>1.04</td>\n",
              "    </tr>\n",
              "    <tr>\n",
              "      <th>12</th>\n",
              "      <td>Lead Source_Social Media</td>\n",
              "      <td>1.03</td>\n",
              "    </tr>\n",
              "    <tr>\n",
              "      <th>4</th>\n",
              "      <td>What is your current occupation_Other</td>\n",
              "      <td>1.03</td>\n",
              "    </tr>\n",
              "    <tr>\n",
              "      <th>3</th>\n",
              "      <td>What is your current occupation_Housewife</td>\n",
              "      <td>1.03</td>\n",
              "    </tr>\n",
              "    <tr>\n",
              "      <th>8</th>\n",
              "      <td>Specialization_Rural and Agribusiness</td>\n",
              "      <td>1.02</td>\n",
              "    </tr>\n",
              "  </tbody>\n",
              "</table>\n",
              "</div>\n",
              "      <button class=\"colab-df-convert\" onclick=\"convertToInteractive('df-cab44961-f104-42cd-8c1a-40d60bb084dd')\"\n",
              "              title=\"Convert this dataframe to an interactive table.\"\n",
              "              style=\"display:none;\">\n",
              "        \n",
              "  <svg xmlns=\"http://www.w3.org/2000/svg\" height=\"24px\"viewBox=\"0 0 24 24\"\n",
              "       width=\"24px\">\n",
              "    <path d=\"M0 0h24v24H0V0z\" fill=\"none\"/>\n",
              "    <path d=\"M18.56 5.44l.94 2.06.94-2.06 2.06-.94-2.06-.94-.94-2.06-.94 2.06-2.06.94zm-11 1L8.5 8.5l.94-2.06 2.06-.94-2.06-.94L8.5 2.5l-.94 2.06-2.06.94zm10 10l.94 2.06.94-2.06 2.06-.94-2.06-.94-.94-2.06-.94 2.06-2.06.94z\"/><path d=\"M17.41 7.96l-1.37-1.37c-.4-.4-.92-.59-1.43-.59-.52 0-1.04.2-1.43.59L10.3 9.45l-7.72 7.72c-.78.78-.78 2.05 0 2.83L4 21.41c.39.39.9.59 1.41.59.51 0 1.02-.2 1.41-.59l7.78-7.78 2.81-2.81c.8-.78.8-2.07 0-2.86zM5.41 20L4 18.59l7.72-7.72 1.47 1.35L5.41 20z\"/>\n",
              "  </svg>\n",
              "      </button>\n",
              "      \n",
              "  <style>\n",
              "    .colab-df-container {\n",
              "      display:flex;\n",
              "      flex-wrap:wrap;\n",
              "      gap: 12px;\n",
              "    }\n",
              "\n",
              "    .colab-df-convert {\n",
              "      background-color: #E8F0FE;\n",
              "      border: none;\n",
              "      border-radius: 50%;\n",
              "      cursor: pointer;\n",
              "      display: none;\n",
              "      fill: #1967D2;\n",
              "      height: 32px;\n",
              "      padding: 0 0 0 0;\n",
              "      width: 32px;\n",
              "    }\n",
              "\n",
              "    .colab-df-convert:hover {\n",
              "      background-color: #E2EBFA;\n",
              "      box-shadow: 0px 1px 2px rgba(60, 64, 67, 0.3), 0px 1px 3px 1px rgba(60, 64, 67, 0.15);\n",
              "      fill: #174EA6;\n",
              "    }\n",
              "\n",
              "    [theme=dark] .colab-df-convert {\n",
              "      background-color: #3B4455;\n",
              "      fill: #D2E3FC;\n",
              "    }\n",
              "\n",
              "    [theme=dark] .colab-df-convert:hover {\n",
              "      background-color: #434B5C;\n",
              "      box-shadow: 0px 1px 3px 1px rgba(0, 0, 0, 0.15);\n",
              "      filter: drop-shadow(0px 1px 2px rgba(0, 0, 0, 0.3));\n",
              "      fill: #FFFFFF;\n",
              "    }\n",
              "  </style>\n",
              "\n",
              "      <script>\n",
              "        const buttonEl =\n",
              "          document.querySelector('#df-cab44961-f104-42cd-8c1a-40d60bb084dd button.colab-df-convert');\n",
              "        buttonEl.style.display =\n",
              "          google.colab.kernel.accessAllowed ? 'block' : 'none';\n",
              "\n",
              "        async function convertToInteractive(key) {\n",
              "          const element = document.querySelector('#df-cab44961-f104-42cd-8c1a-40d60bb084dd');\n",
              "          const dataTable =\n",
              "            await google.colab.kernel.invokeFunction('convertToInteractive',\n",
              "                                                     [key], {});\n",
              "          if (!dataTable) return;\n",
              "\n",
              "          const docLinkHtml = 'Like what you see? Visit the ' +\n",
              "            '<a target=\"_blank\" href=https://colab.research.google.com/notebooks/data_table.ipynb>data table notebook</a>'\n",
              "            + ' to learn more about interactive tables.';\n",
              "          element.innerHTML = '';\n",
              "          dataTable['output_type'] = 'display_data';\n",
              "          await google.colab.output.renderOutput(dataTable, element);\n",
              "          const docLink = document.createElement('div');\n",
              "          docLink.innerHTML = docLinkHtml;\n",
              "          element.appendChild(docLink);\n",
              "        }\n",
              "      </script>\n",
              "    </div>\n",
              "  </div>\n",
              "  "
            ]
          },
          "metadata": {},
          "execution_count": 172
        }
      ]
    },
    {
      "cell_type": "code",
      "source": [
        "#dropping variable with high VIF\n",
        "\n",
        "col = col.drop('Last Notable Activity_SMS Sent',1)"
      ],
      "metadata": {
        "id": "lBCIueUGP6dr"
      },
      "execution_count": 173,
      "outputs": []
    },
    {
      "cell_type": "code",
      "source": [
        "#BUILDING MODEL #3\n",
        "X_train_sm = sm.add_constant(X_train[col])\n",
        "logm3 = sm.GLM(y_train,X_train_sm, family = sm.families.Binomial())\n",
        "res = logm3.fit()\n",
        "res.summary()"
      ],
      "metadata": {
        "colab": {
          "base_uri": "https://localhost:8080/",
          "height": 893
        },
        "id": "jpLEwhkSP8Od",
        "outputId": "5ab83892-c610-4197-fac7-84e6082da717"
      },
      "execution_count": 174,
      "outputs": [
        {
          "output_type": "execute_result",
          "data": {
            "text/plain": [
              "<class 'statsmodels.iolib.summary.Summary'>\n",
              "\"\"\"\n",
              "                 Generalized Linear Model Regression Results                  \n",
              "==============================================================================\n",
              "Dep. Variable:              Converted   No. Observations:                 6299\n",
              "Model:                            GLM   Df Residuals:                     6269\n",
              "Model Family:                Binomial   Df Model:                           29\n",
              "Link Function:                  Logit   Scale:                          1.0000\n",
              "Method:                          IRLS   Log-Likelihood:                -1049.0\n",
              "Date:                Sun, 19 Mar 2023   Deviance:                       2098.0\n",
              "Time:                        14:22:16   Pearson chi2:                 7.89e+03\n",
              "No. Iterations:                    24   Pseudo R-squ. (CS):             0.6296\n",
              "Covariance Type:            nonrobust                                         \n",
              "========================================================================================================================\n",
              "                                                           coef    std err          z      P>|z|      [0.025      0.975]\n",
              "------------------------------------------------------------------------------------------------------------------------\n",
              "const                                                   -0.2596      0.545     -0.476      0.634      -1.328       0.809\n",
              "Total Time Spent on Website                              1.0124      0.066     15.309      0.000       0.883       1.142\n",
              "Lead Origin_Landing Page Submission                     -0.4120      0.164     -2.513      0.012      -0.733      -0.091\n",
              "Lead Origin_Lead Add Form                                1.5580      0.537      2.901      0.004       0.506       2.610\n",
              "What is your current occupation_Housewife               22.4854   6.79e+04      0.000      1.000   -1.33e+05    1.33e+05\n",
              "What is your current occupation_Other                    1.4946      1.740      0.859      0.390      -1.916       4.905\n",
              "What is your current occupation_Unemployed               0.7705      0.515      1.496      0.135      -0.239       1.780\n",
              "What is your current occupation_Working Professional     1.4071      0.618      2.278      0.023       0.197       2.618\n",
              "What is your current occupation_not provided            -1.7265      0.533     -3.240      0.001      -2.771      -0.682\n",
              "Specialization_Rural and Agribusiness                   -0.8407      0.816     -1.031      0.303      -2.439       0.758\n",
              "Specialization_Travel and Tourism                       -0.7704      0.434     -1.775      0.076      -1.621       0.080\n",
              "Lead Source_Direct Traffic                              -0.2971      0.159     -1.872      0.061      -0.608       0.014\n",
              "Lead Source_Olark Chat                                   0.7900      0.189      4.180      0.000       0.420       1.160\n",
              "Lead Source_Social Media                                -0.6966      0.689     -1.011      0.312      -2.047       0.654\n",
              "Lead Source_Welingak Website                             2.5529      1.149      2.221      0.026       0.300       4.805\n",
              "Last Activity_Converted to Lead                         -0.6747      0.412     -1.636      0.102      -1.483       0.134\n",
              "Last Activity_Email Bounced                             -1.3260      0.503     -2.635      0.008      -2.312      -0.340\n",
              "Last Activity_Olark Chat Conversation                   -0.3532      0.309     -1.142      0.253      -0.959       0.253\n",
              "Last Activity_Page Visited on Website                   -0.2964      0.262     -1.129      0.259      -0.811       0.218\n",
              "Last Activity_SMS Sent                                   2.0043      0.139     14.375      0.000       1.731       2.278\n",
              "Last Notable Activity_Email Link Clicked                -1.2051      0.493     -2.446      0.014      -2.171      -0.239\n",
              "Last Notable Activity_Modified                          -1.4217      0.158     -8.988      0.000      -1.732      -1.112\n",
              "Last Notable Activity_Olark Chat Conversation           -2.0141      0.594     -3.390      0.001      -3.179      -0.850\n",
              "Tags_Busy                                               -0.7435      0.270     -2.750      0.006      -1.273      -0.214\n",
              "Tags_Closed by Horizzon                                 25.4582   1.37e+04      0.002      0.999   -2.68e+04    2.68e+04\n",
              "Tags_Interested in other courses                        -3.5630      0.389     -9.163      0.000      -4.325      -2.801\n",
              "Tags_Lost to EINS                                        5.4988      0.633      8.688      0.000       4.258       6.739\n",
              "Tags_Other_Tags                                         -4.1218      0.258    -15.976      0.000      -4.628      -3.616\n",
              "Tags_Ringing                                            -5.2969      0.293    -18.091      0.000      -5.871      -4.723\n",
              "Tags_Will revert after reading the email                 2.8461      0.235     12.133      0.000       2.386       3.306\n",
              "========================================================================================================================\n",
              "\"\"\""
            ],
            "text/html": [
              "<table class=\"simpletable\">\n",
              "<caption>Generalized Linear Model Regression Results</caption>\n",
              "<tr>\n",
              "  <th>Dep. Variable:</th>       <td>Converted</td>    <th>  No. Observations:  </th>  <td>  6299</td> \n",
              "</tr>\n",
              "<tr>\n",
              "  <th>Model:</th>                  <td>GLM</td>       <th>  Df Residuals:      </th>  <td>  6269</td> \n",
              "</tr>\n",
              "<tr>\n",
              "  <th>Model Family:</th>        <td>Binomial</td>     <th>  Df Model:          </th>  <td>    29</td> \n",
              "</tr>\n",
              "<tr>\n",
              "  <th>Link Function:</th>         <td>Logit</td>      <th>  Scale:             </th> <td>  1.0000</td>\n",
              "</tr>\n",
              "<tr>\n",
              "  <th>Method:</th>                <td>IRLS</td>       <th>  Log-Likelihood:    </th> <td> -1049.0</td>\n",
              "</tr>\n",
              "<tr>\n",
              "  <th>Date:</th>            <td>Sun, 19 Mar 2023</td> <th>  Deviance:          </th> <td>  2098.0</td>\n",
              "</tr>\n",
              "<tr>\n",
              "  <th>Time:</th>                <td>14:22:16</td>     <th>  Pearson chi2:      </th> <td>7.89e+03</td>\n",
              "</tr>\n",
              "<tr>\n",
              "  <th>No. Iterations:</th>         <td>24</td>        <th>  Pseudo R-squ. (CS):</th>  <td>0.6296</td> \n",
              "</tr>\n",
              "<tr>\n",
              "  <th>Covariance Type:</th>     <td>nonrobust</td>    <th>                     </th>     <td> </td>   \n",
              "</tr>\n",
              "</table>\n",
              "<table class=\"simpletable\">\n",
              "<tr>\n",
              "                            <td></td>                              <th>coef</th>     <th>std err</th>      <th>z</th>      <th>P>|z|</th>  <th>[0.025</th>    <th>0.975]</th>  \n",
              "</tr>\n",
              "<tr>\n",
              "  <th>const</th>                                                <td>   -0.2596</td> <td>    0.545</td> <td>   -0.476</td> <td> 0.634</td> <td>   -1.328</td> <td>    0.809</td>\n",
              "</tr>\n",
              "<tr>\n",
              "  <th>Total Time Spent on Website</th>                          <td>    1.0124</td> <td>    0.066</td> <td>   15.309</td> <td> 0.000</td> <td>    0.883</td> <td>    1.142</td>\n",
              "</tr>\n",
              "<tr>\n",
              "  <th>Lead Origin_Landing Page Submission</th>                  <td>   -0.4120</td> <td>    0.164</td> <td>   -2.513</td> <td> 0.012</td> <td>   -0.733</td> <td>   -0.091</td>\n",
              "</tr>\n",
              "<tr>\n",
              "  <th>Lead Origin_Lead Add Form</th>                            <td>    1.5580</td> <td>    0.537</td> <td>    2.901</td> <td> 0.004</td> <td>    0.506</td> <td>    2.610</td>\n",
              "</tr>\n",
              "<tr>\n",
              "  <th>What is your current occupation_Housewife</th>            <td>   22.4854</td> <td> 6.79e+04</td> <td>    0.000</td> <td> 1.000</td> <td>-1.33e+05</td> <td> 1.33e+05</td>\n",
              "</tr>\n",
              "<tr>\n",
              "  <th>What is your current occupation_Other</th>                <td>    1.4946</td> <td>    1.740</td> <td>    0.859</td> <td> 0.390</td> <td>   -1.916</td> <td>    4.905</td>\n",
              "</tr>\n",
              "<tr>\n",
              "  <th>What is your current occupation_Unemployed</th>           <td>    0.7705</td> <td>    0.515</td> <td>    1.496</td> <td> 0.135</td> <td>   -0.239</td> <td>    1.780</td>\n",
              "</tr>\n",
              "<tr>\n",
              "  <th>What is your current occupation_Working Professional</th> <td>    1.4071</td> <td>    0.618</td> <td>    2.278</td> <td> 0.023</td> <td>    0.197</td> <td>    2.618</td>\n",
              "</tr>\n",
              "<tr>\n",
              "  <th>What is your current occupation_not provided</th>         <td>   -1.7265</td> <td>    0.533</td> <td>   -3.240</td> <td> 0.001</td> <td>   -2.771</td> <td>   -0.682</td>\n",
              "</tr>\n",
              "<tr>\n",
              "  <th>Specialization_Rural and Agribusiness</th>                <td>   -0.8407</td> <td>    0.816</td> <td>   -1.031</td> <td> 0.303</td> <td>   -2.439</td> <td>    0.758</td>\n",
              "</tr>\n",
              "<tr>\n",
              "  <th>Specialization_Travel and Tourism</th>                    <td>   -0.7704</td> <td>    0.434</td> <td>   -1.775</td> <td> 0.076</td> <td>   -1.621</td> <td>    0.080</td>\n",
              "</tr>\n",
              "<tr>\n",
              "  <th>Lead Source_Direct Traffic</th>                           <td>   -0.2971</td> <td>    0.159</td> <td>   -1.872</td> <td> 0.061</td> <td>   -0.608</td> <td>    0.014</td>\n",
              "</tr>\n",
              "<tr>\n",
              "  <th>Lead Source_Olark Chat</th>                               <td>    0.7900</td> <td>    0.189</td> <td>    4.180</td> <td> 0.000</td> <td>    0.420</td> <td>    1.160</td>\n",
              "</tr>\n",
              "<tr>\n",
              "  <th>Lead Source_Social Media</th>                             <td>   -0.6966</td> <td>    0.689</td> <td>   -1.011</td> <td> 0.312</td> <td>   -2.047</td> <td>    0.654</td>\n",
              "</tr>\n",
              "<tr>\n",
              "  <th>Lead Source_Welingak Website</th>                         <td>    2.5529</td> <td>    1.149</td> <td>    2.221</td> <td> 0.026</td> <td>    0.300</td> <td>    4.805</td>\n",
              "</tr>\n",
              "<tr>\n",
              "  <th>Last Activity_Converted to Lead</th>                      <td>   -0.6747</td> <td>    0.412</td> <td>   -1.636</td> <td> 0.102</td> <td>   -1.483</td> <td>    0.134</td>\n",
              "</tr>\n",
              "<tr>\n",
              "  <th>Last Activity_Email Bounced</th>                          <td>   -1.3260</td> <td>    0.503</td> <td>   -2.635</td> <td> 0.008</td> <td>   -2.312</td> <td>   -0.340</td>\n",
              "</tr>\n",
              "<tr>\n",
              "  <th>Last Activity_Olark Chat Conversation</th>                <td>   -0.3532</td> <td>    0.309</td> <td>   -1.142</td> <td> 0.253</td> <td>   -0.959</td> <td>    0.253</td>\n",
              "</tr>\n",
              "<tr>\n",
              "  <th>Last Activity_Page Visited on Website</th>                <td>   -0.2964</td> <td>    0.262</td> <td>   -1.129</td> <td> 0.259</td> <td>   -0.811</td> <td>    0.218</td>\n",
              "</tr>\n",
              "<tr>\n",
              "  <th>Last Activity_SMS Sent</th>                               <td>    2.0043</td> <td>    0.139</td> <td>   14.375</td> <td> 0.000</td> <td>    1.731</td> <td>    2.278</td>\n",
              "</tr>\n",
              "<tr>\n",
              "  <th>Last Notable Activity_Email Link Clicked</th>             <td>   -1.2051</td> <td>    0.493</td> <td>   -2.446</td> <td> 0.014</td> <td>   -2.171</td> <td>   -0.239</td>\n",
              "</tr>\n",
              "<tr>\n",
              "  <th>Last Notable Activity_Modified</th>                       <td>   -1.4217</td> <td>    0.158</td> <td>   -8.988</td> <td> 0.000</td> <td>   -1.732</td> <td>   -1.112</td>\n",
              "</tr>\n",
              "<tr>\n",
              "  <th>Last Notable Activity_Olark Chat Conversation</th>        <td>   -2.0141</td> <td>    0.594</td> <td>   -3.390</td> <td> 0.001</td> <td>   -3.179</td> <td>   -0.850</td>\n",
              "</tr>\n",
              "<tr>\n",
              "  <th>Tags_Busy</th>                                            <td>   -0.7435</td> <td>    0.270</td> <td>   -2.750</td> <td> 0.006</td> <td>   -1.273</td> <td>   -0.214</td>\n",
              "</tr>\n",
              "<tr>\n",
              "  <th>Tags_Closed by Horizzon</th>                              <td>   25.4582</td> <td> 1.37e+04</td> <td>    0.002</td> <td> 0.999</td> <td>-2.68e+04</td> <td> 2.68e+04</td>\n",
              "</tr>\n",
              "<tr>\n",
              "  <th>Tags_Interested in other courses</th>                     <td>   -3.5630</td> <td>    0.389</td> <td>   -9.163</td> <td> 0.000</td> <td>   -4.325</td> <td>   -2.801</td>\n",
              "</tr>\n",
              "<tr>\n",
              "  <th>Tags_Lost to EINS</th>                                    <td>    5.4988</td> <td>    0.633</td> <td>    8.688</td> <td> 0.000</td> <td>    4.258</td> <td>    6.739</td>\n",
              "</tr>\n",
              "<tr>\n",
              "  <th>Tags_Other_Tags</th>                                      <td>   -4.1218</td> <td>    0.258</td> <td>  -15.976</td> <td> 0.000</td> <td>   -4.628</td> <td>   -3.616</td>\n",
              "</tr>\n",
              "<tr>\n",
              "  <th>Tags_Ringing</th>                                         <td>   -5.2969</td> <td>    0.293</td> <td>  -18.091</td> <td> 0.000</td> <td>   -5.871</td> <td>   -4.723</td>\n",
              "</tr>\n",
              "<tr>\n",
              "  <th>Tags_Will revert after reading the email</th>             <td>    2.8461</td> <td>    0.235</td> <td>   12.133</td> <td> 0.000</td> <td>    2.386</td> <td>    3.306</td>\n",
              "</tr>\n",
              "</table>"
            ]
          },
          "metadata": {},
          "execution_count": 174
        }
      ]
    },
    {
      "cell_type": "code",
      "source": [
        "# Create a dataframe that will contain the names of all the feature variables and their respective VIFs\n",
        "vif = pd.DataFrame()\n",
        "vif['Features'] = X_train[col].columns\n",
        "vif['VIF'] = [variance_inflation_factor(X_train[col].values, i) for i in range(X_train[col].shape[1])]\n",
        "vif['VIF'] = round(vif['VIF'], 2)\n",
        "vif = vif.sort_values(by = \"VIF\", ascending = False)\n",
        "vif"
      ],
      "metadata": {
        "colab": {
          "base_uri": "https://localhost:8080/",
          "height": 959
        },
        "id": "E0EpgHDHP-F8",
        "outputId": "ce79b65b-8b4e-4d5d-9d18-4add9534e810"
      },
      "execution_count": 175,
      "outputs": [
        {
          "output_type": "execute_result",
          "data": {
            "text/plain": [
              "                                             Features   VIF\n",
              "5          What is your current occupation_Unemployed  8.30\n",
              "1                 Lead Origin_Landing Page Submission  4.53\n",
              "28           Tags_Will revert after reading the email  3.64\n",
              "7        What is your current occupation_not provided  2.72\n",
              "20                     Last Notable Activity_Modified  2.71\n",
              "26                                    Tags_Other_Tags  2.63\n",
              "27                                       Tags_Ringing  2.54\n",
              "11                             Lead Source_Olark Chat  2.39\n",
              "16              Last Activity_Olark Chat Conversation  2.21\n",
              "6   What is your current occupation_Working Profes...  2.21\n",
              "2                           Lead Origin_Lead Add Form  2.11\n",
              "10                         Lead Source_Direct Traffic  1.96\n",
              "18                             Last Activity_SMS Sent  1.86\n",
              "24                   Tags_Interested in other courses  1.62\n",
              "23                            Tags_Closed by Horizzon  1.56\n",
              "0                         Total Time Spent on Website  1.49\n",
              "13                       Lead Source_Welingak Website  1.43\n",
              "21      Last Notable Activity_Olark Chat Conversation  1.38\n",
              "14                    Last Activity_Converted to Lead  1.35\n",
              "22                                          Tags_Busy  1.24\n",
              "17              Last Activity_Page Visited on Website  1.21\n",
              "15                        Last Activity_Email Bounced  1.20\n",
              "25                                  Tags_Lost to EINS  1.17\n",
              "19           Last Notable Activity_Email Link Clicked  1.06\n",
              "9                   Specialization_Travel and Tourism  1.04\n",
              "12                           Lead Source_Social Media  1.03\n",
              "4               What is your current occupation_Other  1.03\n",
              "3           What is your current occupation_Housewife  1.03\n",
              "8               Specialization_Rural and Agribusiness  1.02"
            ],
            "text/html": [
              "\n",
              "  <div id=\"df-9a9fd920-a35e-4f05-a768-3c8f86d8edaf\">\n",
              "    <div class=\"colab-df-container\">\n",
              "      <div>\n",
              "<style scoped>\n",
              "    .dataframe tbody tr th:only-of-type {\n",
              "        vertical-align: middle;\n",
              "    }\n",
              "\n",
              "    .dataframe tbody tr th {\n",
              "        vertical-align: top;\n",
              "    }\n",
              "\n",
              "    .dataframe thead th {\n",
              "        text-align: right;\n",
              "    }\n",
              "</style>\n",
              "<table border=\"1\" class=\"dataframe\">\n",
              "  <thead>\n",
              "    <tr style=\"text-align: right;\">\n",
              "      <th></th>\n",
              "      <th>Features</th>\n",
              "      <th>VIF</th>\n",
              "    </tr>\n",
              "  </thead>\n",
              "  <tbody>\n",
              "    <tr>\n",
              "      <th>5</th>\n",
              "      <td>What is your current occupation_Unemployed</td>\n",
              "      <td>8.30</td>\n",
              "    </tr>\n",
              "    <tr>\n",
              "      <th>1</th>\n",
              "      <td>Lead Origin_Landing Page Submission</td>\n",
              "      <td>4.53</td>\n",
              "    </tr>\n",
              "    <tr>\n",
              "      <th>28</th>\n",
              "      <td>Tags_Will revert after reading the email</td>\n",
              "      <td>3.64</td>\n",
              "    </tr>\n",
              "    <tr>\n",
              "      <th>7</th>\n",
              "      <td>What is your current occupation_not provided</td>\n",
              "      <td>2.72</td>\n",
              "    </tr>\n",
              "    <tr>\n",
              "      <th>20</th>\n",
              "      <td>Last Notable Activity_Modified</td>\n",
              "      <td>2.71</td>\n",
              "    </tr>\n",
              "    <tr>\n",
              "      <th>26</th>\n",
              "      <td>Tags_Other_Tags</td>\n",
              "      <td>2.63</td>\n",
              "    </tr>\n",
              "    <tr>\n",
              "      <th>27</th>\n",
              "      <td>Tags_Ringing</td>\n",
              "      <td>2.54</td>\n",
              "    </tr>\n",
              "    <tr>\n",
              "      <th>11</th>\n",
              "      <td>Lead Source_Olark Chat</td>\n",
              "      <td>2.39</td>\n",
              "    </tr>\n",
              "    <tr>\n",
              "      <th>16</th>\n",
              "      <td>Last Activity_Olark Chat Conversation</td>\n",
              "      <td>2.21</td>\n",
              "    </tr>\n",
              "    <tr>\n",
              "      <th>6</th>\n",
              "      <td>What is your current occupation_Working Profes...</td>\n",
              "      <td>2.21</td>\n",
              "    </tr>\n",
              "    <tr>\n",
              "      <th>2</th>\n",
              "      <td>Lead Origin_Lead Add Form</td>\n",
              "      <td>2.11</td>\n",
              "    </tr>\n",
              "    <tr>\n",
              "      <th>10</th>\n",
              "      <td>Lead Source_Direct Traffic</td>\n",
              "      <td>1.96</td>\n",
              "    </tr>\n",
              "    <tr>\n",
              "      <th>18</th>\n",
              "      <td>Last Activity_SMS Sent</td>\n",
              "      <td>1.86</td>\n",
              "    </tr>\n",
              "    <tr>\n",
              "      <th>24</th>\n",
              "      <td>Tags_Interested in other courses</td>\n",
              "      <td>1.62</td>\n",
              "    </tr>\n",
              "    <tr>\n",
              "      <th>23</th>\n",
              "      <td>Tags_Closed by Horizzon</td>\n",
              "      <td>1.56</td>\n",
              "    </tr>\n",
              "    <tr>\n",
              "      <th>0</th>\n",
              "      <td>Total Time Spent on Website</td>\n",
              "      <td>1.49</td>\n",
              "    </tr>\n",
              "    <tr>\n",
              "      <th>13</th>\n",
              "      <td>Lead Source_Welingak Website</td>\n",
              "      <td>1.43</td>\n",
              "    </tr>\n",
              "    <tr>\n",
              "      <th>21</th>\n",
              "      <td>Last Notable Activity_Olark Chat Conversation</td>\n",
              "      <td>1.38</td>\n",
              "    </tr>\n",
              "    <tr>\n",
              "      <th>14</th>\n",
              "      <td>Last Activity_Converted to Lead</td>\n",
              "      <td>1.35</td>\n",
              "    </tr>\n",
              "    <tr>\n",
              "      <th>22</th>\n",
              "      <td>Tags_Busy</td>\n",
              "      <td>1.24</td>\n",
              "    </tr>\n",
              "    <tr>\n",
              "      <th>17</th>\n",
              "      <td>Last Activity_Page Visited on Website</td>\n",
              "      <td>1.21</td>\n",
              "    </tr>\n",
              "    <tr>\n",
              "      <th>15</th>\n",
              "      <td>Last Activity_Email Bounced</td>\n",
              "      <td>1.20</td>\n",
              "    </tr>\n",
              "    <tr>\n",
              "      <th>25</th>\n",
              "      <td>Tags_Lost to EINS</td>\n",
              "      <td>1.17</td>\n",
              "    </tr>\n",
              "    <tr>\n",
              "      <th>19</th>\n",
              "      <td>Last Notable Activity_Email Link Clicked</td>\n",
              "      <td>1.06</td>\n",
              "    </tr>\n",
              "    <tr>\n",
              "      <th>9</th>\n",
              "      <td>Specialization_Travel and Tourism</td>\n",
              "      <td>1.04</td>\n",
              "    </tr>\n",
              "    <tr>\n",
              "      <th>12</th>\n",
              "      <td>Lead Source_Social Media</td>\n",
              "      <td>1.03</td>\n",
              "    </tr>\n",
              "    <tr>\n",
              "      <th>4</th>\n",
              "      <td>What is your current occupation_Other</td>\n",
              "      <td>1.03</td>\n",
              "    </tr>\n",
              "    <tr>\n",
              "      <th>3</th>\n",
              "      <td>What is your current occupation_Housewife</td>\n",
              "      <td>1.03</td>\n",
              "    </tr>\n",
              "    <tr>\n",
              "      <th>8</th>\n",
              "      <td>Specialization_Rural and Agribusiness</td>\n",
              "      <td>1.02</td>\n",
              "    </tr>\n",
              "  </tbody>\n",
              "</table>\n",
              "</div>\n",
              "      <button class=\"colab-df-convert\" onclick=\"convertToInteractive('df-9a9fd920-a35e-4f05-a768-3c8f86d8edaf')\"\n",
              "              title=\"Convert this dataframe to an interactive table.\"\n",
              "              style=\"display:none;\">\n",
              "        \n",
              "  <svg xmlns=\"http://www.w3.org/2000/svg\" height=\"24px\"viewBox=\"0 0 24 24\"\n",
              "       width=\"24px\">\n",
              "    <path d=\"M0 0h24v24H0V0z\" fill=\"none\"/>\n",
              "    <path d=\"M18.56 5.44l.94 2.06.94-2.06 2.06-.94-2.06-.94-.94-2.06-.94 2.06-2.06.94zm-11 1L8.5 8.5l.94-2.06 2.06-.94-2.06-.94L8.5 2.5l-.94 2.06-2.06.94zm10 10l.94 2.06.94-2.06 2.06-.94-2.06-.94-.94-2.06-.94 2.06-2.06.94z\"/><path d=\"M17.41 7.96l-1.37-1.37c-.4-.4-.92-.59-1.43-.59-.52 0-1.04.2-1.43.59L10.3 9.45l-7.72 7.72c-.78.78-.78 2.05 0 2.83L4 21.41c.39.39.9.59 1.41.59.51 0 1.02-.2 1.41-.59l7.78-7.78 2.81-2.81c.8-.78.8-2.07 0-2.86zM5.41 20L4 18.59l7.72-7.72 1.47 1.35L5.41 20z\"/>\n",
              "  </svg>\n",
              "      </button>\n",
              "      \n",
              "  <style>\n",
              "    .colab-df-container {\n",
              "      display:flex;\n",
              "      flex-wrap:wrap;\n",
              "      gap: 12px;\n",
              "    }\n",
              "\n",
              "    .colab-df-convert {\n",
              "      background-color: #E8F0FE;\n",
              "      border: none;\n",
              "      border-radius: 50%;\n",
              "      cursor: pointer;\n",
              "      display: none;\n",
              "      fill: #1967D2;\n",
              "      height: 32px;\n",
              "      padding: 0 0 0 0;\n",
              "      width: 32px;\n",
              "    }\n",
              "\n",
              "    .colab-df-convert:hover {\n",
              "      background-color: #E2EBFA;\n",
              "      box-shadow: 0px 1px 2px rgba(60, 64, 67, 0.3), 0px 1px 3px 1px rgba(60, 64, 67, 0.15);\n",
              "      fill: #174EA6;\n",
              "    }\n",
              "\n",
              "    [theme=dark] .colab-df-convert {\n",
              "      background-color: #3B4455;\n",
              "      fill: #D2E3FC;\n",
              "    }\n",
              "\n",
              "    [theme=dark] .colab-df-convert:hover {\n",
              "      background-color: #434B5C;\n",
              "      box-shadow: 0px 1px 3px 1px rgba(0, 0, 0, 0.15);\n",
              "      filter: drop-shadow(0px 1px 2px rgba(0, 0, 0, 0.3));\n",
              "      fill: #FFFFFF;\n",
              "    }\n",
              "  </style>\n",
              "\n",
              "      <script>\n",
              "        const buttonEl =\n",
              "          document.querySelector('#df-9a9fd920-a35e-4f05-a768-3c8f86d8edaf button.colab-df-convert');\n",
              "        buttonEl.style.display =\n",
              "          google.colab.kernel.accessAllowed ? 'block' : 'none';\n",
              "\n",
              "        async function convertToInteractive(key) {\n",
              "          const element = document.querySelector('#df-9a9fd920-a35e-4f05-a768-3c8f86d8edaf');\n",
              "          const dataTable =\n",
              "            await google.colab.kernel.invokeFunction('convertToInteractive',\n",
              "                                                     [key], {});\n",
              "          if (!dataTable) return;\n",
              "\n",
              "          const docLinkHtml = 'Like what you see? Visit the ' +\n",
              "            '<a target=\"_blank\" href=https://colab.research.google.com/notebooks/data_table.ipynb>data table notebook</a>'\n",
              "            + ' to learn more about interactive tables.';\n",
              "          element.innerHTML = '';\n",
              "          dataTable['output_type'] = 'display_data';\n",
              "          await google.colab.output.renderOutput(dataTable, element);\n",
              "          const docLink = document.createElement('div');\n",
              "          docLink.innerHTML = docLinkHtml;\n",
              "          element.appendChild(docLink);\n",
              "        }\n",
              "      </script>\n",
              "    </div>\n",
              "  </div>\n",
              "  "
            ]
          },
          "metadata": {},
          "execution_count": 175
        }
      ]
    },
    {
      "cell_type": "code",
      "source": [
        "# Getting the Predicted values on the train set\n",
        "y_train_pred = res.predict(X_train_sm)\n",
        "y_train_pred[:10]"
      ],
      "metadata": {
        "colab": {
          "base_uri": "https://localhost:8080/"
        },
        "id": "fJLvs1aVQC0u",
        "outputId": "825c463e-5208-4ae2-90f6-df0294c32301"
      },
      "execution_count": 176,
      "outputs": [
        {
          "output_type": "execute_result",
          "data": {
            "text/plain": [
              "4739    0.952137\n",
              "5809    0.041152\n",
              "903     0.009112\n",
              "7777    0.004122\n",
              "7905    0.343406\n",
              "1215    0.181675\n",
              "987     0.030453\n",
              "1478    0.006585\n",
              "110     0.976234\n",
              "4640    0.016420\n",
              "dtype: float64"
            ]
          },
          "metadata": {},
          "execution_count": 176
        }
      ]
    },
    {
      "cell_type": "code",
      "source": [
        "y_train_pred = y_train_pred.values.reshape(-1)\n",
        "y_train_pred[:10]\n"
      ],
      "metadata": {
        "colab": {
          "base_uri": "https://localhost:8080/"
        },
        "id": "Qkpv3XQtQEy7",
        "outputId": "00e2ebd0-d98d-43b2-9bfd-02d9e50252f5"
      },
      "execution_count": 177,
      "outputs": [
        {
          "output_type": "execute_result",
          "data": {
            "text/plain": [
              "array([0.95213706, 0.04115246, 0.00911204, 0.00412187, 0.34340635,\n",
              "       0.1816747 , 0.03045273, 0.00658531, 0.97623437, 0.01641988])"
            ]
          },
          "metadata": {},
          "execution_count": 177
        }
      ]
    },
    {
      "cell_type": "code",
      "source": [
        "y_train_pred_final = pd.DataFrame({'Converted':y_train.values, 'Converted_prob':y_train_pred})\n",
        "y_train_pred_final['Prospect ID'] = y_train.index\n",
        "y_train_pred_final.head()"
      ],
      "metadata": {
        "colab": {
          "base_uri": "https://localhost:8080/",
          "height": 206
        },
        "id": "PummZsoZQHRx",
        "outputId": "c8649e65-d6e7-4977-8e89-aa559a7e9888"
      },
      "execution_count": 178,
      "outputs": [
        {
          "output_type": "execute_result",
          "data": {
            "text/plain": [
              "   Converted  Converted_prob  Prospect ID\n",
              "0          1        0.952137         4739\n",
              "1          0        0.041152         5809\n",
              "2          0        0.009112          903\n",
              "3          0        0.004122         7777\n",
              "4          0        0.343406         7905"
            ],
            "text/html": [
              "\n",
              "  <div id=\"df-433727f2-14b4-4429-b9f9-d2e2eca521fb\">\n",
              "    <div class=\"colab-df-container\">\n",
              "      <div>\n",
              "<style scoped>\n",
              "    .dataframe tbody tr th:only-of-type {\n",
              "        vertical-align: middle;\n",
              "    }\n",
              "\n",
              "    .dataframe tbody tr th {\n",
              "        vertical-align: top;\n",
              "    }\n",
              "\n",
              "    .dataframe thead th {\n",
              "        text-align: right;\n",
              "    }\n",
              "</style>\n",
              "<table border=\"1\" class=\"dataframe\">\n",
              "  <thead>\n",
              "    <tr style=\"text-align: right;\">\n",
              "      <th></th>\n",
              "      <th>Converted</th>\n",
              "      <th>Converted_prob</th>\n",
              "      <th>Prospect ID</th>\n",
              "    </tr>\n",
              "  </thead>\n",
              "  <tbody>\n",
              "    <tr>\n",
              "      <th>0</th>\n",
              "      <td>1</td>\n",
              "      <td>0.952137</td>\n",
              "      <td>4739</td>\n",
              "    </tr>\n",
              "    <tr>\n",
              "      <th>1</th>\n",
              "      <td>0</td>\n",
              "      <td>0.041152</td>\n",
              "      <td>5809</td>\n",
              "    </tr>\n",
              "    <tr>\n",
              "      <th>2</th>\n",
              "      <td>0</td>\n",
              "      <td>0.009112</td>\n",
              "      <td>903</td>\n",
              "    </tr>\n",
              "    <tr>\n",
              "      <th>3</th>\n",
              "      <td>0</td>\n",
              "      <td>0.004122</td>\n",
              "      <td>7777</td>\n",
              "    </tr>\n",
              "    <tr>\n",
              "      <th>4</th>\n",
              "      <td>0</td>\n",
              "      <td>0.343406</td>\n",
              "      <td>7905</td>\n",
              "    </tr>\n",
              "  </tbody>\n",
              "</table>\n",
              "</div>\n",
              "      <button class=\"colab-df-convert\" onclick=\"convertToInteractive('df-433727f2-14b4-4429-b9f9-d2e2eca521fb')\"\n",
              "              title=\"Convert this dataframe to an interactive table.\"\n",
              "              style=\"display:none;\">\n",
              "        \n",
              "  <svg xmlns=\"http://www.w3.org/2000/svg\" height=\"24px\"viewBox=\"0 0 24 24\"\n",
              "       width=\"24px\">\n",
              "    <path d=\"M0 0h24v24H0V0z\" fill=\"none\"/>\n",
              "    <path d=\"M18.56 5.44l.94 2.06.94-2.06 2.06-.94-2.06-.94-.94-2.06-.94 2.06-2.06.94zm-11 1L8.5 8.5l.94-2.06 2.06-.94-2.06-.94L8.5 2.5l-.94 2.06-2.06.94zm10 10l.94 2.06.94-2.06 2.06-.94-2.06-.94-.94-2.06-.94 2.06-2.06.94z\"/><path d=\"M17.41 7.96l-1.37-1.37c-.4-.4-.92-.59-1.43-.59-.52 0-1.04.2-1.43.59L10.3 9.45l-7.72 7.72c-.78.78-.78 2.05 0 2.83L4 21.41c.39.39.9.59 1.41.59.51 0 1.02-.2 1.41-.59l7.78-7.78 2.81-2.81c.8-.78.8-2.07 0-2.86zM5.41 20L4 18.59l7.72-7.72 1.47 1.35L5.41 20z\"/>\n",
              "  </svg>\n",
              "      </button>\n",
              "      \n",
              "  <style>\n",
              "    .colab-df-container {\n",
              "      display:flex;\n",
              "      flex-wrap:wrap;\n",
              "      gap: 12px;\n",
              "    }\n",
              "\n",
              "    .colab-df-convert {\n",
              "      background-color: #E8F0FE;\n",
              "      border: none;\n",
              "      border-radius: 50%;\n",
              "      cursor: pointer;\n",
              "      display: none;\n",
              "      fill: #1967D2;\n",
              "      height: 32px;\n",
              "      padding: 0 0 0 0;\n",
              "      width: 32px;\n",
              "    }\n",
              "\n",
              "    .colab-df-convert:hover {\n",
              "      background-color: #E2EBFA;\n",
              "      box-shadow: 0px 1px 2px rgba(60, 64, 67, 0.3), 0px 1px 3px 1px rgba(60, 64, 67, 0.15);\n",
              "      fill: #174EA6;\n",
              "    }\n",
              "\n",
              "    [theme=dark] .colab-df-convert {\n",
              "      background-color: #3B4455;\n",
              "      fill: #D2E3FC;\n",
              "    }\n",
              "\n",
              "    [theme=dark] .colab-df-convert:hover {\n",
              "      background-color: #434B5C;\n",
              "      box-shadow: 0px 1px 3px 1px rgba(0, 0, 0, 0.15);\n",
              "      filter: drop-shadow(0px 1px 2px rgba(0, 0, 0, 0.3));\n",
              "      fill: #FFFFFF;\n",
              "    }\n",
              "  </style>\n",
              "\n",
              "      <script>\n",
              "        const buttonEl =\n",
              "          document.querySelector('#df-433727f2-14b4-4429-b9f9-d2e2eca521fb button.colab-df-convert');\n",
              "        buttonEl.style.display =\n",
              "          google.colab.kernel.accessAllowed ? 'block' : 'none';\n",
              "\n",
              "        async function convertToInteractive(key) {\n",
              "          const element = document.querySelector('#df-433727f2-14b4-4429-b9f9-d2e2eca521fb');\n",
              "          const dataTable =\n",
              "            await google.colab.kernel.invokeFunction('convertToInteractive',\n",
              "                                                     [key], {});\n",
              "          if (!dataTable) return;\n",
              "\n",
              "          const docLinkHtml = 'Like what you see? Visit the ' +\n",
              "            '<a target=\"_blank\" href=https://colab.research.google.com/notebooks/data_table.ipynb>data table notebook</a>'\n",
              "            + ' to learn more about interactive tables.';\n",
              "          element.innerHTML = '';\n",
              "          dataTable['output_type'] = 'display_data';\n",
              "          await google.colab.output.renderOutput(dataTable, element);\n",
              "          const docLink = document.createElement('div');\n",
              "          docLink.innerHTML = docLinkHtml;\n",
              "          element.appendChild(docLink);\n",
              "        }\n",
              "      </script>\n",
              "    </div>\n",
              "  </div>\n",
              "  "
            ]
          },
          "metadata": {},
          "execution_count": 178
        }
      ]
    },
    {
      "cell_type": "code",
      "source": [
        "y_train_pred_final['Predicted'] = y_train_pred_final.Converted_prob.map(lambda x: 1 if x > 0.5 else 0)\n",
        "\n",
        "# Let's see the head\n",
        "y_train_pred_final.head()"
      ],
      "metadata": {
        "colab": {
          "base_uri": "https://localhost:8080/",
          "height": 206
        },
        "id": "N27iytDRQJea",
        "outputId": "4aaa9e0f-a7b3-408b-8ed3-d750975c697f"
      },
      "execution_count": 179,
      "outputs": [
        {
          "output_type": "execute_result",
          "data": {
            "text/plain": [
              "   Converted  Converted_prob  Prospect ID  Predicted\n",
              "0          1        0.952137         4739          1\n",
              "1          0        0.041152         5809          0\n",
              "2          0        0.009112          903          0\n",
              "3          0        0.004122         7777          0\n",
              "4          0        0.343406         7905          0"
            ],
            "text/html": [
              "\n",
              "  <div id=\"df-d127be3d-4fca-490c-806d-a47b7e04e058\">\n",
              "    <div class=\"colab-df-container\">\n",
              "      <div>\n",
              "<style scoped>\n",
              "    .dataframe tbody tr th:only-of-type {\n",
              "        vertical-align: middle;\n",
              "    }\n",
              "\n",
              "    .dataframe tbody tr th {\n",
              "        vertical-align: top;\n",
              "    }\n",
              "\n",
              "    .dataframe thead th {\n",
              "        text-align: right;\n",
              "    }\n",
              "</style>\n",
              "<table border=\"1\" class=\"dataframe\">\n",
              "  <thead>\n",
              "    <tr style=\"text-align: right;\">\n",
              "      <th></th>\n",
              "      <th>Converted</th>\n",
              "      <th>Converted_prob</th>\n",
              "      <th>Prospect ID</th>\n",
              "      <th>Predicted</th>\n",
              "    </tr>\n",
              "  </thead>\n",
              "  <tbody>\n",
              "    <tr>\n",
              "      <th>0</th>\n",
              "      <td>1</td>\n",
              "      <td>0.952137</td>\n",
              "      <td>4739</td>\n",
              "      <td>1</td>\n",
              "    </tr>\n",
              "    <tr>\n",
              "      <th>1</th>\n",
              "      <td>0</td>\n",
              "      <td>0.041152</td>\n",
              "      <td>5809</td>\n",
              "      <td>0</td>\n",
              "    </tr>\n",
              "    <tr>\n",
              "      <th>2</th>\n",
              "      <td>0</td>\n",
              "      <td>0.009112</td>\n",
              "      <td>903</td>\n",
              "      <td>0</td>\n",
              "    </tr>\n",
              "    <tr>\n",
              "      <th>3</th>\n",
              "      <td>0</td>\n",
              "      <td>0.004122</td>\n",
              "      <td>7777</td>\n",
              "      <td>0</td>\n",
              "    </tr>\n",
              "    <tr>\n",
              "      <th>4</th>\n",
              "      <td>0</td>\n",
              "      <td>0.343406</td>\n",
              "      <td>7905</td>\n",
              "      <td>0</td>\n",
              "    </tr>\n",
              "  </tbody>\n",
              "</table>\n",
              "</div>\n",
              "      <button class=\"colab-df-convert\" onclick=\"convertToInteractive('df-d127be3d-4fca-490c-806d-a47b7e04e058')\"\n",
              "              title=\"Convert this dataframe to an interactive table.\"\n",
              "              style=\"display:none;\">\n",
              "        \n",
              "  <svg xmlns=\"http://www.w3.org/2000/svg\" height=\"24px\"viewBox=\"0 0 24 24\"\n",
              "       width=\"24px\">\n",
              "    <path d=\"M0 0h24v24H0V0z\" fill=\"none\"/>\n",
              "    <path d=\"M18.56 5.44l.94 2.06.94-2.06 2.06-.94-2.06-.94-.94-2.06-.94 2.06-2.06.94zm-11 1L8.5 8.5l.94-2.06 2.06-.94-2.06-.94L8.5 2.5l-.94 2.06-2.06.94zm10 10l.94 2.06.94-2.06 2.06-.94-2.06-.94-.94-2.06-.94 2.06-2.06.94z\"/><path d=\"M17.41 7.96l-1.37-1.37c-.4-.4-.92-.59-1.43-.59-.52 0-1.04.2-1.43.59L10.3 9.45l-7.72 7.72c-.78.78-.78 2.05 0 2.83L4 21.41c.39.39.9.59 1.41.59.51 0 1.02-.2 1.41-.59l7.78-7.78 2.81-2.81c.8-.78.8-2.07 0-2.86zM5.41 20L4 18.59l7.72-7.72 1.47 1.35L5.41 20z\"/>\n",
              "  </svg>\n",
              "      </button>\n",
              "      \n",
              "  <style>\n",
              "    .colab-df-container {\n",
              "      display:flex;\n",
              "      flex-wrap:wrap;\n",
              "      gap: 12px;\n",
              "    }\n",
              "\n",
              "    .colab-df-convert {\n",
              "      background-color: #E8F0FE;\n",
              "      border: none;\n",
              "      border-radius: 50%;\n",
              "      cursor: pointer;\n",
              "      display: none;\n",
              "      fill: #1967D2;\n",
              "      height: 32px;\n",
              "      padding: 0 0 0 0;\n",
              "      width: 32px;\n",
              "    }\n",
              "\n",
              "    .colab-df-convert:hover {\n",
              "      background-color: #E2EBFA;\n",
              "      box-shadow: 0px 1px 2px rgba(60, 64, 67, 0.3), 0px 1px 3px 1px rgba(60, 64, 67, 0.15);\n",
              "      fill: #174EA6;\n",
              "    }\n",
              "\n",
              "    [theme=dark] .colab-df-convert {\n",
              "      background-color: #3B4455;\n",
              "      fill: #D2E3FC;\n",
              "    }\n",
              "\n",
              "    [theme=dark] .colab-df-convert:hover {\n",
              "      background-color: #434B5C;\n",
              "      box-shadow: 0px 1px 3px 1px rgba(0, 0, 0, 0.15);\n",
              "      filter: drop-shadow(0px 1px 2px rgba(0, 0, 0, 0.3));\n",
              "      fill: #FFFFFF;\n",
              "    }\n",
              "  </style>\n",
              "\n",
              "      <script>\n",
              "        const buttonEl =\n",
              "          document.querySelector('#df-d127be3d-4fca-490c-806d-a47b7e04e058 button.colab-df-convert');\n",
              "        buttonEl.style.display =\n",
              "          google.colab.kernel.accessAllowed ? 'block' : 'none';\n",
              "\n",
              "        async function convertToInteractive(key) {\n",
              "          const element = document.querySelector('#df-d127be3d-4fca-490c-806d-a47b7e04e058');\n",
              "          const dataTable =\n",
              "            await google.colab.kernel.invokeFunction('convertToInteractive',\n",
              "                                                     [key], {});\n",
              "          if (!dataTable) return;\n",
              "\n",
              "          const docLinkHtml = 'Like what you see? Visit the ' +\n",
              "            '<a target=\"_blank\" href=https://colab.research.google.com/notebooks/data_table.ipynb>data table notebook</a>'\n",
              "            + ' to learn more about interactive tables.';\n",
              "          element.innerHTML = '';\n",
              "          dataTable['output_type'] = 'display_data';\n",
              "          await google.colab.output.renderOutput(dataTable, element);\n",
              "          const docLink = document.createElement('div');\n",
              "          docLink.innerHTML = docLinkHtml;\n",
              "          element.appendChild(docLink);\n",
              "        }\n",
              "      </script>\n",
              "    </div>\n",
              "  </div>\n",
              "  "
            ]
          },
          "metadata": {},
          "execution_count": 179
        }
      ]
    },
    {
      "cell_type": "code",
      "source": [
        "from sklearn import metrics\n",
        "\n",
        "# Confusion matrix \n",
        "confusion = metrics.confusion_matrix(y_train_pred_final.Converted, y_train_pred_final.Predicted )\n",
        "print(confusion)"
      ],
      "metadata": {
        "colab": {
          "base_uri": "https://localhost:8080/"
        },
        "id": "NQM7103GQLE-",
        "outputId": "3e44012c-3bac-4528-f31b-867e921eee60"
      },
      "execution_count": 180,
      "outputs": [
        {
          "output_type": "stream",
          "name": "stdout",
          "text": [
            "[[3779  139]\n",
            " [ 236 2145]]\n"
          ]
        }
      ]
    },
    {
      "cell_type": "code",
      "source": [
        "# Let's check the overall accuracy.\n",
        "print(metrics.accuracy_score(y_train_pred_final.Converted, y_train_pred_final.Predicted))"
      ],
      "metadata": {
        "colab": {
          "base_uri": "https://localhost:8080/"
        },
        "id": "i4UNg9J-QMzx",
        "outputId": "c2b04a76-3941-45af-fff1-092c2c71986d"
      },
      "execution_count": 181,
      "outputs": [
        {
          "output_type": "stream",
          "name": "stdout",
          "text": [
            "0.9404667407525004\n"
          ]
        }
      ]
    },
    {
      "cell_type": "code",
      "source": [
        "TP = confusion[1,1] # true positive \n",
        "TN = confusion[0,0] # true negatives\n",
        "FP = confusion[0,1] # false positives\n",
        "FN = confusion[1,0] # false negatives"
      ],
      "metadata": {
        "id": "HMWNRDQxQP6W"
      },
      "execution_count": 182,
      "outputs": []
    },
    {
      "cell_type": "code",
      "source": [
        "# Let's see the sensitivity of our logistic regression model\n",
        "TP / float(TP+FN)"
      ],
      "metadata": {
        "colab": {
          "base_uri": "https://localhost:8080/"
        },
        "id": "6EsoysgIQRmg",
        "outputId": "a8999e07-c2bb-432d-d34e-cdad2a873643"
      },
      "execution_count": 183,
      "outputs": [
        {
          "output_type": "execute_result",
          "data": {
            "text/plain": [
              "0.9008819823603528"
            ]
          },
          "metadata": {},
          "execution_count": 183
        }
      ]
    },
    {
      "cell_type": "code",
      "source": [
        "# Let us calculate specificity\n",
        "TN / float(TN+FP)"
      ],
      "metadata": {
        "colab": {
          "base_uri": "https://localhost:8080/"
        },
        "id": "HFzxOMGEQTI0",
        "outputId": "10b86121-b168-4518-801d-170825d1165f"
      },
      "execution_count": 184,
      "outputs": [
        {
          "output_type": "execute_result",
          "data": {
            "text/plain": [
              "0.9645227156712608"
            ]
          },
          "metadata": {},
          "execution_count": 184
        }
      ]
    },
    {
      "cell_type": "code",
      "source": [
        "# Calculate False Postive Rate - predicting conversion when customer does not have convert\n",
        "print(FP/ float(TN+FP))"
      ],
      "metadata": {
        "colab": {
          "base_uri": "https://localhost:8080/"
        },
        "id": "F01oduRHQUvY",
        "outputId": "bddf9039-b1fa-4769-877d-ad57bf0d3a94"
      },
      "execution_count": 185,
      "outputs": [
        {
          "output_type": "stream",
          "name": "stdout",
          "text": [
            "0.03547728432873915\n"
          ]
        }
      ]
    },
    {
      "cell_type": "code",
      "source": [
        "# positive predictive value \n",
        "print (TP / float(TP+FP))"
      ],
      "metadata": {
        "colab": {
          "base_uri": "https://localhost:8080/"
        },
        "id": "xaLOvjUOQW4x",
        "outputId": "0b9cba6b-ed42-4470-8729-d8a33568643f"
      },
      "execution_count": 186,
      "outputs": [
        {
          "output_type": "stream",
          "name": "stdout",
          "text": [
            "0.9391418563922942\n"
          ]
        }
      ]
    },
    {
      "cell_type": "code",
      "source": [
        "# Negative predictive value\n",
        "print (TN / float(TN+ FN))"
      ],
      "metadata": {
        "colab": {
          "base_uri": "https://localhost:8080/"
        },
        "id": "MlrxsXe_QYjv",
        "outputId": "4b7539dd-a8a2-4aa4-84a1-e7339397a593"
      },
      "execution_count": 187,
      "outputs": [
        {
          "output_type": "stream",
          "name": "stdout",
          "text": [
            "0.9412204234122042\n"
          ]
        }
      ]
    },
    {
      "cell_type": "code",
      "source": [
        "def draw_roc( actual, probs ):\n",
        "    fpr, tpr, thresholds = metrics.roc_curve( actual, probs,\n",
        "                                              drop_intermediate = False )\n",
        "    auc_score = metrics.roc_auc_score( actual, probs )\n",
        "    plt.figure(figsize=(5, 5))\n",
        "    plt.plot( fpr, tpr, label='ROC curve (area = %0.2f)' % auc_score )\n",
        "    plt.plot([0, 1], [0, 1], 'k--')\n",
        "    plt.xlim([0.0, 1.0])\n",
        "    plt.ylim([0.0, 1.05])\n",
        "    plt.xlabel('False Positive Rate or [1 - True Negative Rate]')\n",
        "    plt.ylabel('True Positive Rate')\n",
        "    plt.title('Receiver operating characteristic example')\n",
        "    plt.legend(loc=\"lower right\")\n",
        "    plt.show()\n",
        "\n",
        "    return None\n"
      ],
      "metadata": {
        "id": "6O9l6l7ZQcET"
      },
      "execution_count": 189,
      "outputs": []
    },
    {
      "cell_type": "code",
      "source": [
        "fpr, tpr, thresholds = metrics.roc_curve( y_train_pred_final.Converted, y_train_pred_final.Converted_prob, drop_intermediate = False )"
      ],
      "metadata": {
        "id": "3o26yW3oQekp"
      },
      "execution_count": 190,
      "outputs": []
    },
    {
      "cell_type": "code",
      "source": [
        "draw_roc(y_train_pred_final.Converted, y_train_pred_final.Converted_prob)"
      ],
      "metadata": {
        "colab": {
          "base_uri": "https://localhost:8080/",
          "height": 350
        },
        "id": "Ws9qleDgQhho",
        "outputId": "48dc5fd3-5b34-4067-f184-53e7d4def406"
      },
      "execution_count": 191,
      "outputs": [
        {
          "output_type": "display_data",
          "data": {
            "text/plain": [
              "<Figure size 360x360 with 1 Axes>"
            ],
            "image/png": "[encoded data removed]"
          },
          "metadata": {
            "needs_background": "light"
          }
        }
      ]
    },
    {
      "cell_type": "code",
      "source": [
        "# Let's create columns with different probability cutoffs \n",
        "numbers = [float(x)/10 for x in range(10)]\n",
        "for i in numbers:\n",
        "    y_train_pred_final[i]= y_train_pred_final.Converted_prob.map(lambda x: 1 if x > i else 0)\n",
        "y_train_pred_final.head()"
      ],
      "metadata": {
        "colab": {
          "base_uri": "https://localhost:8080/",
          "height": 206
        },
        "id": "B0cXDYqZQiq3",
        "outputId": "2896321c-ae03-46f4-c255-4ce0dcfc4ed0"
      },
      "execution_count": 192,
      "outputs": [
        {
          "output_type": "execute_result",
          "data": {
            "text/plain": [
              "   Converted  Converted_prob  Prospect ID  Predicted  0.0  0.1  0.2  0.3  0.4  \\\n",
              "0          1        0.952137         4739          1    1    1    1    1    1   \n",
              "1          0        0.041152         5809          0    1    0    0    0    0   \n",
              "2          0        0.009112          903          0    1    0    0    0    0   \n",
              "3          0        0.004122         7777          0    1    0    0    0    0   \n",
              "4          0        0.343406         7905          0    1    1    1    1    0   \n",
              "\n",
              "   0.5  0.6  0.7  0.8  0.9  \n",
              "0    1    1    1    1    1  \n",
              "1    0    0    0    0    0  \n",
              "2    0    0    0    0    0  \n",
              "3    0    0    0    0    0  \n",
              "4    0    0    0    0    0  "
            ],
            "text/html": [
              "\n",
              "  <div id=\"df-c859f3f4-c389-4a2f-9742-6362e617ed56\">\n",
              "    <div class=\"colab-df-container\">\n",
              "      <div>\n",
              "<style scoped>\n",
              "    .dataframe tbody tr th:only-of-type {\n",
              "        vertical-align: middle;\n",
              "    }\n",
              "\n",
              "    .dataframe tbody tr th {\n",
              "        vertical-align: top;\n",
              "    }\n",
              "\n",
              "    .dataframe thead th {\n",
              "        text-align: right;\n",
              "    }\n",
              "</style>\n",
              "<table border=\"1\" class=\"dataframe\">\n",
              "  <thead>\n",
              "    <tr style=\"text-align: right;\">\n",
              "      <th></th>\n",
              "      <th>Converted</th>\n",
              "      <th>Converted_prob</th>\n",
              "      <th>Prospect ID</th>\n",
              "      <th>Predicted</th>\n",
              "      <th>0.0</th>\n",
              "      <th>0.1</th>\n",
              "      <th>0.2</th>\n",
              "      <th>0.3</th>\n",
              "      <th>0.4</th>\n",
              "      <th>0.5</th>\n",
              "      <th>0.6</th>\n",
              "      <th>0.7</th>\n",
              "      <th>0.8</th>\n",
              "      <th>0.9</th>\n",
              "    </tr>\n",
              "  </thead>\n",
              "  <tbody>\n",
              "    <tr>\n",
              "      <th>0</th>\n",
              "      <td>1</td>\n",
              "      <td>0.952137</td>\n",
              "      <td>4739</td>\n",
              "      <td>1</td>\n",
              "      <td>1</td>\n",
              "      <td>1</td>\n",
              "      <td>1</td>\n",
              "      <td>1</td>\n",
              "      <td>1</td>\n",
              "      <td>1</td>\n",
              "      <td>1</td>\n",
              "      <td>1</td>\n",
              "      <td>1</td>\n",
              "      <td>1</td>\n",
              "    </tr>\n",
              "    <tr>\n",
              "      <th>1</th>\n",
              "      <td>0</td>\n",
              "      <td>0.041152</td>\n",
              "      <td>5809</td>\n",
              "      <td>0</td>\n",
              "      <td>1</td>\n",
              "      <td>0</td>\n",
              "      <td>0</td>\n",
              "      <td>0</td>\n",
              "      <td>0</td>\n",
              "      <td>0</td>\n",
              "      <td>0</td>\n",
              "      <td>0</td>\n",
              "      <td>0</td>\n",
              "      <td>0</td>\n",
              "    </tr>\n",
              "    <tr>\n",
              "      <th>2</th>\n",
              "      <td>0</td>\n",
              "      <td>0.009112</td>\n",
              "      <td>903</td>\n",
              "      <td>0</td>\n",
              "      <td>1</td>\n",
              "      <td>0</td>\n",
              "      <td>0</td>\n",
              "      <td>0</td>\n",
              "      <td>0</td>\n",
              "      <td>0</td>\n",
              "      <td>0</td>\n",
              "      <td>0</td>\n",
              "      <td>0</td>\n",
              "      <td>0</td>\n",
              "    </tr>\n",
              "    <tr>\n",
              "      <th>3</th>\n",
              "      <td>0</td>\n",
              "      <td>0.004122</td>\n",
              "      <td>7777</td>\n",
              "      <td>0</td>\n",
              "      <td>1</td>\n",
              "      <td>0</td>\n",
              "      <td>0</td>\n",
              "      <td>0</td>\n",
              "      <td>0</td>\n",
              "      <td>0</td>\n",
              "      <td>0</td>\n",
              "      <td>0</td>\n",
              "      <td>0</td>\n",
              "      <td>0</td>\n",
              "    </tr>\n",
              "    <tr>\n",
              "      <th>4</th>\n",
              "      <td>0</td>\n",
              "      <td>0.343406</td>\n",
              "      <td>7905</td>\n",
              "      <td>0</td>\n",
              "      <td>1</td>\n",
              "      <td>1</td>\n",
              "      <td>1</td>\n",
              "      <td>1</td>\n",
              "      <td>0</td>\n",
              "      <td>0</td>\n",
              "      <td>0</td>\n",
              "      <td>0</td>\n",
              "      <td>0</td>\n",
              "      <td>0</td>\n",
              "    </tr>\n",
              "  </tbody>\n",
              "</table>\n",
              "</div>\n",
              "      <button class=\"colab-df-convert\" onclick=\"convertToInteractive('df-c859f3f4-c389-4a2f-9742-6362e617ed56')\"\n",
              "              title=\"Convert this dataframe to an interactive table.\"\n",
              "              style=\"display:none;\">\n",
              "        \n",
              "  <svg xmlns=\"http://www.w3.org/2000/svg\" height=\"24px\"viewBox=\"0 0 24 24\"\n",
              "       width=\"24px\">\n",
              "    <path d=\"M0 0h24v24H0V0z\" fill=\"none\"/>\n",
              "    <path d=\"M18.56 5.44l.94 2.06.94-2.06 2.06-.94-2.06-.94-.94-2.06-.94 2.06-2.06.94zm-11 1L8.5 8.5l.94-2.06 2.06-.94-2.06-.94L8.5 2.5l-.94 2.06-2.06.94zm10 10l.94 2.06.94-2.06 2.06-.94-2.06-.94-.94-2.06-.94 2.06-2.06.94z\"/><path d=\"M17.41 7.96l-1.37-1.37c-.4-.4-.92-.59-1.43-.59-.52 0-1.04.2-1.43.59L10.3 9.45l-7.72 7.72c-.78.78-.78 2.05 0 2.83L4 21.41c.39.39.9.59 1.41.59.51 0 1.02-.2 1.41-.59l7.78-7.78 2.81-2.81c.8-.78.8-2.07 0-2.86zM5.41 20L4 18.59l7.72-7.72 1.47 1.35L5.41 20z\"/>\n",
              "  </svg>\n",
              "      </button>\n",
              "      \n",
              "  <style>\n",
              "    .colab-df-container {\n",
              "      display:flex;\n",
              "      flex-wrap:wrap;\n",
              "      gap: 12px;\n",
              "    }\n",
              "\n",
              "    .colab-df-convert {\n",
              "      background-color: #E8F0FE;\n",
              "      border: none;\n",
              "      border-radius: 50%;\n",
              "      cursor: pointer;\n",
              "      display: none;\n",
              "      fill: #1967D2;\n",
              "      height: 32px;\n",
              "      padding: 0 0 0 0;\n",
              "      width: 32px;\n",
              "    }\n",
              "\n",
              "    .colab-df-convert:hover {\n",
              "      background-color: #E2EBFA;\n",
              "      box-shadow: 0px 1px 2px rgba(60, 64, 67, 0.3), 0px 1px 3px 1px rgba(60, 64, 67, 0.15);\n",
              "      fill: #174EA6;\n",
              "    }\n",
              "\n",
              "    [theme=dark] .colab-df-convert {\n",
              "      background-color: #3B4455;\n",
              "      fill: #D2E3FC;\n",
              "    }\n",
              "\n",
              "    [theme=dark] .colab-df-convert:hover {\n",
              "      background-color: #434B5C;\n",
              "      box-shadow: 0px 1px 3px 1px rgba(0, 0, 0, 0.15);\n",
              "      filter: drop-shadow(0px 1px 2px rgba(0, 0, 0, 0.3));\n",
              "      fill: #FFFFFF;\n",
              "    }\n",
              "  </style>\n",
              "\n",
              "      <script>\n",
              "        const buttonEl =\n",
              "          document.querySelector('#df-c859f3f4-c389-4a2f-9742-6362e617ed56 button.colab-df-convert');\n",
              "        buttonEl.style.display =\n",
              "          google.colab.kernel.accessAllowed ? 'block' : 'none';\n",
              "\n",
              "        async function convertToInteractive(key) {\n",
              "          const element = document.querySelector('#df-c859f3f4-c389-4a2f-9742-6362e617ed56');\n",
              "          const dataTable =\n",
              "            await google.colab.kernel.invokeFunction('convertToInteractive',\n",
              "                                                     [key], {});\n",
              "          if (!dataTable) return;\n",
              "\n",
              "          const docLinkHtml = 'Like what you see? Visit the ' +\n",
              "            '<a target=\"_blank\" href=https://colab.research.google.com/notebooks/data_table.ipynb>data table notebook</a>'\n",
              "            + ' to learn more about interactive tables.';\n",
              "          element.innerHTML = '';\n",
              "          dataTable['output_type'] = 'display_data';\n",
              "          await google.colab.output.renderOutput(dataTable, element);\n",
              "          const docLink = document.createElement('div');\n",
              "          docLink.innerHTML = docLinkHtml;\n",
              "          element.appendChild(docLink);\n",
              "        }\n",
              "      </script>\n",
              "    </div>\n",
              "  </div>\n",
              "  "
            ]
          },
          "metadata": {},
          "execution_count": 192
        }
      ]
    },
    {
      "cell_type": "code",
      "source": [
        "# Now let's calculate accuracy sensitivity and specificity for various probability cutoffs.\n",
        "cutoff_df = pd.DataFrame( columns = ['prob','accuracy','sensi','speci'])\n",
        "from sklearn.metrics import confusion_matrix\n",
        "\n",
        "# TP = confusion[1,1] # true positive \n",
        "# TN = confusion[0,0] # true negatives\n",
        "# FP = confusion[0,1] # false positives\n",
        "# FN = confusion[1,0] # false negatives\n",
        "\n",
        "num = [0.0,0.1,0.2,0.3,0.4,0.5,0.6,0.7,0.8,0.9]\n",
        "for i in num:\n",
        "    cm1 = metrics.confusion_matrix(y_train_pred_final.Converted, y_train_pred_final[i] )\n",
        "    total1=sum(sum(cm1))\n",
        "    accuracy = (cm1[0,0]+cm1[1,1])/total1\n",
        "    \n",
        "    speci = cm1[0,0]/(cm1[0,0]+cm1[0,1])\n",
        "    sensi = cm1[1,1]/(cm1[1,0]+cm1[1,1])\n",
        "    cutoff_df.loc[i] =[ i ,accuracy,sensi,speci]\n",
        "print(cutoff_df)"
      ],
      "metadata": {
        "colab": {
          "base_uri": "https://localhost:8080/"
        },
        "id": "JSQnOgMhQkkk",
        "outputId": "9bd17e1d-0ec3-4a95-8a72-2e3da637f6f0"
      },
      "execution_count": 193,
      "outputs": [
        {
          "output_type": "stream",
          "name": "stdout",
          "text": [
            "     prob  accuracy     sensi     speci\n",
            "0.0   0.0  0.377997  1.000000  0.000000\n",
            "0.1   0.1  0.875695  0.976480  0.814446\n",
            "0.2   0.2  0.921257  0.954221  0.901225\n",
            "0.3   0.3  0.934752  0.936581  0.933640\n",
            "0.4   0.4  0.940943  0.923982  0.951251\n",
            "0.5   0.5  0.940467  0.900882  0.964523\n",
            "0.6   0.6  0.937292  0.884922  0.969117\n",
            "0.7   0.7  0.928401  0.847123  0.977795\n",
            "0.8   0.8  0.918876  0.811424  0.984176\n",
            "0.9   0.9  0.903318  0.761445  0.989535\n"
          ]
        }
      ]
    },
    {
      "cell_type": "code",
      "source": [
        "# Let's plot accuracy sensitivity and specificity for various probabilities.\n",
        "cutoff_df.plot.line(x='prob', y=['accuracy','sensi','speci'])\n",
        "plt.show()"
      ],
      "metadata": {
        "colab": {
          "base_uri": "https://localhost:8080/",
          "height": 279
        },
        "id": "6qQw8wg5QnRh",
        "outputId": "1529325e-a9f8-4260-f0ec-0d347a42570a"
      },
      "execution_count": 194,
      "outputs": [
        {
          "output_type": "display_data",
          "data": {
            "text/plain": [
              "<Figure size 432x288 with 1 Axes>"
            ],
            "image/png": "[encoded data removed]"
          },
          "metadata": {
            "needs_background": "light"
          }
        }
      ]
    },
    {
      "cell_type": "code",
      "source": [
        "#### From the curve above, 0.3 is the optimum point to take it as a cutoff probability.\n",
        "\n",
        "y_train_pred_final['final_Predicted'] = y_train_pred_final.Converted_prob.map( lambda x: 1 if x > 0.3 else 0)\n",
        "\n",
        "y_train_pred_final.head()"
      ],
      "metadata": {
        "colab": {
          "base_uri": "https://localhost:8080/",
          "height": 206
        },
        "id": "BzkYmCtcQpIi",
        "outputId": "9f10572c-57fd-478b-c20d-6cfdf70ee4a2"
      },
      "execution_count": 195,
      "outputs": [
        {
          "output_type": "execute_result",
          "data": {
            "text/plain": [
              "   Converted  Converted_prob  Prospect ID  Predicted  0.0  0.1  0.2  0.3  0.4  \\\n",
              "0          1        0.952137         4739          1    1    1    1    1    1   \n",
              "1          0        0.041152         5809          0    1    0    0    0    0   \n",
              "2          0        0.009112          903          0    1    0    0    0    0   \n",
              "3          0        0.004122         7777          0    1    0    0    0    0   \n",
              "4          0        0.343406         7905          0    1    1    1    1    0   \n",
              "\n",
              "   0.5  0.6  0.7  0.8  0.9  final_Predicted  \n",
              "0    1    1    1    1    1                1  \n",
              "1    0    0    0    0    0                0  \n",
              "2    0    0    0    0    0                0  \n",
              "3    0    0    0    0    0                0  \n",
              "4    0    0    0    0    0                1  "
            ],
            "text/html": [
              "\n",
              "  <div id=\"df-af8278a5-9ac7-4f4a-a750-3a036a5b06ac\">\n",
              "    <div class=\"colab-df-container\">\n",
              "      <div>\n",
              "<style scoped>\n",
              "    .dataframe tbody tr th:only-of-type {\n",
              "        vertical-align: middle;\n",
              "    }\n",
              "\n",
              "    .dataframe tbody tr th {\n",
              "        vertical-align: top;\n",
              "    }\n",
              "\n",
              "    .dataframe thead th {\n",
              "        text-align: right;\n",
              "    }\n",
              "</style>\n",
              "<table border=\"1\" class=\"dataframe\">\n",
              "  <thead>\n",
              "    <tr style=\"text-align: right;\">\n",
              "      <th></th>\n",
              "      <th>Converted</th>\n",
              "      <th>Converted_prob</th>\n",
              "      <th>Prospect ID</th>\n",
              "      <th>Predicted</th>\n",
              "      <th>0.0</th>\n",
              "      <th>0.1</th>\n",
              "      <th>0.2</th>\n",
              "      <th>0.3</th>\n",
              "      <th>0.4</th>\n",
              "      <th>0.5</th>\n",
              "      <th>0.6</th>\n",
              "      <th>0.7</th>\n",
              "      <th>0.8</th>\n",
              "      <th>0.9</th>\n",
              "      <th>final_Predicted</th>\n",
              "    </tr>\n",
              "  </thead>\n",
              "  <tbody>\n",
              "    <tr>\n",
              "      <th>0</th>\n",
              "      <td>1</td>\n",
              "      <td>0.952137</td>\n",
              "      <td>4739</td>\n",
              "      <td>1</td>\n",
              "      <td>1</td>\n",
              "      <td>1</td>\n",
              "      <td>1</td>\n",
              "      <td>1</td>\n",
              "      <td>1</td>\n",
              "      <td>1</td>\n",
              "      <td>1</td>\n",
              "      <td>1</td>\n",
              "      <td>1</td>\n",
              "      <td>1</td>\n",
              "      <td>1</td>\n",
              "    </tr>\n",
              "    <tr>\n",
              "      <th>1</th>\n",
              "      <td>0</td>\n",
              "      <td>0.041152</td>\n",
              "      <td>5809</td>\n",
              "      <td>0</td>\n",
              "      <td>1</td>\n",
              "      <td>0</td>\n",
              "      <td>0</td>\n",
              "      <td>0</td>\n",
              "      <td>0</td>\n",
              "      <td>0</td>\n",
              "      <td>0</td>\n",
              "      <td>0</td>\n",
              "      <td>0</td>\n",
              "      <td>0</td>\n",
              "      <td>0</td>\n",
              "    </tr>\n",
              "    <tr>\n",
              "      <th>2</th>\n",
              "      <td>0</td>\n",
              "      <td>0.009112</td>\n",
              "      <td>903</td>\n",
              "      <td>0</td>\n",
              "      <td>1</td>\n",
              "      <td>0</td>\n",
              "      <td>0</td>\n",
              "      <td>0</td>\n",
              "      <td>0</td>\n",
              "      <td>0</td>\n",
              "      <td>0</td>\n",
              "      <td>0</td>\n",
              "      <td>0</td>\n",
              "      <td>0</td>\n",
              "      <td>0</td>\n",
              "    </tr>\n",
              "    <tr>\n",
              "      <th>3</th>\n",
              "      <td>0</td>\n",
              "      <td>0.004122</td>\n",
              "      <td>7777</td>\n",
              "      <td>0</td>\n",
              "      <td>1</td>\n",
              "      <td>0</td>\n",
              "      <td>0</td>\n",
              "      <td>0</td>\n",
              "      <td>0</td>\n",
              "      <td>0</td>\n",
              "      <td>0</td>\n",
              "      <td>0</td>\n",
              "      <td>0</td>\n",
              "      <td>0</td>\n",
              "      <td>0</td>\n",
              "    </tr>\n",
              "    <tr>\n",
              "      <th>4</th>\n",
              "      <td>0</td>\n",
              "      <td>0.343406</td>\n",
              "      <td>7905</td>\n",
              "      <td>0</td>\n",
              "      <td>1</td>\n",
              "      <td>1</td>\n",
              "      <td>1</td>\n",
              "      <td>1</td>\n",
              "      <td>0</td>\n",
              "      <td>0</td>\n",
              "      <td>0</td>\n",
              "      <td>0</td>\n",
              "      <td>0</td>\n",
              "      <td>0</td>\n",
              "      <td>1</td>\n",
              "    </tr>\n",
              "  </tbody>\n",
              "</table>\n",
              "</div>\n",
              "      <button class=\"colab-df-convert\" onclick=\"convertToInteractive('df-af8278a5-9ac7-4f4a-a750-3a036a5b06ac')\"\n",
              "              title=\"Convert this dataframe to an interactive table.\"\n",
              "              style=\"display:none;\">\n",
              "        \n",
              "  <svg xmlns=\"http://www.w3.org/2000/svg\" height=\"24px\"viewBox=\"0 0 24 24\"\n",
              "       width=\"24px\">\n",
              "    <path d=\"M0 0h24v24H0V0z\" fill=\"none\"/>\n",
              "    <path d=\"M18.56 5.44l.94 2.06.94-2.06 2.06-.94-2.06-.94-.94-2.06-.94 2.06-2.06.94zm-11 1L8.5 8.5l.94-2.06 2.06-.94-2.06-.94L8.5 2.5l-.94 2.06-2.06.94zm10 10l.94 2.06.94-2.06 2.06-.94-2.06-.94-.94-2.06-.94 2.06-2.06.94z\"/><path d=\"M17.41 7.96l-1.37-1.37c-.4-.4-.92-.59-1.43-.59-.52 0-1.04.2-1.43.59L10.3 9.45l-7.72 7.72c-.78.78-.78 2.05 0 2.83L4 21.41c.39.39.9.59 1.41.59.51 0 1.02-.2 1.41-.59l7.78-7.78 2.81-2.81c.8-.78.8-2.07 0-2.86zM5.41 20L4 18.59l7.72-7.72 1.47 1.35L5.41 20z\"/>\n",
              "  </svg>\n",
              "      </button>\n",
              "      \n",
              "  <style>\n",
              "    .colab-df-container {\n",
              "      display:flex;\n",
              "      flex-wrap:wrap;\n",
              "      gap: 12px;\n",
              "    }\n",
              "\n",
              "    .colab-df-convert {\n",
              "      background-color: #E8F0FE;\n",
              "      border: none;\n",
              "      border-radius: 50%;\n",
              "      cursor: pointer;\n",
              "      display: none;\n",
              "      fill: #1967D2;\n",
              "      height: 32px;\n",
              "      padding: 0 0 0 0;\n",
              "      width: 32px;\n",
              "    }\n",
              "\n",
              "    .colab-df-convert:hover {\n",
              "      background-color: #E2EBFA;\n",
              "      box-shadow: 0px 1px 2px rgba(60, 64, 67, 0.3), 0px 1px 3px 1px rgba(60, 64, 67, 0.15);\n",
              "      fill: #174EA6;\n",
              "    }\n",
              "\n",
              "    [theme=dark] .colab-df-convert {\n",
              "      background-color: #3B4455;\n",
              "      fill: #D2E3FC;\n",
              "    }\n",
              "\n",
              "    [theme=dark] .colab-df-convert:hover {\n",
              "      background-color: #434B5C;\n",
              "      box-shadow: 0px 1px 3px 1px rgba(0, 0, 0, 0.15);\n",
              "      filter: drop-shadow(0px 1px 2px rgba(0, 0, 0, 0.3));\n",
              "      fill: #FFFFFF;\n",
              "    }\n",
              "  </style>\n",
              "\n",
              "      <script>\n",
              "        const buttonEl =\n",
              "          document.querySelector('#df-af8278a5-9ac7-4f4a-a750-3a036a5b06ac button.colab-df-convert');\n",
              "        buttonEl.style.display =\n",
              "          google.colab.kernel.accessAllowed ? 'block' : 'none';\n",
              "\n",
              "        async function convertToInteractive(key) {\n",
              "          const element = document.querySelector('#df-af8278a5-9ac7-4f4a-a750-3a036a5b06ac');\n",
              "          const dataTable =\n",
              "            await google.colab.kernel.invokeFunction('convertToInteractive',\n",
              "                                                     [key], {});\n",
              "          if (!dataTable) return;\n",
              "\n",
              "          const docLinkHtml = 'Like what you see? Visit the ' +\n",
              "            '<a target=\"_blank\" href=https://colab.research.google.com/notebooks/data_table.ipynb>data table notebook</a>'\n",
              "            + ' to learn more about interactive tables.';\n",
              "          element.innerHTML = '';\n",
              "          dataTable['output_type'] = 'display_data';\n",
              "          await google.colab.output.renderOutput(dataTable, element);\n",
              "          const docLink = document.createElement('div');\n",
              "          docLink.innerHTML = docLinkHtml;\n",
              "          element.appendChild(docLink);\n",
              "        }\n",
              "      </script>\n",
              "    </div>\n",
              "  </div>\n",
              "  "
            ]
          },
          "metadata": {},
          "execution_count": 195
        }
      ]
    },
    {
      "cell_type": "code",
      "source": [
        "y_train_pred_final['Lead_Score'] = y_train_pred_final.Converted_prob.map( lambda x: round(x*100))\n",
        "\n",
        "y_train_pred_final[['Converted','Converted_prob','Prospect ID','final_Predicted','Lead_Score']].head()"
      ],
      "metadata": {
        "colab": {
          "base_uri": "https://localhost:8080/",
          "height": 206
        },
        "id": "lkyvx8O5QqyB",
        "outputId": "7d59be6e-7348-4387-cd9a-2ac6eee66c81"
      },
      "execution_count": 196,
      "outputs": [
        {
          "output_type": "execute_result",
          "data": {
            "text/plain": [
              "   Converted  Converted_prob  Prospect ID  final_Predicted  Lead_Score\n",
              "0          1        0.952137         4739                1          95\n",
              "1          0        0.041152         5809                0           4\n",
              "2          0        0.009112          903                0           1\n",
              "3          0        0.004122         7777                0           0\n",
              "4          0        0.343406         7905                1          34"
            ],
            "text/html": [
              "\n",
              "  <div id=\"df-56510e79-cef9-4e50-83db-266acfc9b4f8\">\n",
              "    <div class=\"colab-df-container\">\n",
              "      <div>\n",
              "<style scoped>\n",
              "    .dataframe tbody tr th:only-of-type {\n",
              "        vertical-align: middle;\n",
              "    }\n",
              "\n",
              "    .dataframe tbody tr th {\n",
              "        vertical-align: top;\n",
              "    }\n",
              "\n",
              "    .dataframe thead th {\n",
              "        text-align: right;\n",
              "    }\n",
              "</style>\n",
              "<table border=\"1\" class=\"dataframe\">\n",
              "  <thead>\n",
              "    <tr style=\"text-align: right;\">\n",
              "      <th></th>\n",
              "      <th>Converted</th>\n",
              "      <th>Converted_prob</th>\n",
              "      <th>Prospect ID</th>\n",
              "      <th>final_Predicted</th>\n",
              "      <th>Lead_Score</th>\n",
              "    </tr>\n",
              "  </thead>\n",
              "  <tbody>\n",
              "    <tr>\n",
              "      <th>0</th>\n",
              "      <td>1</td>\n",
              "      <td>0.952137</td>\n",
              "      <td>4739</td>\n",
              "      <td>1</td>\n",
              "      <td>95</td>\n",
              "    </tr>\n",
              "    <tr>\n",
              "      <th>1</th>\n",
              "      <td>0</td>\n",
              "      <td>0.041152</td>\n",
              "      <td>5809</td>\n",
              "      <td>0</td>\n",
              "      <td>4</td>\n",
              "    </tr>\n",
              "    <tr>\n",
              "      <th>2</th>\n",
              "      <td>0</td>\n",
              "      <td>0.009112</td>\n",
              "      <td>903</td>\n",
              "      <td>0</td>\n",
              "      <td>1</td>\n",
              "    </tr>\n",
              "    <tr>\n",
              "      <th>3</th>\n",
              "      <td>0</td>\n",
              "      <td>0.004122</td>\n",
              "      <td>7777</td>\n",
              "      <td>0</td>\n",
              "      <td>0</td>\n",
              "    </tr>\n",
              "    <tr>\n",
              "      <th>4</th>\n",
              "      <td>0</td>\n",
              "      <td>0.343406</td>\n",
              "      <td>7905</td>\n",
              "      <td>1</td>\n",
              "      <td>34</td>\n",
              "    </tr>\n",
              "  </tbody>\n",
              "</table>\n",
              "</div>\n",
              "      <button class=\"colab-df-convert\" onclick=\"convertToInteractive('df-56510e79-cef9-4e50-83db-266acfc9b4f8')\"\n",
              "              title=\"Convert this dataframe to an interactive table.\"\n",
              "              style=\"display:none;\">\n",
              "        \n",
              "  <svg xmlns=\"http://www.w3.org/2000/svg\" height=\"24px\"viewBox=\"0 0 24 24\"\n",
              "       width=\"24px\">\n",
              "    <path d=\"M0 0h24v24H0V0z\" fill=\"none\"/>\n",
              "    <path d=\"M18.56 5.44l.94 2.06.94-2.06 2.06-.94-2.06-.94-.94-2.06-.94 2.06-2.06.94zm-11 1L8.5 8.5l.94-2.06 2.06-.94-2.06-.94L8.5 2.5l-.94 2.06-2.06.94zm10 10l.94 2.06.94-2.06 2.06-.94-2.06-.94-.94-2.06-.94 2.06-2.06.94z\"/><path d=\"M17.41 7.96l-1.37-1.37c-.4-.4-.92-.59-1.43-.59-.52 0-1.04.2-1.43.59L10.3 9.45l-7.72 7.72c-.78.78-.78 2.05 0 2.83L4 21.41c.39.39.9.59 1.41.59.51 0 1.02-.2 1.41-.59l7.78-7.78 2.81-2.81c.8-.78.8-2.07 0-2.86zM5.41 20L4 18.59l7.72-7.72 1.47 1.35L5.41 20z\"/>\n",
              "  </svg>\n",
              "      </button>\n",
              "      \n",
              "  <style>\n",
              "    .colab-df-container {\n",
              "      display:flex;\n",
              "      flex-wrap:wrap;\n",
              "      gap: 12px;\n",
              "    }\n",
              "\n",
              "    .colab-df-convert {\n",
              "      background-color: #E8F0FE;\n",
              "      border: none;\n",
              "      border-radius: 50%;\n",
              "      cursor: pointer;\n",
              "      display: none;\n",
              "      fill: #1967D2;\n",
              "      height: 32px;\n",
              "      padding: 0 0 0 0;\n",
              "      width: 32px;\n",
              "    }\n",
              "\n",
              "    .colab-df-convert:hover {\n",
              "      background-color: #E2EBFA;\n",
              "      box-shadow: 0px 1px 2px rgba(60, 64, 67, 0.3), 0px 1px 3px 1px rgba(60, 64, 67, 0.15);\n",
              "      fill: #174EA6;\n",
              "    }\n",
              "\n",
              "    [theme=dark] .colab-df-convert {\n",
              "      background-color: #3B4455;\n",
              "      fill: #D2E3FC;\n",
              "    }\n",
              "\n",
              "    [theme=dark] .colab-df-convert:hover {\n",
              "      background-color: #434B5C;\n",
              "      box-shadow: 0px 1px 3px 1px rgba(0, 0, 0, 0.15);\n",
              "      filter: drop-shadow(0px 1px 2px rgba(0, 0, 0, 0.3));\n",
              "      fill: #FFFFFF;\n",
              "    }\n",
              "  </style>\n",
              "\n",
              "      <script>\n",
              "        const buttonEl =\n",
              "          document.querySelector('#df-56510e79-cef9-4e50-83db-266acfc9b4f8 button.colab-df-convert');\n",
              "        buttonEl.style.display =\n",
              "          google.colab.kernel.accessAllowed ? 'block' : 'none';\n",
              "\n",
              "        async function convertToInteractive(key) {\n",
              "          const element = document.querySelector('#df-56510e79-cef9-4e50-83db-266acfc9b4f8');\n",
              "          const dataTable =\n",
              "            await google.colab.kernel.invokeFunction('convertToInteractive',\n",
              "                                                     [key], {});\n",
              "          if (!dataTable) return;\n",
              "\n",
              "          const docLinkHtml = 'Like what you see? Visit the ' +\n",
              "            '<a target=\"_blank\" href=https://colab.research.google.com/notebooks/data_table.ipynb>data table notebook</a>'\n",
              "            + ' to learn more about interactive tables.';\n",
              "          element.innerHTML = '';\n",
              "          dataTable['output_type'] = 'display_data';\n",
              "          await google.colab.output.renderOutput(dataTable, element);\n",
              "          const docLink = document.createElement('div');\n",
              "          docLink.innerHTML = docLinkHtml;\n",
              "          element.appendChild(docLink);\n",
              "        }\n",
              "      </script>\n",
              "    </div>\n",
              "  </div>\n",
              "  "
            ]
          },
          "metadata": {},
          "execution_count": 196
        }
      ]
    },
    {
      "cell_type": "code",
      "source": [
        "# Let's check the overall accuracy.\n",
        "metrics.accuracy_score(y_train_pred_final.Converted, y_train_pred_final.final_Predicted)"
      ],
      "metadata": {
        "colab": {
          "base_uri": "https://localhost:8080/"
        },
        "id": "sBnnQRnoQsp_",
        "outputId": "14a85202-8f4d-4f62-f309-fc72f0fce649"
      },
      "execution_count": 197,
      "outputs": [
        {
          "output_type": "execute_result",
          "data": {
            "text/plain": [
              "0.9347515478647405"
            ]
          },
          "metadata": {},
          "execution_count": 197
        }
      ]
    },
    {
      "cell_type": "code",
      "source": [
        "confusion2 = metrics.confusion_matrix(y_train_pred_final.Converted, y_train_pred_final.final_Predicted )\n",
        "confusion2"
      ],
      "metadata": {
        "colab": {
          "base_uri": "https://localhost:8080/"
        },
        "id": "z-k09bK9QuVd",
        "outputId": "33d09a6a-5d96-47c8-bf21-1ea8ec44893f"
      },
      "execution_count": 198,
      "outputs": [
        {
          "output_type": "execute_result",
          "data": {
            "text/plain": [
              "array([[3658,  260],\n",
              "       [ 151, 2230]])"
            ]
          },
          "metadata": {},
          "execution_count": 198
        }
      ]
    },
    {
      "cell_type": "code",
      "source": [
        "TP = confusion2[1,1] # true positive \n",
        "TN = confusion2[0,0] # true negatives\n",
        "FP = confusion2[0,1] # false positives\n",
        "FN = confusion2[1,0] # false negatives"
      ],
      "metadata": {
        "id": "IOw_UvhfQw1c"
      },
      "execution_count": 199,
      "outputs": []
    },
    {
      "cell_type": "code",
      "source": [
        "# Let's see the sensitivity of our logistic regression model\n",
        "TP / float(TP+FN)"
      ],
      "metadata": {
        "colab": {
          "base_uri": "https://localhost:8080/"
        },
        "id": "E3RQ3y6eQyc6",
        "outputId": "97e626d4-aa27-4646-f978-4bf24af38c04"
      },
      "execution_count": 200,
      "outputs": [
        {
          "output_type": "execute_result",
          "data": {
            "text/plain": [
              "0.9365812683746325"
            ]
          },
          "metadata": {},
          "execution_count": 200
        }
      ]
    },
    {
      "cell_type": "code",
      "source": [
        "# Let us calculate specificity\n",
        "TN / float(TN+FP)"
      ],
      "metadata": {
        "colab": {
          "base_uri": "https://localhost:8080/"
        },
        "id": "6EhF-A7WQ0eC",
        "outputId": "e49d67b5-5e51-4f05-9201-c472164af6cb"
      },
      "execution_count": 201,
      "outputs": [
        {
          "output_type": "execute_result",
          "data": {
            "text/plain": [
              "0.9336396120469628"
            ]
          },
          "metadata": {},
          "execution_count": 201
        }
      ]
    },
    {
      "cell_type": "markdown",
      "source": [
        "Observation:\n",
        "So as we can see above the model seems to be performing well. The ROC curve has a value of 0.97, which is very good. We have the following values for the Train Data:\n",
        "\n",
        "Accuracy : 92.29%\n",
        "Sensitivity : 91.70%\n",
        "Specificity : 92.66%"
      ],
      "metadata": {
        "id": "_D8ihq79Q36X"
      }
    },
    {
      "cell_type": "code",
      "source": [
        "# Calculate False Postive Rate - predicting conversion when customer does not have convert\n",
        "print(FP/ float(TN+FP))"
      ],
      "metadata": {
        "colab": {
          "base_uri": "https://localhost:8080/"
        },
        "id": "gLuG5FXuQ1_D",
        "outputId": "c9333a47-977a-4668-a70e-600b5997e337"
      },
      "execution_count": 202,
      "outputs": [
        {
          "output_type": "stream",
          "name": "stdout",
          "text": [
            "0.06636038795303727\n"
          ]
        }
      ]
    },
    {
      "cell_type": "code",
      "source": [
        "# Positive predictive value \n",
        "print (TP / float(TP+FP))"
      ],
      "metadata": {
        "colab": {
          "base_uri": "https://localhost:8080/"
        },
        "id": "-0woRKwhQ7wr",
        "outputId": "c3918cc2-e324-4b2f-96b4-408e0adc5119"
      },
      "execution_count": 203,
      "outputs": [
        {
          "output_type": "stream",
          "name": "stdout",
          "text": [
            "0.8955823293172691\n"
          ]
        }
      ]
    },
    {
      "cell_type": "code",
      "source": [
        "# Negative predictive value\n",
        "print (TN / float(TN+ FN))"
      ],
      "metadata": {
        "colab": {
          "base_uri": "https://localhost:8080/"
        },
        "id": "9ZVM7Co6Q9YQ",
        "outputId": "08b15368-0560-427d-9666-5ee59ef8e662"
      },
      "execution_count": 204,
      "outputs": [
        {
          "output_type": "stream",
          "name": "stdout",
          "text": [
            "0.9603570490942505\n"
          ]
        }
      ]
    },
    {
      "cell_type": "code",
      "source": [
        "#Looking at the confusion matrix again\n",
        "\n",
        "confusion = metrics.confusion_matrix(y_train_pred_final.Converted, y_train_pred_final.final_Predicted )\n",
        "confusion"
      ],
      "metadata": {
        "colab": {
          "base_uri": "https://localhost:8080/"
        },
        "id": "OHvRodxgQ-ye",
        "outputId": "d388e5d1-e78e-4a24-a099-651f8497e8dc"
      },
      "execution_count": 205,
      "outputs": [
        {
          "output_type": "execute_result",
          "data": {
            "text/plain": [
              "array([[3658,  260],\n",
              "       [ 151, 2230]])"
            ]
          },
          "metadata": {},
          "execution_count": 205
        }
      ]
    },
    {
      "cell_type": "code",
      "source": [
        "##### Precision\n",
        "TP / TP + FP\n",
        "\n",
        "confusion[1,1]/(confusion[0,1]+confusion[1,1])"
      ],
      "metadata": {
        "colab": {
          "base_uri": "https://localhost:8080/"
        },
        "id": "MqBU1jlyRAdc",
        "outputId": "b3ddb667-3156-4a16-f0a9-9d797b8cb459"
      },
      "execution_count": 206,
      "outputs": [
        {
          "output_type": "execute_result",
          "data": {
            "text/plain": [
              "0.8955823293172691"
            ]
          },
          "metadata": {},
          "execution_count": 206
        }
      ]
    },
    {
      "cell_type": "code",
      "source": [
        "##### Recall\n",
        "TP / TP + FN\n",
        "\n",
        "confusion[1,1]/(confusion[1,0]+confusion[1,1])"
      ],
      "metadata": {
        "colab": {
          "base_uri": "https://localhost:8080/"
        },
        "id": "tgc42JsqRCLk",
        "outputId": "19d524c4-4f67-4837-af16-87ed7bd86d57"
      },
      "execution_count": 207,
      "outputs": [
        {
          "output_type": "execute_result",
          "data": {
            "text/plain": [
              "0.9365812683746325"
            ]
          },
          "metadata": {},
          "execution_count": 207
        }
      ]
    },
    {
      "cell_type": "code",
      "source": [
        "from sklearn.metrics import precision_score, recall_score"
      ],
      "metadata": {
        "id": "O0vDM-wdRDnd"
      },
      "execution_count": 208,
      "outputs": []
    },
    {
      "cell_type": "code",
      "source": [
        "precision_score(y_train_pred_final.Converted , y_train_pred_final.final_Predicted)"
      ],
      "metadata": {
        "colab": {
          "base_uri": "https://localhost:8080/"
        },
        "id": "_lxFK4aERH39",
        "outputId": "a3d01915-24e3-4fe5-fe23-0424ef372b17"
      },
      "execution_count": 209,
      "outputs": [
        {
          "output_type": "execute_result",
          "data": {
            "text/plain": [
              "0.8955823293172691"
            ]
          },
          "metadata": {},
          "execution_count": 209
        }
      ]
    },
    {
      "cell_type": "code",
      "source": [
        "recall_score(y_train_pred_final.Converted, y_train_pred_final.final_Predicted)"
      ],
      "metadata": {
        "colab": {
          "base_uri": "https://localhost:8080/"
        },
        "id": "GhriyuIXRJIH",
        "outputId": "7489eaaf-bebc-422b-b74b-1df5a87dbd52"
      },
      "execution_count": 210,
      "outputs": [
        {
          "output_type": "execute_result",
          "data": {
            "text/plain": [
              "0.9365812683746325"
            ]
          },
          "metadata": {},
          "execution_count": 210
        }
      ]
    },
    {
      "cell_type": "code",
      "source": [
        "from sklearn.metrics import precision_recall_curve"
      ],
      "metadata": {
        "id": "cykoCO2FRK4d"
      },
      "execution_count": 211,
      "outputs": []
    },
    {
      "cell_type": "code",
      "source": [
        "y_train_pred_final.Converted, y_train_pred_final.final_Predicted\n",
        "p, r, thresholds = precision_recall_curve(y_train_pred_final.Converted, y_train_pred_final.Converted_prob)"
      ],
      "metadata": {
        "id": "LILa43q0RMxj"
      },
      "execution_count": 212,
      "outputs": []
    },
    {
      "cell_type": "code",
      "source": [
        "plt.plot(thresholds, p[:-1], \"g-\")\n",
        "plt.plot(thresholds, r[:-1], \"r-\")\n",
        "plt.show()"
      ],
      "metadata": {
        "colab": {
          "base_uri": "https://localhost:8080/",
          "height": 265
        },
        "id": "1ILh_RsXRQRn",
        "outputId": "cf39f603-9db9-4050-bb1b-cd5ed735104c"
      },
      "execution_count": 213,
      "outputs": [
        {
          "output_type": "display_data",
          "data": {
            "text/plain": [
              "<Figure size 432x288 with 1 Axes>"
            ],
            "image/png": "[encoded data removed]"
          },
          "metadata": {
            "needs_background": "light"
          }
        }
      ]
    },
    {
      "cell_type": "code",
      "source": [
        "#scaling test set\n",
        "\n",
        "num_cols=X_test.select_dtypes(include=['float64', 'int64']).columns\n",
        "\n",
        "X_test[num_cols] = scaler.fit_transform(X_test[num_cols])\n",
        "\n",
        "X_test.head()"
      ],
      "metadata": {
        "colab": {
          "base_uri": "https://localhost:8080/",
          "height": 369
        },
        "id": "lCNLgyy9RRna",
        "outputId": "6013eb44-35a7-4923-9352-eb8f3ccc1c5c"
      },
      "execution_count": 214,
      "outputs": [
        {
          "output_type": "execute_result",
          "data": {
            "text/plain": [
              "      TotalVisits  Total Time Spent on Website  Page Views Per Visit  \\\n",
              "9124    -0.380843                    -0.398118             -0.680297   \n",
              "4392    -0.967758                    -0.887468             -1.211072   \n",
              "4072    -0.380843                    -0.675907             -0.149523   \n",
              "5551    -0.967758                    -0.887468             -1.211072   \n",
              "2778    -0.087385                     0.146422              0.381251   \n",
              "\n",
              "      Lead Origin_Landing Page Submission  Lead Origin_Lead Add Form  \\\n",
              "9124                                    0                          0   \n",
              "4392                                    0                          0   \n",
              "4072                                    0                          0   \n",
              "5551                                    0                          0   \n",
              "2778                                    0                          0   \n",
              "\n",
              "      Lead Origin_Lead Import  What is your current occupation_Housewife  \\\n",
              "9124                        0                                          0   \n",
              "4392                        0                                          0   \n",
              "4072                        0                                          0   \n",
              "5551                        0                                          0   \n",
              "2778                        0                                          0   \n",
              "\n",
              "      What is your current occupation_Other  \\\n",
              "9124                                      0   \n",
              "4392                                      0   \n",
              "4072                                      0   \n",
              "5551                                      0   \n",
              "2778                                      0   \n",
              "\n",
              "      What is your current occupation_Student  \\\n",
              "9124                                        0   \n",
              "4392                                        1   \n",
              "4072                                        0   \n",
              "5551                                        0   \n",
              "2778                                        0   \n",
              "\n",
              "      What is your current occupation_Unemployed  ...  \\\n",
              "9124                                           0  ...   \n",
              "4392                                           0  ...   \n",
              "4072                                           1  ...   \n",
              "5551                                           1  ...   \n",
              "2778                                           1  ...   \n",
              "\n",
              "      Last Notable Activity_Page Visited on Website  \\\n",
              "9124                                              0   \n",
              "4392                                              0   \n",
              "4072                                              0   \n",
              "5551                                              0   \n",
              "2778                                              0   \n",
              "\n",
              "      Last Notable Activity_SMS Sent  Tags_Busy  Tags_Closed by Horizzon  \\\n",
              "9124                               0          0                        0   \n",
              "4392                               0          0                        0   \n",
              "4072                               0          0                        0   \n",
              "5551                               0          0                        0   \n",
              "2778                               0          0                        0   \n",
              "\n",
              "      Tags_Interested in other courses  Tags_Lost to EINS  Tags_Other_Tags  \\\n",
              "9124                                 0                  0                0   \n",
              "4392                                 0                  0                1   \n",
              "4072                                 0                  0                1   \n",
              "5551                                 0                  0                0   \n",
              "2778                                 1                  0                0   \n",
              "\n",
              "      Tags_Ringing  Tags_Will revert after reading the email  \\\n",
              "9124             0                                         0   \n",
              "4392             0                                         0   \n",
              "4072             0                                         0   \n",
              "5551             0                                         1   \n",
              "2778             0                                         0   \n",
              "\n",
              "      Tags_not provided  \n",
              "9124                  1  \n",
              "4392                  0  \n",
              "4072                  0  \n",
              "5551                  0  \n",
              "2778                  0  \n",
              "\n",
              "[5 rows x 60 columns]"
            ],
            "text/html": [
              "\n",
              "  <div id=\"df-78836c7d-65e4-463d-a7c6-e3daeac80b4d\">\n",
              "    <div class=\"colab-df-container\">\n",
              "      <div>\n",
              "<style scoped>\n",
              "    .dataframe tbody tr th:only-of-type {\n",
              "        vertical-align: middle;\n",
              "    }\n",
              "\n",
              "    .dataframe tbody tr th {\n",
              "        vertical-align: top;\n",
              "    }\n",
              "\n",
              "    .dataframe thead th {\n",
              "        text-align: right;\n",
              "    }\n",
              "</style>\n",
              "<table border=\"1\" class=\"dataframe\">\n",
              "  <thead>\n",
              "    <tr style=\"text-align: right;\">\n",
              "      <th></th>\n",
              "      <th>TotalVisits</th>\n",
              "      <th>Total Time Spent on Website</th>\n",
              "      <th>Page Views Per Visit</th>\n",
              "      <th>Lead Origin_Landing Page Submission</th>\n",
              "      <th>Lead Origin_Lead Add Form</th>\n",
              "      <th>Lead Origin_Lead Import</th>\n",
              "      <th>What is your current occupation_Housewife</th>\n",
              "      <th>What is your current occupation_Other</th>\n",
              "      <th>What is your current occupation_Student</th>\n",
              "      <th>What is your current occupation_Unemployed</th>\n",
              "      <th>...</th>\n",
              "      <th>Last Notable Activity_Page Visited on Website</th>\n",
              "      <th>Last Notable Activity_SMS Sent</th>\n",
              "      <th>Tags_Busy</th>\n",
              "      <th>Tags_Closed by Horizzon</th>\n",
              "      <th>Tags_Interested in other courses</th>\n",
              "      <th>Tags_Lost to EINS</th>\n",
              "      <th>Tags_Other_Tags</th>\n",
              "      <th>Tags_Ringing</th>\n",
              "      <th>Tags_Will revert after reading the email</th>\n",
              "      <th>Tags_not provided</th>\n",
              "    </tr>\n",
              "  </thead>\n",
              "  <tbody>\n",
              "    <tr>\n",
              "      <th>9124</th>\n",
              "      <td>-0.380843</td>\n",
              "      <td>-0.398118</td>\n",
              "      <td>-0.680297</td>\n",
              "      <td>0</td>\n",
              "      <td>0</td>\n",
              "      <td>0</td>\n",
              "      <td>0</td>\n",
              "      <td>0</td>\n",
              "      <td>0</td>\n",
              "      <td>0</td>\n",
              "      <td>...</td>\n",
              "      <td>0</td>\n",
              "      <td>0</td>\n",
              "      <td>0</td>\n",
              "      <td>0</td>\n",
              "      <td>0</td>\n",
              "      <td>0</td>\n",
              "      <td>0</td>\n",
              "      <td>0</td>\n",
              "      <td>0</td>\n",
              "      <td>1</td>\n",
              "    </tr>\n",
              "    <tr>\n",
              "      <th>4392</th>\n",
              "      <td>-0.967758</td>\n",
              "      <td>-0.887468</td>\n",
              "      <td>-1.211072</td>\n",
              "      <td>0</td>\n",
              "      <td>0</td>\n",
              "      <td>0</td>\n",
              "      <td>0</td>\n",
              "      <td>0</td>\n",
              "      <td>1</td>\n",
              "      <td>0</td>\n",
              "      <td>...</td>\n",
              "      <td>0</td>\n",
              "      <td>0</td>\n",
              "      <td>0</td>\n",
              "      <td>0</td>\n",
              "      <td>0</td>\n",
              "      <td>0</td>\n",
              "      <td>1</td>\n",
              "      <td>0</td>\n",
              "      <td>0</td>\n",
              "      <td>0</td>\n",
              "    </tr>\n",
              "    <tr>\n",
              "      <th>4072</th>\n",
              "      <td>-0.380843</td>\n",
              "      <td>-0.675907</td>\n",
              "      <td>-0.149523</td>\n",
              "      <td>0</td>\n",
              "      <td>0</td>\n",
              "      <td>0</td>\n",
              "      <td>0</td>\n",
              "      <td>0</td>\n",
              "      <td>0</td>\n",
              "      <td>1</td>\n",
              "      <td>...</td>\n",
              "      <td>0</td>\n",
              "      <td>0</td>\n",
              "      <td>0</td>\n",
              "      <td>0</td>\n",
              "      <td>0</td>\n",
              "      <td>0</td>\n",
              "      <td>1</td>\n",
              "      <td>0</td>\n",
              "      <td>0</td>\n",
              "      <td>0</td>\n",
              "    </tr>\n",
              "    <tr>\n",
              "      <th>5551</th>\n",
              "      <td>-0.967758</td>\n",
              "      <td>-0.887468</td>\n",
              "      <td>-1.211072</td>\n",
              "      <td>0</td>\n",
              "      <td>0</td>\n",
              "      <td>0</td>\n",
              "      <td>0</td>\n",
              "      <td>0</td>\n",
              "      <td>0</td>\n",
              "      <td>1</td>\n",
              "      <td>...</td>\n",
              "      <td>0</td>\n",
              "      <td>0</td>\n",
              "      <td>0</td>\n",
              "      <td>0</td>\n",
              "      <td>0</td>\n",
              "      <td>0</td>\n",
              "      <td>0</td>\n",
              "      <td>0</td>\n",
              "      <td>1</td>\n",
              "      <td>0</td>\n",
              "    </tr>\n",
              "    <tr>\n",
              "      <th>2778</th>\n",
              "      <td>-0.087385</td>\n",
              "      <td>0.146422</td>\n",
              "      <td>0.381251</td>\n",
              "      <td>0</td>\n",
              "      <td>0</td>\n",
              "      <td>0</td>\n",
              "      <td>0</td>\n",
              "      <td>0</td>\n",
              "      <td>0</td>\n",
              "      <td>1</td>\n",
              "      <td>...</td>\n",
              "      <td>0</td>\n",
              "      <td>0</td>\n",
              "      <td>0</td>\n",
              "      <td>0</td>\n",
              "      <td>1</td>\n",
              "      <td>0</td>\n",
              "      <td>0</td>\n",
              "      <td>0</td>\n",
              "      <td>0</td>\n",
              "      <td>0</td>\n",
              "    </tr>\n",
              "  </tbody>\n",
              "</table>\n",
              "<p>5 rows × 60 columns</p>\n",
              "</div>\n",
              "      <button class=\"colab-df-convert\" onclick=\"convertToInteractive('df-78836c7d-65e4-463d-a7c6-e3daeac80b4d')\"\n",
              "              title=\"Convert this dataframe to an interactive table.\"\n",
              "              style=\"display:none;\">\n",
              "        \n",
              "  <svg xmlns=\"http://www.w3.org/2000/svg\" height=\"24px\"viewBox=\"0 0 24 24\"\n",
              "       width=\"24px\">\n",
              "    <path d=\"M0 0h24v24H0V0z\" fill=\"none\"/>\n",
              "    <path d=\"M18.56 5.44l.94 2.06.94-2.06 2.06-.94-2.06-.94-.94-2.06-.94 2.06-2.06.94zm-11 1L8.5 8.5l.94-2.06 2.06-.94-2.06-.94L8.5 2.5l-.94 2.06-2.06.94zm10 10l.94 2.06.94-2.06 2.06-.94-2.06-.94-.94-2.06-.94 2.06-2.06.94z\"/><path d=\"M17.41 7.96l-1.37-1.37c-.4-.4-.92-.59-1.43-.59-.52 0-1.04.2-1.43.59L10.3 9.45l-7.72 7.72c-.78.78-.78 2.05 0 2.83L4 21.41c.39.39.9.59 1.41.59.51 0 1.02-.2 1.41-.59l7.78-7.78 2.81-2.81c.8-.78.8-2.07 0-2.86zM5.41 20L4 18.59l7.72-7.72 1.47 1.35L5.41 20z\"/>\n",
              "  </svg>\n",
              "      </button>\n",
              "      \n",
              "  <style>\n",
              "    .colab-df-container {\n",
              "      display:flex;\n",
              "      flex-wrap:wrap;\n",
              "      gap: 12px;\n",
              "    }\n",
              "\n",
              "    .colab-df-convert {\n",
              "      background-color: #E8F0FE;\n",
              "      border: none;\n",
              "      border-radius: 50%;\n",
              "      cursor: pointer;\n",
              "      display: none;\n",
              "      fill: #1967D2;\n",
              "      height: 32px;\n",
              "      padding: 0 0 0 0;\n",
              "      width: 32px;\n",
              "    }\n",
              "\n",
              "    .colab-df-convert:hover {\n",
              "      background-color: #E2EBFA;\n",
              "      box-shadow: 0px 1px 2px rgba(60, 64, 67, 0.3), 0px 1px 3px 1px rgba(60, 64, 67, 0.15);\n",
              "      fill: #174EA6;\n",
              "    }\n",
              "\n",
              "    [theme=dark] .colab-df-convert {\n",
              "      background-color: #3B4455;\n",
              "      fill: #D2E3FC;\n",
              "    }\n",
              "\n",
              "    [theme=dark] .colab-df-convert:hover {\n",
              "      background-color: #434B5C;\n",
              "      box-shadow: 0px 1px 3px 1px rgba(0, 0, 0, 0.15);\n",
              "      filter: drop-shadow(0px 1px 2px rgba(0, 0, 0, 0.3));\n",
              "      fill: #FFFFFF;\n",
              "    }\n",
              "  </style>\n",
              "\n",
              "      <script>\n",
              "        const buttonEl =\n",
              "          document.querySelector('#df-78836c7d-65e4-463d-a7c6-e3daeac80b4d button.colab-df-convert');\n",
              "        buttonEl.style.display =\n",
              "          google.colab.kernel.accessAllowed ? 'block' : 'none';\n",
              "\n",
              "        async function convertToInteractive(key) {\n",
              "          const element = document.querySelector('#df-78836c7d-65e4-463d-a7c6-e3daeac80b4d');\n",
              "          const dataTable =\n",
              "            await google.colab.kernel.invokeFunction('convertToInteractive',\n",
              "                                                     [key], {});\n",
              "          if (!dataTable) return;\n",
              "\n",
              "          const docLinkHtml = 'Like what you see? Visit the ' +\n",
              "            '<a target=\"_blank\" href=https://colab.research.google.com/notebooks/data_table.ipynb>data table notebook</a>'\n",
              "            + ' to learn more about interactive tables.';\n",
              "          element.innerHTML = '';\n",
              "          dataTable['output_type'] = 'display_data';\n",
              "          await google.colab.output.renderOutput(dataTable, element);\n",
              "          const docLink = document.createElement('div');\n",
              "          docLink.innerHTML = docLinkHtml;\n",
              "          element.appendChild(docLink);\n",
              "        }\n",
              "      </script>\n",
              "    </div>\n",
              "  </div>\n",
              "  "
            ]
          },
          "metadata": {},
          "execution_count": 214
        }
      ]
    },
    {
      "cell_type": "code",
      "source": [
        "X_test = X_test[col]\n",
        "X_test.head()"
      ],
      "metadata": {
        "colab": {
          "base_uri": "https://localhost:8080/",
          "height": 369
        },
        "id": "3nXHf6xARUk6",
        "outputId": "72bb1f3a-4d90-4972-a64e-9c961cd4bf84"
      },
      "execution_count": 215,
      "outputs": [
        {
          "output_type": "execute_result",
          "data": {
            "text/plain": [
              "      Total Time Spent on Website  Lead Origin_Landing Page Submission  \\\n",
              "9124                    -0.398118                                    0   \n",
              "4392                    -0.887468                                    0   \n",
              "4072                    -0.675907                                    0   \n",
              "5551                    -0.887468                                    0   \n",
              "2778                     0.146422                                    0   \n",
              "\n",
              "      Lead Origin_Lead Add Form  What is your current occupation_Housewife  \\\n",
              "9124                          0                                          0   \n",
              "4392                          0                                          0   \n",
              "4072                          0                                          0   \n",
              "5551                          0                                          0   \n",
              "2778                          0                                          0   \n",
              "\n",
              "      What is your current occupation_Other  \\\n",
              "9124                                      0   \n",
              "4392                                      0   \n",
              "4072                                      0   \n",
              "5551                                      0   \n",
              "2778                                      0   \n",
              "\n",
              "      What is your current occupation_Unemployed  \\\n",
              "9124                                           0   \n",
              "4392                                           0   \n",
              "4072                                           1   \n",
              "5551                                           1   \n",
              "2778                                           1   \n",
              "\n",
              "      What is your current occupation_Working Professional  \\\n",
              "9124                                                  0      \n",
              "4392                                                  0      \n",
              "4072                                                  0      \n",
              "5551                                                  0      \n",
              "2778                                                  0      \n",
              "\n",
              "      What is your current occupation_not provided  \\\n",
              "9124                                             1   \n",
              "4392                                             0   \n",
              "4072                                             0   \n",
              "5551                                             0   \n",
              "2778                                             0   \n",
              "\n",
              "      Specialization_Rural and Agribusiness  \\\n",
              "9124                                      0   \n",
              "4392                                      0   \n",
              "4072                                      0   \n",
              "5551                                      0   \n",
              "2778                                      0   \n",
              "\n",
              "      Specialization_Travel and Tourism  ...  \\\n",
              "9124                                  0  ...   \n",
              "4392                                  0  ...   \n",
              "4072                                  0  ...   \n",
              "5551                                  0  ...   \n",
              "2778                                  0  ...   \n",
              "\n",
              "      Last Notable Activity_Email Link Clicked  \\\n",
              "9124                                         0   \n",
              "4392                                         0   \n",
              "4072                                         0   \n",
              "5551                                         0   \n",
              "2778                                         0   \n",
              "\n",
              "      Last Notable Activity_Modified  \\\n",
              "9124                               1   \n",
              "4392                               0   \n",
              "4072                               1   \n",
              "5551                               0   \n",
              "2778                               1   \n",
              "\n",
              "      Last Notable Activity_Olark Chat Conversation  Tags_Busy  \\\n",
              "9124                                              0          0   \n",
              "4392                                              0          0   \n",
              "4072                                              0          0   \n",
              "5551                                              0          0   \n",
              "2778                                              0          0   \n",
              "\n",
              "      Tags_Closed by Horizzon  Tags_Interested in other courses  \\\n",
              "9124                        0                                 0   \n",
              "4392                        0                                 0   \n",
              "4072                        0                                 0   \n",
              "5551                        0                                 0   \n",
              "2778                        0                                 1   \n",
              "\n",
              "      Tags_Lost to EINS  Tags_Other_Tags  Tags_Ringing  \\\n",
              "9124                  0                0             0   \n",
              "4392                  0                1             0   \n",
              "4072                  0                1             0   \n",
              "5551                  0                0             0   \n",
              "2778                  0                0             0   \n",
              "\n",
              "      Tags_Will revert after reading the email  \n",
              "9124                                         0  \n",
              "4392                                         0  \n",
              "4072                                         0  \n",
              "5551                                         1  \n",
              "2778                                         0  \n",
              "\n",
              "[5 rows x 29 columns]"
            ],
            "text/html": [
              "\n",
              "  <div id=\"df-3475f6de-88d4-412c-86d5-8fe74f5cb49f\">\n",
              "    <div class=\"colab-df-container\">\n",
              "      <div>\n",
              "<style scoped>\n",
              "    .dataframe tbody tr th:only-of-type {\n",
              "        vertical-align: middle;\n",
              "    }\n",
              "\n",
              "    .dataframe tbody tr th {\n",
              "        vertical-align: top;\n",
              "    }\n",
              "\n",
              "    .dataframe thead th {\n",
              "        text-align: right;\n",
              "    }\n",
              "</style>\n",
              "<table border=\"1\" class=\"dataframe\">\n",
              "  <thead>\n",
              "    <tr style=\"text-align: right;\">\n",
              "      <th></th>\n",
              "      <th>Total Time Spent on Website</th>\n",
              "      <th>Lead Origin_Landing Page Submission</th>\n",
              "      <th>Lead Origin_Lead Add Form</th>\n",
              "      <th>What is your current occupation_Housewife</th>\n",
              "      <th>What is your current occupation_Other</th>\n",
              "      <th>What is your current occupation_Unemployed</th>\n",
              "      <th>What is your current occupation_Working Professional</th>\n",
              "      <th>What is your current occupation_not provided</th>\n",
              "      <th>Specialization_Rural and Agribusiness</th>\n",
              "      <th>Specialization_Travel and Tourism</th>\n",
              "      <th>...</th>\n",
              "      <th>Last Notable Activity_Email Link Clicked</th>\n",
              "      <th>Last Notable Activity_Modified</th>\n",
              "      <th>Last Notable Activity_Olark Chat Conversation</th>\n",
              "      <th>Tags_Busy</th>\n",
              "      <th>Tags_Closed by Horizzon</th>\n",
              "      <th>Tags_Interested in other courses</th>\n",
              "      <th>Tags_Lost to EINS</th>\n",
              "      <th>Tags_Other_Tags</th>\n",
              "      <th>Tags_Ringing</th>\n",
              "      <th>Tags_Will revert after reading the email</th>\n",
              "    </tr>\n",
              "  </thead>\n",
              "  <tbody>\n",
              "    <tr>\n",
              "      <th>9124</th>\n",
              "      <td>-0.398118</td>\n",
              "      <td>0</td>\n",
              "      <td>0</td>\n",
              "      <td>0</td>\n",
              "      <td>0</td>\n",
              "      <td>0</td>\n",
              "      <td>0</td>\n",
              "      <td>1</td>\n",
              "      <td>0</td>\n",
              "      <td>0</td>\n",
              "      <td>...</td>\n",
              "      <td>0</td>\n",
              "      <td>1</td>\n",
              "      <td>0</td>\n",
              "      <td>0</td>\n",
              "      <td>0</td>\n",
              "      <td>0</td>\n",
              "      <td>0</td>\n",
              "      <td>0</td>\n",
              "      <td>0</td>\n",
              "      <td>0</td>\n",
              "    </tr>\n",
              "    <tr>\n",
              "      <th>4392</th>\n",
              "      <td>-0.887468</td>\n",
              "      <td>0</td>\n",
              "      <td>0</td>\n",
              "      <td>0</td>\n",
              "      <td>0</td>\n",
              "      <td>0</td>\n",
              "      <td>0</td>\n",
              "      <td>0</td>\n",
              "      <td>0</td>\n",
              "      <td>0</td>\n",
              "      <td>...</td>\n",
              "      <td>0</td>\n",
              "      <td>0</td>\n",
              "      <td>0</td>\n",
              "      <td>0</td>\n",
              "      <td>0</td>\n",
              "      <td>0</td>\n",
              "      <td>0</td>\n",
              "      <td>1</td>\n",
              "      <td>0</td>\n",
              "      <td>0</td>\n",
              "    </tr>\n",
              "    <tr>\n",
              "      <th>4072</th>\n",
              "      <td>-0.675907</td>\n",
              "      <td>0</td>\n",
              "      <td>0</td>\n",
              "      <td>0</td>\n",
              "      <td>0</td>\n",
              "      <td>1</td>\n",
              "      <td>0</td>\n",
              "      <td>0</td>\n",
              "      <td>0</td>\n",
              "      <td>0</td>\n",
              "      <td>...</td>\n",
              "      <td>0</td>\n",
              "      <td>1</td>\n",
              "      <td>0</td>\n",
              "      <td>0</td>\n",
              "      <td>0</td>\n",
              "      <td>0</td>\n",
              "      <td>0</td>\n",
              "      <td>1</td>\n",
              "      <td>0</td>\n",
              "      <td>0</td>\n",
              "    </tr>\n",
              "    <tr>\n",
              "      <th>5551</th>\n",
              "      <td>-0.887468</td>\n",
              "      <td>0</td>\n",
              "      <td>0</td>\n",
              "      <td>0</td>\n",
              "      <td>0</td>\n",
              "      <td>1</td>\n",
              "      <td>0</td>\n",
              "      <td>0</td>\n",
              "      <td>0</td>\n",
              "      <td>0</td>\n",
              "      <td>...</td>\n",
              "      <td>0</td>\n",
              "      <td>0</td>\n",
              "      <td>0</td>\n",
              "      <td>0</td>\n",
              "      <td>0</td>\n",
              "      <td>0</td>\n",
              "      <td>0</td>\n",
              "      <td>0</td>\n",
              "      <td>0</td>\n",
              "      <td>1</td>\n",
              "    </tr>\n",
              "    <tr>\n",
              "      <th>2778</th>\n",
              "      <td>0.146422</td>\n",
              "      <td>0</td>\n",
              "      <td>0</td>\n",
              "      <td>0</td>\n",
              "      <td>0</td>\n",
              "      <td>1</td>\n",
              "      <td>0</td>\n",
              "      <td>0</td>\n",
              "      <td>0</td>\n",
              "      <td>0</td>\n",
              "      <td>...</td>\n",
              "      <td>0</td>\n",
              "      <td>1</td>\n",
              "      <td>0</td>\n",
              "      <td>0</td>\n",
              "      <td>0</td>\n",
              "      <td>1</td>\n",
              "      <td>0</td>\n",
              "      <td>0</td>\n",
              "      <td>0</td>\n",
              "      <td>0</td>\n",
              "    </tr>\n",
              "  </tbody>\n",
              "</table>\n",
              "<p>5 rows × 29 columns</p>\n",
              "</div>\n",
              "      <button class=\"colab-df-convert\" onclick=\"convertToInteractive('df-3475f6de-88d4-412c-86d5-8fe74f5cb49f')\"\n",
              "              title=\"Convert this dataframe to an interactive table.\"\n",
              "              style=\"display:none;\">\n",
              "        \n",
              "  <svg xmlns=\"http://www.w3.org/2000/svg\" height=\"24px\"viewBox=\"0 0 24 24\"\n",
              "       width=\"24px\">\n",
              "    <path d=\"M0 0h24v24H0V0z\" fill=\"none\"/>\n",
              "    <path d=\"M18.56 5.44l.94 2.06.94-2.06 2.06-.94-2.06-.94-.94-2.06-.94 2.06-2.06.94zm-11 1L8.5 8.5l.94-2.06 2.06-.94-2.06-.94L8.5 2.5l-.94 2.06-2.06.94zm10 10l.94 2.06.94-2.06 2.06-.94-2.06-.94-.94-2.06-.94 2.06-2.06.94z\"/><path d=\"M17.41 7.96l-1.37-1.37c-.4-.4-.92-.59-1.43-.59-.52 0-1.04.2-1.43.59L10.3 9.45l-7.72 7.72c-.78.78-.78 2.05 0 2.83L4 21.41c.39.39.9.59 1.41.59.51 0 1.02-.2 1.41-.59l7.78-7.78 2.81-2.81c.8-.78.8-2.07 0-2.86zM5.41 20L4 18.59l7.72-7.72 1.47 1.35L5.41 20z\"/>\n",
              "  </svg>\n",
              "      </button>\n",
              "      \n",
              "  <style>\n",
              "    .colab-df-container {\n",
              "      display:flex;\n",
              "      flex-wrap:wrap;\n",
              "      gap: 12px;\n",
              "    }\n",
              "\n",
              "    .colab-df-convert {\n",
              "      background-color: #E8F0FE;\n",
              "      border: none;\n",
              "      border-radius: 50%;\n",
              "      cursor: pointer;\n",
              "      display: none;\n",
              "      fill: #1967D2;\n",
              "      height: 32px;\n",
              "      padding: 0 0 0 0;\n",
              "      width: 32px;\n",
              "    }\n",
              "\n",
              "    .colab-df-convert:hover {\n",
              "      background-color: #E2EBFA;\n",
              "      box-shadow: 0px 1px 2px rgba(60, 64, 67, 0.3), 0px 1px 3px 1px rgba(60, 64, 67, 0.15);\n",
              "      fill: #174EA6;\n",
              "    }\n",
              "\n",
              "    [theme=dark] .colab-df-convert {\n",
              "      background-color: #3B4455;\n",
              "      fill: #D2E3FC;\n",
              "    }\n",
              "\n",
              "    [theme=dark] .colab-df-convert:hover {\n",
              "      background-color: #434B5C;\n",
              "      box-shadow: 0px 1px 3px 1px rgba(0, 0, 0, 0.15);\n",
              "      filter: drop-shadow(0px 1px 2px rgba(0, 0, 0, 0.3));\n",
              "      fill: #FFFFFF;\n",
              "    }\n",
              "  </style>\n",
              "\n",
              "      <script>\n",
              "        const buttonEl =\n",
              "          document.querySelector('#df-3475f6de-88d4-412c-86d5-8fe74f5cb49f button.colab-df-convert');\n",
              "        buttonEl.style.display =\n",
              "          google.colab.kernel.accessAllowed ? 'block' : 'none';\n",
              "\n",
              "        async function convertToInteractive(key) {\n",
              "          const element = document.querySelector('#df-3475f6de-88d4-412c-86d5-8fe74f5cb49f');\n",
              "          const dataTable =\n",
              "            await google.colab.kernel.invokeFunction('convertToInteractive',\n",
              "                                                     [key], {});\n",
              "          if (!dataTable) return;\n",
              "\n",
              "          const docLinkHtml = 'Like what you see? Visit the ' +\n",
              "            '<a target=\"_blank\" href=https://colab.research.google.com/notebooks/data_table.ipynb>data table notebook</a>'\n",
              "            + ' to learn more about interactive tables.';\n",
              "          element.innerHTML = '';\n",
              "          dataTable['output_type'] = 'display_data';\n",
              "          await google.colab.output.renderOutput(dataTable, element);\n",
              "          const docLink = document.createElement('div');\n",
              "          docLink.innerHTML = docLinkHtml;\n",
              "          element.appendChild(docLink);\n",
              "        }\n",
              "      </script>\n",
              "    </div>\n",
              "  </div>\n",
              "  "
            ]
          },
          "metadata": {},
          "execution_count": 215
        }
      ]
    },
    {
      "cell_type": "code",
      "source": [
        "X_test_sm = sm.add_constant(X_test)"
      ],
      "metadata": {
        "id": "jcC0XCTYRWyZ"
      },
      "execution_count": 216,
      "outputs": []
    },
    {
      "cell_type": "code",
      "source": [
        "y_test_pred = res.predict(X_test_sm)"
      ],
      "metadata": {
        "id": "BfWGinqPRYgT"
      },
      "execution_count": 217,
      "outputs": []
    },
    {
      "cell_type": "code",
      "source": [
        "y_test_pred[:10]"
      ],
      "metadata": {
        "colab": {
          "base_uri": "https://localhost:8080/"
        },
        "id": "6h_mv2FaRZ33",
        "outputId": "7d218f0d-9b47-4cee-c3f0-6e43bcc4e598"
      },
      "execution_count": 218,
      "outputs": [
        {
          "output_type": "execute_result",
          "data": {
            "text/plain": [
              "9124    0.141050\n",
              "4392    0.011097\n",
              "4072    0.003279\n",
              "5551    0.962621\n",
              "2778    0.013054\n",
              "4193    0.003574\n",
              "8752    0.002113\n",
              "1635    0.000408\n",
              "7652    0.999395\n",
              "4766    0.479783\n",
              "dtype: float64"
            ]
          },
          "metadata": {},
          "execution_count": 218
        }
      ]
    },
    {
      "cell_type": "code",
      "source": [
        "# Converting y_pred to a dataframe which is an array\n",
        "y_pred_1 = pd.DataFrame(y_test_pred)"
      ],
      "metadata": {
        "id": "ON3rdJJRRbQ5"
      },
      "execution_count": 219,
      "outputs": []
    },
    {
      "cell_type": "code",
      "source": [
        "# Let's see the head\n",
        "y_pred_1.head()"
      ],
      "metadata": {
        "colab": {
          "base_uri": "https://localhost:8080/",
          "height": 206
        },
        "id": "WvqAfPCVRdKs",
        "outputId": "77f8bda6-eb96-410b-a2aa-e4af228ee442"
      },
      "execution_count": 220,
      "outputs": [
        {
          "output_type": "execute_result",
          "data": {
            "text/plain": [
              "             0\n",
              "9124  0.141050\n",
              "4392  0.011097\n",
              "4072  0.003279\n",
              "5551  0.962621\n",
              "2778  0.013054"
            ],
            "text/html": [
              "\n",
              "  <div id=\"df-a5059b2e-0246-489f-a27d-ddd3825c5217\">\n",
              "    <div class=\"colab-df-container\">\n",
              "      <div>\n",
              "<style scoped>\n",
              "    .dataframe tbody tr th:only-of-type {\n",
              "        vertical-align: middle;\n",
              "    }\n",
              "\n",
              "    .dataframe tbody tr th {\n",
              "        vertical-align: top;\n",
              "    }\n",
              "\n",
              "    .dataframe thead th {\n",
              "        text-align: right;\n",
              "    }\n",
              "</style>\n",
              "<table border=\"1\" class=\"dataframe\">\n",
              "  <thead>\n",
              "    <tr style=\"text-align: right;\">\n",
              "      <th></th>\n",
              "      <th>0</th>\n",
              "    </tr>\n",
              "  </thead>\n",
              "  <tbody>\n",
              "    <tr>\n",
              "      <th>9124</th>\n",
              "      <td>0.141050</td>\n",
              "    </tr>\n",
              "    <tr>\n",
              "      <th>4392</th>\n",
              "      <td>0.011097</td>\n",
              "    </tr>\n",
              "    <tr>\n",
              "      <th>4072</th>\n",
              "      <td>0.003279</td>\n",
              "    </tr>\n",
              "    <tr>\n",
              "      <th>5551</th>\n",
              "      <td>0.962621</td>\n",
              "    </tr>\n",
              "    <tr>\n",
              "      <th>2778</th>\n",
              "      <td>0.013054</td>\n",
              "    </tr>\n",
              "  </tbody>\n",
              "</table>\n",
              "</div>\n",
              "      <button class=\"colab-df-convert\" onclick=\"convertToInteractive('df-a5059b2e-0246-489f-a27d-ddd3825c5217')\"\n",
              "              title=\"Convert this dataframe to an interactive table.\"\n",
              "              style=\"display:none;\">\n",
              "        \n",
              "  <svg xmlns=\"http://www.w3.org/2000/svg\" height=\"24px\"viewBox=\"0 0 24 24\"\n",
              "       width=\"24px\">\n",
              "    <path d=\"M0 0h24v24H0V0z\" fill=\"none\"/>\n",
              "    <path d=\"M18.56 5.44l.94 2.06.94-2.06 2.06-.94-2.06-.94-.94-2.06-.94 2.06-2.06.94zm-11 1L8.5 8.5l.94-2.06 2.06-.94-2.06-.94L8.5 2.5l-.94 2.06-2.06.94zm10 10l.94 2.06.94-2.06 2.06-.94-2.06-.94-.94-2.06-.94 2.06-2.06.94z\"/><path d=\"M17.41 7.96l-1.37-1.37c-.4-.4-.92-.59-1.43-.59-.52 0-1.04.2-1.43.59L10.3 9.45l-7.72 7.72c-.78.78-.78 2.05 0 2.83L4 21.41c.39.39.9.59 1.41.59.51 0 1.02-.2 1.41-.59l7.78-7.78 2.81-2.81c.8-.78.8-2.07 0-2.86zM5.41 20L4 18.59l7.72-7.72 1.47 1.35L5.41 20z\"/>\n",
              "  </svg>\n",
              "      </button>\n",
              "      \n",
              "  <style>\n",
              "    .colab-df-container {\n",
              "      display:flex;\n",
              "      flex-wrap:wrap;\n",
              "      gap: 12px;\n",
              "    }\n",
              "\n",
              "    .colab-df-convert {\n",
              "      background-color: #E8F0FE;\n",
              "      border: none;\n",
              "      border-radius: 50%;\n",
              "      cursor: pointer;\n",
              "      display: none;\n",
              "      fill: #1967D2;\n",
              "      height: 32px;\n",
              "      padding: 0 0 0 0;\n",
              "      width: 32px;\n",
              "    }\n",
              "\n",
              "    .colab-df-convert:hover {\n",
              "      background-color: #E2EBFA;\n",
              "      box-shadow: 0px 1px 2px rgba(60, 64, 67, 0.3), 0px 1px 3px 1px rgba(60, 64, 67, 0.15);\n",
              "      fill: #174EA6;\n",
              "    }\n",
              "\n",
              "    [theme=dark] .colab-df-convert {\n",
              "      background-color: #3B4455;\n",
              "      fill: #D2E3FC;\n",
              "    }\n",
              "\n",
              "    [theme=dark] .colab-df-convert:hover {\n",
              "      background-color: #434B5C;\n",
              "      box-shadow: 0px 1px 3px 1px rgba(0, 0, 0, 0.15);\n",
              "      filter: drop-shadow(0px 1px 2px rgba(0, 0, 0, 0.3));\n",
              "      fill: #FFFFFF;\n",
              "    }\n",
              "  </style>\n",
              "\n",
              "      <script>\n",
              "        const buttonEl =\n",
              "          document.querySelector('#df-a5059b2e-0246-489f-a27d-ddd3825c5217 button.colab-df-convert');\n",
              "        buttonEl.style.display =\n",
              "          google.colab.kernel.accessAllowed ? 'block' : 'none';\n",
              "\n",
              "        async function convertToInteractive(key) {\n",
              "          const element = document.querySelector('#df-a5059b2e-0246-489f-a27d-ddd3825c5217');\n",
              "          const dataTable =\n",
              "            await google.colab.kernel.invokeFunction('convertToInteractive',\n",
              "                                                     [key], {});\n",
              "          if (!dataTable) return;\n",
              "\n",
              "          const docLinkHtml = 'Like what you see? Visit the ' +\n",
              "            '<a target=\"_blank\" href=https://colab.research.google.com/notebooks/data_table.ipynb>data table notebook</a>'\n",
              "            + ' to learn more about interactive tables.';\n",
              "          element.innerHTML = '';\n",
              "          dataTable['output_type'] = 'display_data';\n",
              "          await google.colab.output.renderOutput(dataTable, element);\n",
              "          const docLink = document.createElement('div');\n",
              "          docLink.innerHTML = docLinkHtml;\n",
              "          element.appendChild(docLink);\n",
              "        }\n",
              "      </script>\n",
              "    </div>\n",
              "  </div>\n",
              "  "
            ]
          },
          "metadata": {},
          "execution_count": 220
        }
      ]
    },
    {
      "cell_type": "code",
      "source": [
        "# Converting y_test to dataframe\n",
        "y_test_df = pd.DataFrame(y_test)"
      ],
      "metadata": {
        "id": "iu9e2SDwRfz8"
      },
      "execution_count": 221,
      "outputs": []
    },
    {
      "cell_type": "code",
      "source": [
        "# Putting CustID to index\n",
        "y_test_df['Prospect ID'] = y_test_df.index"
      ],
      "metadata": {
        "id": "k3fZFWfWRhap"
      },
      "execution_count": 222,
      "outputs": []
    },
    {
      "cell_type": "code",
      "source": [
        "# Removing index for both dataframes to append them side by side \n",
        "y_pred_1.reset_index(drop=True, inplace=True)\n",
        "y_test_df.reset_index(drop=True, inplace=True)"
      ],
      "metadata": {
        "id": "yM7bKXqCRjKo"
      },
      "execution_count": 223,
      "outputs": []
    },
    {
      "cell_type": "code",
      "source": [
        "# Appending y_test_df and y_pred_1\n",
        "y_pred_final = pd.concat([y_test_df, y_pred_1],axis=1)"
      ],
      "metadata": {
        "id": "O2DKJUNGRkxu"
      },
      "execution_count": 224,
      "outputs": []
    },
    {
      "cell_type": "code",
      "source": [
        "y_pred_final.head()"
      ],
      "metadata": {
        "colab": {
          "base_uri": "https://localhost:8080/",
          "height": 206
        },
        "id": "HFPhmGaSRmTP",
        "outputId": "a4b1844c-860f-4f92-f77a-f9f570ddcaeb"
      },
      "execution_count": 225,
      "outputs": [
        {
          "output_type": "execute_result",
          "data": {
            "text/plain": [
              "   Converted  Prospect ID         0\n",
              "0          0         9124  0.141050\n",
              "1          0         4392  0.011097\n",
              "2          0         4072  0.003279\n",
              "3          1         5551  0.962621\n",
              "4          0         2778  0.013054"
            ],
            "text/html": [
              "\n",
              "  <div id=\"df-7193d39a-ef25-4221-9ed3-0c287946f66f\">\n",
              "    <div class=\"colab-df-container\">\n",
              "      <div>\n",
              "<style scoped>\n",
              "    .dataframe tbody tr th:only-of-type {\n",
              "        vertical-align: middle;\n",
              "    }\n",
              "\n",
              "    .dataframe tbody tr th {\n",
              "        vertical-align: top;\n",
              "    }\n",
              "\n",
              "    .dataframe thead th {\n",
              "        text-align: right;\n",
              "    }\n",
              "</style>\n",
              "<table border=\"1\" class=\"dataframe\">\n",
              "  <thead>\n",
              "    <tr style=\"text-align: right;\">\n",
              "      <th></th>\n",
              "      <th>Converted</th>\n",
              "      <th>Prospect ID</th>\n",
              "      <th>0</th>\n",
              "    </tr>\n",
              "  </thead>\n",
              "  <tbody>\n",
              "    <tr>\n",
              "      <th>0</th>\n",
              "      <td>0</td>\n",
              "      <td>9124</td>\n",
              "      <td>0.141050</td>\n",
              "    </tr>\n",
              "    <tr>\n",
              "      <th>1</th>\n",
              "      <td>0</td>\n",
              "      <td>4392</td>\n",
              "      <td>0.011097</td>\n",
              "    </tr>\n",
              "    <tr>\n",
              "      <th>2</th>\n",
              "      <td>0</td>\n",
              "      <td>4072</td>\n",
              "      <td>0.003279</td>\n",
              "    </tr>\n",
              "    <tr>\n",
              "      <th>3</th>\n",
              "      <td>1</td>\n",
              "      <td>5551</td>\n",
              "      <td>0.962621</td>\n",
              "    </tr>\n",
              "    <tr>\n",
              "      <th>4</th>\n",
              "      <td>0</td>\n",
              "      <td>2778</td>\n",
              "      <td>0.013054</td>\n",
              "    </tr>\n",
              "  </tbody>\n",
              "</table>\n",
              "</div>\n",
              "      <button class=\"colab-df-convert\" onclick=\"convertToInteractive('df-7193d39a-ef25-4221-9ed3-0c287946f66f')\"\n",
              "              title=\"Convert this dataframe to an interactive table.\"\n",
              "              style=\"display:none;\">\n",
              "        \n",
              "  <svg xmlns=\"http://www.w3.org/2000/svg\" height=\"24px\"viewBox=\"0 0 24 24\"\n",
              "       width=\"24px\">\n",
              "    <path d=\"M0 0h24v24H0V0z\" fill=\"none\"/>\n",
              "    <path d=\"M18.56 5.44l.94 2.06.94-2.06 2.06-.94-2.06-.94-.94-2.06-.94 2.06-2.06.94zm-11 1L8.5 8.5l.94-2.06 2.06-.94-2.06-.94L8.5 2.5l-.94 2.06-2.06.94zm10 10l.94 2.06.94-2.06 2.06-.94-2.06-.94-.94-2.06-.94 2.06-2.06.94z\"/><path d=\"M17.41 7.96l-1.37-1.37c-.4-.4-.92-.59-1.43-.59-.52 0-1.04.2-1.43.59L10.3 9.45l-7.72 7.72c-.78.78-.78 2.05 0 2.83L4 21.41c.39.39.9.59 1.41.59.51 0 1.02-.2 1.41-.59l7.78-7.78 2.81-2.81c.8-.78.8-2.07 0-2.86zM5.41 20L4 18.59l7.72-7.72 1.47 1.35L5.41 20z\"/>\n",
              "  </svg>\n",
              "      </button>\n",
              "      \n",
              "  <style>\n",
              "    .colab-df-container {\n",
              "      display:flex;\n",
              "      flex-wrap:wrap;\n",
              "      gap: 12px;\n",
              "    }\n",
              "\n",
              "    .colab-df-convert {\n",
              "      background-color: #E8F0FE;\n",
              "      border: none;\n",
              "      border-radius: 50%;\n",
              "      cursor: pointer;\n",
              "      display: none;\n",
              "      fill: #1967D2;\n",
              "      height: 32px;\n",
              "      padding: 0 0 0 0;\n",
              "      width: 32px;\n",
              "    }\n",
              "\n",
              "    .colab-df-convert:hover {\n",
              "      background-color: #E2EBFA;\n",
              "      box-shadow: 0px 1px 2px rgba(60, 64, 67, 0.3), 0px 1px 3px 1px rgba(60, 64, 67, 0.15);\n",
              "      fill: #174EA6;\n",
              "    }\n",
              "\n",
              "    [theme=dark] .colab-df-convert {\n",
              "      background-color: #3B4455;\n",
              "      fill: #D2E3FC;\n",
              "    }\n",
              "\n",
              "    [theme=dark] .colab-df-convert:hover {\n",
              "      background-color: #434B5C;\n",
              "      box-shadow: 0px 1px 3px 1px rgba(0, 0, 0, 0.15);\n",
              "      filter: drop-shadow(0px 1px 2px rgba(0, 0, 0, 0.3));\n",
              "      fill: #FFFFFF;\n",
              "    }\n",
              "  </style>\n",
              "\n",
              "      <script>\n",
              "        const buttonEl =\n",
              "          document.querySelector('#df-7193d39a-ef25-4221-9ed3-0c287946f66f button.colab-df-convert');\n",
              "        buttonEl.style.display =\n",
              "          google.colab.kernel.accessAllowed ? 'block' : 'none';\n",
              "\n",
              "        async function convertToInteractive(key) {\n",
              "          const element = document.querySelector('#df-7193d39a-ef25-4221-9ed3-0c287946f66f');\n",
              "          const dataTable =\n",
              "            await google.colab.kernel.invokeFunction('convertToInteractive',\n",
              "                                                     [key], {});\n",
              "          if (!dataTable) return;\n",
              "\n",
              "          const docLinkHtml = 'Like what you see? Visit the ' +\n",
              "            '<a target=\"_blank\" href=https://colab.research.google.com/notebooks/data_table.ipynb>data table notebook</a>'\n",
              "            + ' to learn more about interactive tables.';\n",
              "          element.innerHTML = '';\n",
              "          dataTable['output_type'] = 'display_data';\n",
              "          await google.colab.output.renderOutput(dataTable, element);\n",
              "          const docLink = document.createElement('div');\n",
              "          docLink.innerHTML = docLinkHtml;\n",
              "          element.appendChild(docLink);\n",
              "        }\n",
              "      </script>\n",
              "    </div>\n",
              "  </div>\n",
              "  "
            ]
          },
          "metadata": {},
          "execution_count": 225
        }
      ]
    },
    {
      "cell_type": "code",
      "source": [
        "# Renaming the column \n",
        "y_pred_final= y_pred_final.rename(columns={ 0 : 'Converted_prob'})"
      ],
      "metadata": {
        "id": "SHRr43_wRnnu"
      },
      "execution_count": 226,
      "outputs": []
    },
    {
      "cell_type": "code",
      "source": [
        "y_pred_final.head()"
      ],
      "metadata": {
        "colab": {
          "base_uri": "https://localhost:8080/",
          "height": 206
        },
        "id": "bIs3DrPmRpDd",
        "outputId": "44537bf4-de5c-4b20-fdbd-035620bdb2a1"
      },
      "execution_count": 227,
      "outputs": [
        {
          "output_type": "execute_result",
          "data": {
            "text/plain": [
              "   Converted  Prospect ID  Converted_prob\n",
              "0          0         9124        0.141050\n",
              "1          0         4392        0.011097\n",
              "2          0         4072        0.003279\n",
              "3          1         5551        0.962621\n",
              "4          0         2778        0.013054"
            ],
            "text/html": [
              "\n",
              "  <div id=\"df-70846aa9-9a09-41b0-9e86-34142d84f6e5\">\n",
              "    <div class=\"colab-df-container\">\n",
              "      <div>\n",
              "<style scoped>\n",
              "    .dataframe tbody tr th:only-of-type {\n",
              "        vertical-align: middle;\n",
              "    }\n",
              "\n",
              "    .dataframe tbody tr th {\n",
              "        vertical-align: top;\n",
              "    }\n",
              "\n",
              "    .dataframe thead th {\n",
              "        text-align: right;\n",
              "    }\n",
              "</style>\n",
              "<table border=\"1\" class=\"dataframe\">\n",
              "  <thead>\n",
              "    <tr style=\"text-align: right;\">\n",
              "      <th></th>\n",
              "      <th>Converted</th>\n",
              "      <th>Prospect ID</th>\n",
              "      <th>Converted_prob</th>\n",
              "    </tr>\n",
              "  </thead>\n",
              "  <tbody>\n",
              "    <tr>\n",
              "      <th>0</th>\n",
              "      <td>0</td>\n",
              "      <td>9124</td>\n",
              "      <td>0.141050</td>\n",
              "    </tr>\n",
              "    <tr>\n",
              "      <th>1</th>\n",
              "      <td>0</td>\n",
              "      <td>4392</td>\n",
              "      <td>0.011097</td>\n",
              "    </tr>\n",
              "    <tr>\n",
              "      <th>2</th>\n",
              "      <td>0</td>\n",
              "      <td>4072</td>\n",
              "      <td>0.003279</td>\n",
              "    </tr>\n",
              "    <tr>\n",
              "      <th>3</th>\n",
              "      <td>1</td>\n",
              "      <td>5551</td>\n",
              "      <td>0.962621</td>\n",
              "    </tr>\n",
              "    <tr>\n",
              "      <th>4</th>\n",
              "      <td>0</td>\n",
              "      <td>2778</td>\n",
              "      <td>0.013054</td>\n",
              "    </tr>\n",
              "  </tbody>\n",
              "</table>\n",
              "</div>\n",
              "      <button class=\"colab-df-convert\" onclick=\"convertToInteractive('df-70846aa9-9a09-41b0-9e86-34142d84f6e5')\"\n",
              "              title=\"Convert this dataframe to an interactive table.\"\n",
              "              style=\"display:none;\">\n",
              "        \n",
              "  <svg xmlns=\"http://www.w3.org/2000/svg\" height=\"24px\"viewBox=\"0 0 24 24\"\n",
              "       width=\"24px\">\n",
              "    <path d=\"M0 0h24v24H0V0z\" fill=\"none\"/>\n",
              "    <path d=\"M18.56 5.44l.94 2.06.94-2.06 2.06-.94-2.06-.94-.94-2.06-.94 2.06-2.06.94zm-11 1L8.5 8.5l.94-2.06 2.06-.94-2.06-.94L8.5 2.5l-.94 2.06-2.06.94zm10 10l.94 2.06.94-2.06 2.06-.94-2.06-.94-.94-2.06-.94 2.06-2.06.94z\"/><path d=\"M17.41 7.96l-1.37-1.37c-.4-.4-.92-.59-1.43-.59-.52 0-1.04.2-1.43.59L10.3 9.45l-7.72 7.72c-.78.78-.78 2.05 0 2.83L4 21.41c.39.39.9.59 1.41.59.51 0 1.02-.2 1.41-.59l7.78-7.78 2.81-2.81c.8-.78.8-2.07 0-2.86zM5.41 20L4 18.59l7.72-7.72 1.47 1.35L5.41 20z\"/>\n",
              "  </svg>\n",
              "      </button>\n",
              "      \n",
              "  <style>\n",
              "    .colab-df-container {\n",
              "      display:flex;\n",
              "      flex-wrap:wrap;\n",
              "      gap: 12px;\n",
              "    }\n",
              "\n",
              "    .colab-df-convert {\n",
              "      background-color: #E8F0FE;\n",
              "      border: none;\n",
              "      border-radius: 50%;\n",
              "      cursor: pointer;\n",
              "      display: none;\n",
              "      fill: #1967D2;\n",
              "      height: 32px;\n",
              "      padding: 0 0 0 0;\n",
              "      width: 32px;\n",
              "    }\n",
              "\n",
              "    .colab-df-convert:hover {\n",
              "      background-color: #E2EBFA;\n",
              "      box-shadow: 0px 1px 2px rgba(60, 64, 67, 0.3), 0px 1px 3px 1px rgba(60, 64, 67, 0.15);\n",
              "      fill: #174EA6;\n",
              "    }\n",
              "\n",
              "    [theme=dark] .colab-df-convert {\n",
              "      background-color: #3B4455;\n",
              "      fill: #D2E3FC;\n",
              "    }\n",
              "\n",
              "    [theme=dark] .colab-df-convert:hover {\n",
              "      background-color: #434B5C;\n",
              "      box-shadow: 0px 1px 3px 1px rgba(0, 0, 0, 0.15);\n",
              "      filter: drop-shadow(0px 1px 2px rgba(0, 0, 0, 0.3));\n",
              "      fill: #FFFFFF;\n",
              "    }\n",
              "  </style>\n",
              "\n",
              "      <script>\n",
              "        const buttonEl =\n",
              "          document.querySelector('#df-70846aa9-9a09-41b0-9e86-34142d84f6e5 button.colab-df-convert');\n",
              "        buttonEl.style.display =\n",
              "          google.colab.kernel.accessAllowed ? 'block' : 'none';\n",
              "\n",
              "        async function convertToInteractive(key) {\n",
              "          const element = document.querySelector('#df-70846aa9-9a09-41b0-9e86-34142d84f6e5');\n",
              "          const dataTable =\n",
              "            await google.colab.kernel.invokeFunction('convertToInteractive',\n",
              "                                                     [key], {});\n",
              "          if (!dataTable) return;\n",
              "\n",
              "          const docLinkHtml = 'Like what you see? Visit the ' +\n",
              "            '<a target=\"_blank\" href=https://colab.research.google.com/notebooks/data_table.ipynb>data table notebook</a>'\n",
              "            + ' to learn more about interactive tables.';\n",
              "          element.innerHTML = '';\n",
              "          dataTable['output_type'] = 'display_data';\n",
              "          await google.colab.output.renderOutput(dataTable, element);\n",
              "          const docLink = document.createElement('div');\n",
              "          docLink.innerHTML = docLinkHtml;\n",
              "          element.appendChild(docLink);\n",
              "        }\n",
              "      </script>\n",
              "    </div>\n",
              "  </div>\n",
              "  "
            ]
          },
          "metadata": {},
          "execution_count": 227
        }
      ]
    },
    {
      "cell_type": "code",
      "source": [
        "# Rearranging the columns\n",
        "y_pred_final = y_pred_final[['Prospect ID','Converted','Converted_prob']]\n",
        "y_pred_final['Lead_Score'] = y_pred_final.Converted_prob.map( lambda x: round(x*100))"
      ],
      "metadata": {
        "id": "EZfpT2JuRqor"
      },
      "execution_count": 228,
      "outputs": []
    },
    {
      "cell_type": "code",
      "source": [
        "# Let's see the head of y_pred_final\n",
        "y_pred_final.head()"
      ],
      "metadata": {
        "colab": {
          "base_uri": "https://localhost:8080/",
          "height": 206
        },
        "id": "BzHLZWX2RsNa",
        "outputId": "7a8e8219-fbbb-4296-ab97-cbb2297e8d39"
      },
      "execution_count": 229,
      "outputs": [
        {
          "output_type": "execute_result",
          "data": {
            "text/plain": [
              "   Prospect ID  Converted  Converted_prob  Lead_Score\n",
              "0         9124          0        0.141050          14\n",
              "1         4392          0        0.011097           1\n",
              "2         4072          0        0.003279           0\n",
              "3         5551          1        0.962621          96\n",
              "4         2778          0        0.013054           1"
            ],
            "text/html": [
              "\n",
              "  <div id=\"df-41fa024b-debc-49eb-9536-a2900b52890f\">\n",
              "    <div class=\"colab-df-container\">\n",
              "      <div>\n",
              "<style scoped>\n",
              "    .dataframe tbody tr th:only-of-type {\n",
              "        vertical-align: middle;\n",
              "    }\n",
              "\n",
              "    .dataframe tbody tr th {\n",
              "        vertical-align: top;\n",
              "    }\n",
              "\n",
              "    .dataframe thead th {\n",
              "        text-align: right;\n",
              "    }\n",
              "</style>\n",
              "<table border=\"1\" class=\"dataframe\">\n",
              "  <thead>\n",
              "    <tr style=\"text-align: right;\">\n",
              "      <th></th>\n",
              "      <th>Prospect ID</th>\n",
              "      <th>Converted</th>\n",
              "      <th>Converted_prob</th>\n",
              "      <th>Lead_Score</th>\n",
              "    </tr>\n",
              "  </thead>\n",
              "  <tbody>\n",
              "    <tr>\n",
              "      <th>0</th>\n",
              "      <td>9124</td>\n",
              "      <td>0</td>\n",
              "      <td>0.141050</td>\n",
              "      <td>14</td>\n",
              "    </tr>\n",
              "    <tr>\n",
              "      <th>1</th>\n",
              "      <td>4392</td>\n",
              "      <td>0</td>\n",
              "      <td>0.011097</td>\n",
              "      <td>1</td>\n",
              "    </tr>\n",
              "    <tr>\n",
              "      <th>2</th>\n",
              "      <td>4072</td>\n",
              "      <td>0</td>\n",
              "      <td>0.003279</td>\n",
              "      <td>0</td>\n",
              "    </tr>\n",
              "    <tr>\n",
              "      <th>3</th>\n",
              "      <td>5551</td>\n",
              "      <td>1</td>\n",
              "      <td>0.962621</td>\n",
              "      <td>96</td>\n",
              "    </tr>\n",
              "    <tr>\n",
              "      <th>4</th>\n",
              "      <td>2778</td>\n",
              "      <td>0</td>\n",
              "      <td>0.013054</td>\n",
              "      <td>1</td>\n",
              "    </tr>\n",
              "  </tbody>\n",
              "</table>\n",
              "</div>\n",
              "      <button class=\"colab-df-convert\" onclick=\"convertToInteractive('df-41fa024b-debc-49eb-9536-a2900b52890f')\"\n",
              "              title=\"Convert this dataframe to an interactive table.\"\n",
              "              style=\"display:none;\">\n",
              "        \n",
              "  <svg xmlns=\"http://www.w3.org/2000/svg\" height=\"24px\"viewBox=\"0 0 24 24\"\n",
              "       width=\"24px\">\n",
              "    <path d=\"M0 0h24v24H0V0z\" fill=\"none\"/>\n",
              "    <path d=\"M18.56 5.44l.94 2.06.94-2.06 2.06-.94-2.06-.94-.94-2.06-.94 2.06-2.06.94zm-11 1L8.5 8.5l.94-2.06 2.06-.94-2.06-.94L8.5 2.5l-.94 2.06-2.06.94zm10 10l.94 2.06.94-2.06 2.06-.94-2.06-.94-.94-2.06-.94 2.06-2.06.94z\"/><path d=\"M17.41 7.96l-1.37-1.37c-.4-.4-.92-.59-1.43-.59-.52 0-1.04.2-1.43.59L10.3 9.45l-7.72 7.72c-.78.78-.78 2.05 0 2.83L4 21.41c.39.39.9.59 1.41.59.51 0 1.02-.2 1.41-.59l7.78-7.78 2.81-2.81c.8-.78.8-2.07 0-2.86zM5.41 20L4 18.59l7.72-7.72 1.47 1.35L5.41 20z\"/>\n",
              "  </svg>\n",
              "      </button>\n",
              "      \n",
              "  <style>\n",
              "    .colab-df-container {\n",
              "      display:flex;\n",
              "      flex-wrap:wrap;\n",
              "      gap: 12px;\n",
              "    }\n",
              "\n",
              "    .colab-df-convert {\n",
              "      background-color: #E8F0FE;\n",
              "      border: none;\n",
              "      border-radius: 50%;\n",
              "      cursor: pointer;\n",
              "      display: none;\n",
              "      fill: #1967D2;\n",
              "      height: 32px;\n",
              "      padding: 0 0 0 0;\n",
              "      width: 32px;\n",
              "    }\n",
              "\n",
              "    .colab-df-convert:hover {\n",
              "      background-color: #E2EBFA;\n",
              "      box-shadow: 0px 1px 2px rgba(60, 64, 67, 0.3), 0px 1px 3px 1px rgba(60, 64, 67, 0.15);\n",
              "      fill: #174EA6;\n",
              "    }\n",
              "\n",
              "    [theme=dark] .colab-df-convert {\n",
              "      background-color: #3B4455;\n",
              "      fill: #D2E3FC;\n",
              "    }\n",
              "\n",
              "    [theme=dark] .colab-df-convert:hover {\n",
              "      background-color: #434B5C;\n",
              "      box-shadow: 0px 1px 3px 1px rgba(0, 0, 0, 0.15);\n",
              "      filter: drop-shadow(0px 1px 2px rgba(0, 0, 0, 0.3));\n",
              "      fill: #FFFFFF;\n",
              "    }\n",
              "  </style>\n",
              "\n",
              "      <script>\n",
              "        const buttonEl =\n",
              "          document.querySelector('#df-41fa024b-debc-49eb-9536-a2900b52890f button.colab-df-convert');\n",
              "        buttonEl.style.display =\n",
              "          google.colab.kernel.accessAllowed ? 'block' : 'none';\n",
              "\n",
              "        async function convertToInteractive(key) {\n",
              "          const element = document.querySelector('#df-41fa024b-debc-49eb-9536-a2900b52890f');\n",
              "          const dataTable =\n",
              "            await google.colab.kernel.invokeFunction('convertToInteractive',\n",
              "                                                     [key], {});\n",
              "          if (!dataTable) return;\n",
              "\n",
              "          const docLinkHtml = 'Like what you see? Visit the ' +\n",
              "            '<a target=\"_blank\" href=https://colab.research.google.com/notebooks/data_table.ipynb>data table notebook</a>'\n",
              "            + ' to learn more about interactive tables.';\n",
              "          element.innerHTML = '';\n",
              "          dataTable['output_type'] = 'display_data';\n",
              "          await google.colab.output.renderOutput(dataTable, element);\n",
              "          const docLink = document.createElement('div');\n",
              "          docLink.innerHTML = docLinkHtml;\n",
              "          element.appendChild(docLink);\n",
              "        }\n",
              "      </script>\n",
              "    </div>\n",
              "  </div>\n",
              "  "
            ]
          },
          "metadata": {},
          "execution_count": 229
        }
      ]
    },
    {
      "cell_type": "code",
      "source": [
        "y_pred_final['final_Predicted'] = y_pred_final.Converted_prob.map(lambda x: 1 if x > 0.3 else 0)"
      ],
      "metadata": {
        "id": "Qx2JOc2URthW"
      },
      "execution_count": 230,
      "outputs": []
    },
    {
      "cell_type": "code",
      "source": [
        "y_pred_final.head()"
      ],
      "metadata": {
        "colab": {
          "base_uri": "https://localhost:8080/",
          "height": 206
        },
        "id": "ia4lDE9ARu8I",
        "outputId": "aac5c369-51d9-40ef-d562-5ed0d5cb7005"
      },
      "execution_count": 231,
      "outputs": [
        {
          "output_type": "execute_result",
          "data": {
            "text/plain": [
              "   Prospect ID  Converted  Converted_prob  Lead_Score  final_Predicted\n",
              "0         9124          0        0.141050          14                0\n",
              "1         4392          0        0.011097           1                0\n",
              "2         4072          0        0.003279           0                0\n",
              "3         5551          1        0.962621          96                1\n",
              "4         2778          0        0.013054           1                0"
            ],
            "text/html": [
              "\n",
              "  <div id=\"df-16bd84a7-80d3-46d6-b127-dfd6187e453f\">\n",
              "    <div class=\"colab-df-container\">\n",
              "      <div>\n",
              "<style scoped>\n",
              "    .dataframe tbody tr th:only-of-type {\n",
              "        vertical-align: middle;\n",
              "    }\n",
              "\n",
              "    .dataframe tbody tr th {\n",
              "        vertical-align: top;\n",
              "    }\n",
              "\n",
              "    .dataframe thead th {\n",
              "        text-align: right;\n",
              "    }\n",
              "</style>\n",
              "<table border=\"1\" class=\"dataframe\">\n",
              "  <thead>\n",
              "    <tr style=\"text-align: right;\">\n",
              "      <th></th>\n",
              "      <th>Prospect ID</th>\n",
              "      <th>Converted</th>\n",
              "      <th>Converted_prob</th>\n",
              "      <th>Lead_Score</th>\n",
              "      <th>final_Predicted</th>\n",
              "    </tr>\n",
              "  </thead>\n",
              "  <tbody>\n",
              "    <tr>\n",
              "      <th>0</th>\n",
              "      <td>9124</td>\n",
              "      <td>0</td>\n",
              "      <td>0.141050</td>\n",
              "      <td>14</td>\n",
              "      <td>0</td>\n",
              "    </tr>\n",
              "    <tr>\n",
              "      <th>1</th>\n",
              "      <td>4392</td>\n",
              "      <td>0</td>\n",
              "      <td>0.011097</td>\n",
              "      <td>1</td>\n",
              "      <td>0</td>\n",
              "    </tr>\n",
              "    <tr>\n",
              "      <th>2</th>\n",
              "      <td>4072</td>\n",
              "      <td>0</td>\n",
              "      <td>0.003279</td>\n",
              "      <td>0</td>\n",
              "      <td>0</td>\n",
              "    </tr>\n",
              "    <tr>\n",
              "      <th>3</th>\n",
              "      <td>5551</td>\n",
              "      <td>1</td>\n",
              "      <td>0.962621</td>\n",
              "      <td>96</td>\n",
              "      <td>1</td>\n",
              "    </tr>\n",
              "    <tr>\n",
              "      <th>4</th>\n",
              "      <td>2778</td>\n",
              "      <td>0</td>\n",
              "      <td>0.013054</td>\n",
              "      <td>1</td>\n",
              "      <td>0</td>\n",
              "    </tr>\n",
              "  </tbody>\n",
              "</table>\n",
              "</div>\n",
              "      <button class=\"colab-df-convert\" onclick=\"convertToInteractive('df-16bd84a7-80d3-46d6-b127-dfd6187e453f')\"\n",
              "              title=\"Convert this dataframe to an interactive table.\"\n",
              "              style=\"display:none;\">\n",
              "        \n",
              "  <svg xmlns=\"http://www.w3.org/2000/svg\" height=\"24px\"viewBox=\"0 0 24 24\"\n",
              "       width=\"24px\">\n",
              "    <path d=\"M0 0h24v24H0V0z\" fill=\"none\"/>\n",
              "    <path d=\"M18.56 5.44l.94 2.06.94-2.06 2.06-.94-2.06-.94-.94-2.06-.94 2.06-2.06.94zm-11 1L8.5 8.5l.94-2.06 2.06-.94-2.06-.94L8.5 2.5l-.94 2.06-2.06.94zm10 10l.94 2.06.94-2.06 2.06-.94-2.06-.94-.94-2.06-.94 2.06-2.06.94z\"/><path d=\"M17.41 7.96l-1.37-1.37c-.4-.4-.92-.59-1.43-.59-.52 0-1.04.2-1.43.59L10.3 9.45l-7.72 7.72c-.78.78-.78 2.05 0 2.83L4 21.41c.39.39.9.59 1.41.59.51 0 1.02-.2 1.41-.59l7.78-7.78 2.81-2.81c.8-.78.8-2.07 0-2.86zM5.41 20L4 18.59l7.72-7.72 1.47 1.35L5.41 20z\"/>\n",
              "  </svg>\n",
              "      </button>\n",
              "      \n",
              "  <style>\n",
              "    .colab-df-container {\n",
              "      display:flex;\n",
              "      flex-wrap:wrap;\n",
              "      gap: 12px;\n",
              "    }\n",
              "\n",
              "    .colab-df-convert {\n",
              "      background-color: #E8F0FE;\n",
              "      border: none;\n",
              "      border-radius: 50%;\n",
              "      cursor: pointer;\n",
              "      display: none;\n",
              "      fill: #1967D2;\n",
              "      height: 32px;\n",
              "      padding: 0 0 0 0;\n",
              "      width: 32px;\n",
              "    }\n",
              "\n",
              "    .colab-df-convert:hover {\n",
              "      background-color: #E2EBFA;\n",
              "      box-shadow: 0px 1px 2px rgba(60, 64, 67, 0.3), 0px 1px 3px 1px rgba(60, 64, 67, 0.15);\n",
              "      fill: #174EA6;\n",
              "    }\n",
              "\n",
              "    [theme=dark] .colab-df-convert {\n",
              "      background-color: #3B4455;\n",
              "      fill: #D2E3FC;\n",
              "    }\n",
              "\n",
              "    [theme=dark] .colab-df-convert:hover {\n",
              "      background-color: #434B5C;\n",
              "      box-shadow: 0px 1px 3px 1px rgba(0, 0, 0, 0.15);\n",
              "      filter: drop-shadow(0px 1px 2px rgba(0, 0, 0, 0.3));\n",
              "      fill: #FFFFFF;\n",
              "    }\n",
              "  </style>\n",
              "\n",
              "      <script>\n",
              "        const buttonEl =\n",
              "          document.querySelector('#df-16bd84a7-80d3-46d6-b127-dfd6187e453f button.colab-df-convert');\n",
              "        buttonEl.style.display =\n",
              "          google.colab.kernel.accessAllowed ? 'block' : 'none';\n",
              "\n",
              "        async function convertToInteractive(key) {\n",
              "          const element = document.querySelector('#df-16bd84a7-80d3-46d6-b127-dfd6187e453f');\n",
              "          const dataTable =\n",
              "            await google.colab.kernel.invokeFunction('convertToInteractive',\n",
              "                                                     [key], {});\n",
              "          if (!dataTable) return;\n",
              "\n",
              "          const docLinkHtml = 'Like what you see? Visit the ' +\n",
              "            '<a target=\"_blank\" href=https://colab.research.google.com/notebooks/data_table.ipynb>data table notebook</a>'\n",
              "            + ' to learn more about interactive tables.';\n",
              "          element.innerHTML = '';\n",
              "          dataTable['output_type'] = 'display_data';\n",
              "          await google.colab.output.renderOutput(dataTable, element);\n",
              "          const docLink = document.createElement('div');\n",
              "          docLink.innerHTML = docLinkHtml;\n",
              "          element.appendChild(docLink);\n",
              "        }\n",
              "      </script>\n",
              "    </div>\n",
              "  </div>\n",
              "  "
            ]
          },
          "metadata": {},
          "execution_count": 231
        }
      ]
    },
    {
      "cell_type": "code",
      "source": [
        "# Let's check the overall accuracy.\n",
        "metrics.accuracy_score(y_pred_final.Converted, y_pred_final.final_Predicted)"
      ],
      "metadata": {
        "colab": {
          "base_uri": "https://localhost:8080/"
        },
        "id": "taGXy-JDRwbT",
        "outputId": "de7d63f5-fb5c-419e-c411-1a55406af3f0"
      },
      "execution_count": 232,
      "outputs": [
        {
          "output_type": "execute_result",
          "data": {
            "text/plain": [
              "0.9307407407407408"
            ]
          },
          "metadata": {},
          "execution_count": 232
        }
      ]
    },
    {
      "cell_type": "code",
      "source": [
        "confusion2 = metrics.confusion_matrix(y_pred_final.Converted, y_pred_final.final_Predicted )\n",
        "confusion2"
      ],
      "metadata": {
        "colab": {
          "base_uri": "https://localhost:8080/"
        },
        "id": "38sZQf1jRyDy",
        "outputId": "570e072e-4136-4e3a-d45a-245cdb5a62d3"
      },
      "execution_count": 233,
      "outputs": [
        {
          "output_type": "execute_result",
          "data": {
            "text/plain": [
              "array([[1556,  123],\n",
              "       [  64,  957]])"
            ]
          },
          "metadata": {},
          "execution_count": 233
        }
      ]
    },
    {
      "cell_type": "code",
      "source": [
        "TP = confusion2[1,1] # true positive \n",
        "TN = confusion2[0,0] # true negatives\n",
        "FP = confusion2[0,1] # false positives\n",
        "FN = confusion2[1,0] # false negatives"
      ],
      "metadata": {
        "id": "u78MqKAHRzeH"
      },
      "execution_count": 234,
      "outputs": []
    },
    {
      "cell_type": "code",
      "source": [
        "# Let's see the sensitivity of our logistic regression model\n",
        "TP / float(TP+FN)"
      ],
      "metadata": {
        "colab": {
          "base_uri": "https://localhost:8080/"
        },
        "id": "Kf8lAAAuR25y",
        "outputId": "023450a9-c5fc-44aa-c8c2-2de7f1d627ca"
      },
      "execution_count": 235,
      "outputs": [
        {
          "output_type": "execute_result",
          "data": {
            "text/plain": [
              "0.9373163565132223"
            ]
          },
          "metadata": {},
          "execution_count": 235
        }
      ]
    },
    {
      "cell_type": "code",
      "source": [
        "# Let us calculate specificity\n",
        "TN / float(TN+FP)"
      ],
      "metadata": {
        "colab": {
          "base_uri": "https://localhost:8080/"
        },
        "id": "t6Jp0mUYR4bJ",
        "outputId": "c25df59f-a2d0-4c7a-aa75-fd809aaf94ad"
      },
      "execution_count": 236,
      "outputs": [
        {
          "output_type": "execute_result",
          "data": {
            "text/plain": [
              "0.9267421083978559"
            ]
          },
          "metadata": {},
          "execution_count": 236
        }
      ]
    },
    {
      "cell_type": "code",
      "source": [
        "precision_score(y_pred_final.Converted , y_pred_final.final_Predicted)"
      ],
      "metadata": {
        "colab": {
          "base_uri": "https://localhost:8080/"
        },
        "id": "sIsbZHU4R53c",
        "outputId": "3b5c05fb-e9c7-4cbb-c843-c5e03380ad8a"
      },
      "execution_count": 237,
      "outputs": [
        {
          "output_type": "execute_result",
          "data": {
            "text/plain": [
              "0.8861111111111111"
            ]
          },
          "metadata": {},
          "execution_count": 237
        }
      ]
    },
    {
      "cell_type": "code",
      "source": [
        "recall_score(y_pred_final.Converted, y_pred_final.final_Predicted)"
      ],
      "metadata": {
        "colab": {
          "base_uri": "https://localhost:8080/"
        },
        "id": "h-KbwqvgSBgi",
        "outputId": "962ede91-65e1-45b5-d810-807821d78d9f"
      },
      "execution_count": 238,
      "outputs": [
        {
          "output_type": "execute_result",
          "data": {
            "text/plain": [
              "0.9373163565132223"
            ]
          },
          "metadata": {},
          "execution_count": 238
        }
      ]
    },
    {
      "cell_type": "markdown",
      "source": [
        "Observation:\n",
        "After running the model on the Test Data these are the figures we obtain:\n",
        "\n",
        "Accuracy : 92.78%\n",
        "Sensitivity : 91.98%\n",
        "Specificity : 93.26%\n",
        "Final Observation:\n",
        "Let us compare the values obtained for Train & Test:\n",
        "\n",
        "Train Data: \n",
        "Accuracy : 92.29%\n",
        "Sensitivity : 91.70%\n",
        "Specificity : 92.66%\n",
        "Test Data: \n",
        "Accuracy : 92.78%\n",
        "Sensitivity : 91.98%\n",
        "Specificity : 93.26%\n",
        "The Model seems to predict the Conversion Rate very well and we should be able to give the CEO confidence in making good calls based on this model\n",
        "\n",
        " "
      ],
      "metadata": {
        "id": "n7-Snt9jSJ5I"
      }
    },
    {
      "cell_type": "code",
      "source": [],
      "metadata": {
        "id": "Z1pzvWb2SDCv"
      },
      "execution_count": null,
      "outputs": []
    }
  ]
}